{
 "cells": [
  {
   "cell_type": "code",
   "execution_count": 0,
   "metadata": {
    "colab": {},
    "colab_type": "code",
    "id": "YSRJr6FMHAIB"
   },
   "outputs": [],
   "source": [
    "!pip install tsundoku"
   ]
  },
  {
   "cell_type": "code",
   "execution_count": 0,
   "metadata": {
    "colab": {},
    "colab_type": "code",
    "id": "j3sFD_Q-HAIE"
   },
   "outputs": [],
   "source": [
    "!pip install sklearn torch tqdm nltk lazyme ansi requests gensim\n",
    "!python -m nltk.downloader movie_reviews punkt"
   ]
  },
  {
   "cell_type": "code",
   "execution_count": 0,
   "metadata": {
    "colab": {},
    "colab_type": "code",
    "id": "bMfIhsm9HAIH",
    "scrolled": false
   },
   "outputs": [],
   "source": [
    "from IPython.display import display, Markdown, Latex\n",
    "from tsundoku.word2vec_hints import *"
   ]
  },
  {
   "cell_type": "markdown",
   "metadata": {
    "colab_type": "text",
    "id": "jcNxTyz-HAII"
   },
   "source": [
    "# Overview\n",
    "\n",
    "\n",
    "- <a href=\"#section-3-0\">**3.0. Data Preparation**</a>\n",
    "  - <a href=\"#section-3-0-1\">3.0.1. *Vocabulary*</a>\n",
    "    - <a href=\"#section-3-0-1-a\"> Pet Peeve: using `gensim`</a>\n",
    "  - <a href=\"#section-3-0-2\">3.0.2. *Dataset*</a>  (<a href=\"#section-3-0-2-hints\">Hints</a>)\n",
    "    - <a href=\"#section-3-0-2-return-dict\">Return `dict` in `__getitem__()`</a>\n",
    "    - <a href=\"#section-3-0-2-labeleddata\">Try `LabeledDataset`</a>\n",
    "<br><br>\n",
    "- <a href=\"#section-3-1\">**3.1. Word2Vec from Scratch**</a>\n",
    "  - <a href=\"#section-3-1-1\">3.1.1. *CBOW*</a>\n",
    "  - <a href=\"#section-3-1-2\">3.1.2. *Skipgram*</a>\n",
    "  - <a href=\"#section-3-1-3\">3.1.3. *Word2Vec Dataset*</a> (<a href=\"#section-3-1-3-hint\">Hints</a>)\n",
    "  - <a href=\"#section-3-1-4-hint\">3.1.4. *Train a CBOW model*</a>\n",
    "    - <a href=\"#section-3-1-4-fill-cbow\">The CBOW model</a>\n",
    "    - <a href=\"#section-3-1-4-train-cbow\">Train the model (*for real*)</a>\n",
    "    - <a href=\"#section-3-1-4-evaluate-cbow\">Evaluate the model</a>\n",
    "    - <a href=\"#section-3-1-4-load-model\">Load model at specific epoch</a>\n",
    "  - <a href=\"#section-3-1-5\">3.1.5. *Train a Skipgram model*</a>\n",
    "    - <a href=\"#section-3-1-5-forward\">Take a closer look at `forward()`</a>\n",
    "    - <a href=\"#section-3-1-5-train\">Train the model (*for real*)</a>\n",
    "    - <a href=\"section-3-1-5-evaluate\">Evaluate the model</a>\n",
    "  - <a href=\"#section-3-1-6\">3.1.6. *Loading Pre-trained Embeddings*</a>\n",
    "    - <a href=\"#section-3-1-6-vocab\">Override the Embedding vocabulary</a>\n",
    "    - <a href=\"#section-3-1-6-pretrained\">Override the Embedding weights</a>\n",
    "    - <a href=\"#section-3-1-6-eval-skipgram\">Evaluate on the Skipgram task</a>\n",
    "    - <a href=\"#section-3-1-6-eval-cbow\">Evaluate on the CBOW task</a>\n",
    "    - <a href=\"#section-3-1-6-unfreeze-finetune\">Unfreeeze and finetune</a>\n",
    "    - <a href=\"#section-3-1-6-reval-cbow\">Re-evaluate on the CBOW task</a>\n",
    "<br><br>\n"
   ]
  },
  {
   "cell_type": "markdown",
   "metadata": {
    "colab_type": "text",
    "id": "IgogNA_4HAIK"
   },
   "source": [
    "<a id=\"section-3-0\"></a>\n",
    "# 3.0. Data Preparation\n",
    "\n",
    "Before we train our own embeddings, lets first understand how to read text data into pytorch.\n",
    "The native pytorch way to load datasets is to use the `torch.utils.data.Dataset` object.\n",
    "\n",
    "There are already several other libraries that help with loading text datasets, e.g. \n",
    "\n",
    " - FastAI https://docs.fast.ai/text.data.html\n",
    " - AllenNLP https://allenai.github.io/allennlp-docs/api/allennlp.data.dataset.html\n",
    " - Torch Text https://github.com/pytorch/text#data\n",
    " - Texar https://texar.readthedocs.io/en/latest/code/data.html#id4 \n",
    " - SpaCy https://github.com/explosion/thinc\n",
    " \n",
    "\n",
    "But to truly understand and use it for the custom datasets you'll see at work, lets learn it the native way."
   ]
  },
  {
   "cell_type": "markdown",
   "metadata": {
    "colab_type": "text",
    "id": "nBuDtrsfHAIK"
   },
   "source": [
    "<a id=\"section-3-0-1\"></a>\n",
    "## 3.0.1  Vocabulary\n",
    "\n",
    "Given a text, the first thing to do is to build a vocabulary (i.e. a dictionary of unique words) and assign an index to each unique word."
   ]
  },
  {
   "cell_type": "code",
   "execution_count": 3,
   "metadata": {
    "colab": {},
    "colab_type": "code",
    "id": "dRRKjvgdHAIL"
   },
   "outputs": [],
   "source": [
    "import random\n",
    "from itertools import chain\n",
    "\n",
    "from tqdm import tqdm\n",
    "from gensim.corpora import Dictionary\n",
    "\n",
    "import torch\n",
    "from torch import nn, optim, tensor, autograd\n",
    "from torch.nn import functional as F\n",
    "from torch.utils.data import Dataset\n",
    "import numpy as np\n",
    "\n",
    "from functools import partial\n",
    "from torch.utils.data import Dataset, DataLoader\n",
    "from torch import functional as F\n"
   ]
  },
  {
   "cell_type": "code",
   "execution_count": 4,
   "metadata": {
    "colab": {},
    "colab_type": "code",
    "id": "hdW-wU64HAIM"
   },
   "outputs": [],
   "source": [
    "try: # Use the default NLTK tokenizer.\n",
    "    from nltk import word_tokenize, sent_tokenize \n",
    "    # Testing whether it works. \n",
    "    # Sometimes it doesn't work on some machines because of setup issues.\n",
    "    word_tokenize(sent_tokenize(\"This is a foobar sentence. Yes it is.\")[0])\n",
    "except: # Use a naive sentence tokenizer and toktok.\n",
    "    import re\n",
    "    from nltk.tokenize import ToktokTokenizer\n",
    "    # See https://stackoverflow.com/a/25736515/610569\n",
    "    sent_tokenize = lambda x: re.split(r'(?<=[^A-Z].[.?]) +(?=[A-Z])', x)\n",
    "    # Use the toktok tokenizer that requires no dependencies.\n",
    "    toktok = ToktokTokenizer()\n",
    "    word_tokenize = word_tokenize = toktok.tokenize\n"
   ]
  },
  {
   "cell_type": "code",
   "execution_count": 0,
   "metadata": {
    "colab": {},
    "colab_type": "code",
    "id": "xtDJBSPNHAIO"
   },
   "outputs": [],
   "source": [
    "\n",
    "text = \"\"\"Language users never choose words randomly, and language is essentially\n",
    "non-random. Statistical hypothesis testing uses a null hypothesis, which\n",
    "posits randomness. Hence, when we look at linguistic phenomena in corpora, \n",
    "the null hypothesis will never be true. Moreover, where there is enough\n",
    "data, we shall (almost) always be able to establish that it is not true. In\n",
    "corpus studies, we frequently do have enough data, so the fact that a relation \n",
    "between two phenomena is demonstrably non-random, does not support the inference \n",
    "that it is not arbitrary. We present experimental evidence\n",
    "of how arbitrary associations between word frequencies and corpora are\n",
    "systematically non-random. We review literature in which hypothesis testing \n",
    "has been used, and show how it has often led to unhelpful or misleading results.\"\"\".lower()\n",
    "\n",
    "tokenized_text = [word_tokenize(sent) for sent in sent_tokenize(text)]\n",
    "\n",
    "uniq_tokens = set(chain(*tokenized_text))\n",
    "\n",
    "vocab = {}   # Assign indices to every word.\n",
    "idx2tok = {} # Also keep an dict of index to words.\n",
    "for i, token in enumerate(uniq_tokens):\n",
    "    vocab[token] = i\n",
    "    idx2tok[i] = token"
   ]
  },
  {
   "cell_type": "code",
   "execution_count": 0,
   "metadata": {
    "colab": {},
    "colab_type": "code",
    "id": "i_QntiwpHAIR",
    "outputId": "c15a5a33-21e9-46f3-e782-2028bc0e3de0",
    "scrolled": true
   },
   "outputs": [
    {
     "data": {
      "text/plain": [
       "{'corpora': 0,\n",
       " 'corpus': 1,\n",
       " '.': 2,\n",
       " 'unhelpful': 3,\n",
       " 'relation': 4,\n",
       " 'it': 5,\n",
       " 'never': 6,\n",
       " 'the': 7,\n",
       " 'not': 8,\n",
       " 'used': 9,\n",
       " 'and': 10,\n",
       " 'hypothesis': 11,\n",
       " 'support': 12,\n",
       " 'linguistic': 13,\n",
       " 'language': 14,\n",
       " 'which': 15,\n",
       " 'will': 16,\n",
       " 'in': 17,\n",
       " 'true': 18,\n",
       " 'words': 19,\n",
       " 'experimental': 20,\n",
       " 'of': 21,\n",
       " 'always': 22,\n",
       " 'null': 23,\n",
       " 'associations': 24,\n",
       " 'or': 25,\n",
       " '(': 26,\n",
       " 'able': 27,\n",
       " 'been': 28,\n",
       " 'show': 29,\n",
       " 'how': 30,\n",
       " 'choose': 31,\n",
       " 'often': 32,\n",
       " 'frequencies': 33,\n",
       " 'misleading': 34,\n",
       " 'do': 35,\n",
       " 'has': 36,\n",
       " 'led': 37,\n",
       " 'non-random': 38,\n",
       " 'randomness': 39,\n",
       " 'data': 40,\n",
       " 'does': 41,\n",
       " 'where': 42,\n",
       " 'inference': 43,\n",
       " 'shall': 44,\n",
       " 'demonstrably': 45,\n",
       " 'that': 46,\n",
       " 'there': 47,\n",
       " 'users': 48,\n",
       " 'establish': 49,\n",
       " 'at': 50,\n",
       " 'testing': 51,\n",
       " 'two': 52,\n",
       " 'studies': 53,\n",
       " 'hence': 54,\n",
       " 'literature': 55,\n",
       " 'so': 56,\n",
       " 'systematically': 57,\n",
       " ')': 58,\n",
       " 'we': 59,\n",
       " ',': 60,\n",
       " 'arbitrary': 61,\n",
       " 'look': 62,\n",
       " 'enough': 63,\n",
       " 'essentially': 64,\n",
       " 'uses': 65,\n",
       " 'statistical': 66,\n",
       " 'when': 67,\n",
       " 'almost': 68,\n",
       " 'moreover': 69,\n",
       " 'to': 70,\n",
       " 'fact': 71,\n",
       " 'between': 72,\n",
       " 'have': 73,\n",
       " 'posits': 74,\n",
       " 'phenomena': 75,\n",
       " 'be': 76,\n",
       " 'word': 77,\n",
       " 'results': 78,\n",
       " 'randomly': 79,\n",
       " 'frequently': 80,\n",
       " 'evidence': 81,\n",
       " 'present': 82,\n",
       " 'is': 83,\n",
       " 'a': 84,\n",
       " 'are': 85,\n",
       " 'review': 86}"
      ]
     },
     "execution_count": 7,
     "metadata": {
      "tags": []
     },
     "output_type": "execute_result"
    }
   ],
   "source": [
    "vocab"
   ]
  },
  {
   "cell_type": "code",
   "execution_count": 0,
   "metadata": {
    "colab": {},
    "colab_type": "code",
    "id": "saDeNLfqHAIV",
    "outputId": "d2ee5161-86bf-4b1c-c3a5-6cd3939d9e27"
   },
   "outputs": [
    {
     "data": {
      "text/plain": [
       "38"
      ]
     },
     "execution_count": 8,
     "metadata": {
      "tags": []
     },
     "output_type": "execute_result"
    }
   ],
   "source": [
    "# Retrieve the index of the word 'corpora'\n",
    "vocab['non-random']"
   ]
  },
  {
   "cell_type": "code",
   "execution_count": 0,
   "metadata": {
    "colab": {},
    "colab_type": "code",
    "id": "kY7UzMSRHAIX",
    "outputId": "4d2e48cf-2ed7-496a-e301-699d75db9680"
   },
   "outputs": [
    {
     "data": {
      "text/plain": [
       "[14, 48, 6, 31, 19, 79, 60, 10, 14, 83, 64, 38, 2]"
      ]
     },
     "execution_count": 9,
     "metadata": {
      "tags": []
     },
     "output_type": "execute_result"
    }
   ],
   "source": [
    "# The indexed representation of the first sentence.\n",
    "\n",
    "sent0 = tokenized_text[0]\n",
    "\n",
    "[vocab[token] for token in sent0] "
   ]
  },
  {
   "cell_type": "markdown",
   "metadata": {
    "colab_type": "text",
    "id": "dZOa3f3RHAIa"
   },
   "source": [
    "<a id=\"section-3-0-1-a\"></a>\n",
    "\n",
    "### Pet Peeve (Gensim)\n",
    "\n",
    "I (Liling) don't really like to write my own vectorizer the `gensim` has functions that are optimized for such operations. In fact, I've written a [whole preprocessing pipeline library for me to use for language modelling and machine translation purposes](https://github.com/alvations/komorebi/blob/master/komorebi/text.py) =)\n",
    "\n",
    "Using `gensim`, I would have written the above as such:"
   ]
  },
  {
   "cell_type": "code",
   "execution_count": 0,
   "metadata": {
    "colab": {},
    "colab_type": "code",
    "id": "pL36b-azHAId"
   },
   "outputs": [],
   "source": [
    "from gensim.corpora.dictionary import Dictionary\n",
    "vocab = Dictionary(tokenized_text)"
   ]
  },
  {
   "cell_type": "code",
   "execution_count": 0,
   "metadata": {
    "colab": {},
    "colab_type": "code",
    "id": "uegCsbqqHAIg",
    "outputId": "e5e72187-af67-4cbf-9f1e-05ade01cf946",
    "scrolled": true
   },
   "outputs": [
    {
     "data": {
      "text/plain": [
       "{0: ',',\n",
       " 1: '.',\n",
       " 2: 'and',\n",
       " 3: 'choose',\n",
       " 4: 'essentially',\n",
       " 5: 'is',\n",
       " 6: 'language',\n",
       " 7: 'never',\n",
       " 8: 'non-random',\n",
       " 9: 'randomly',\n",
       " 10: 'users',\n",
       " 11: 'words',\n",
       " 12: 'a',\n",
       " 13: 'hypothesis',\n",
       " 14: 'null',\n",
       " 15: 'posits',\n",
       " 16: 'randomness',\n",
       " 17: 'statistical',\n",
       " 18: 'testing',\n",
       " 19: 'uses',\n",
       " 20: 'which',\n",
       " 21: 'at',\n",
       " 22: 'be',\n",
       " 23: 'corpora',\n",
       " 24: 'hence',\n",
       " 25: 'in',\n",
       " 26: 'linguistic',\n",
       " 27: 'look',\n",
       " 28: 'phenomena',\n",
       " 29: 'the',\n",
       " 30: 'true',\n",
       " 31: 'we',\n",
       " 32: 'when',\n",
       " 33: 'will',\n",
       " 34: '(',\n",
       " 35: ')',\n",
       " 36: 'able',\n",
       " 37: 'almost',\n",
       " 38: 'always',\n",
       " 39: 'data',\n",
       " 40: 'enough',\n",
       " 41: 'establish',\n",
       " 42: 'it',\n",
       " 43: 'moreover',\n",
       " 44: 'not',\n",
       " 45: 'shall',\n",
       " 46: 'that',\n",
       " 47: 'there',\n",
       " 48: 'to',\n",
       " 49: 'where',\n",
       " 50: 'arbitrary',\n",
       " 51: 'between',\n",
       " 52: 'corpus',\n",
       " 53: 'demonstrably',\n",
       " 54: 'do',\n",
       " 55: 'does',\n",
       " 56: 'fact',\n",
       " 57: 'frequently',\n",
       " 58: 'have',\n",
       " 59: 'inference',\n",
       " 60: 'relation',\n",
       " 61: 'so',\n",
       " 62: 'studies',\n",
       " 63: 'support',\n",
       " 64: 'two',\n",
       " 65: 'are',\n",
       " 66: 'associations',\n",
       " 67: 'evidence',\n",
       " 68: 'experimental',\n",
       " 69: 'frequencies',\n",
       " 70: 'how',\n",
       " 71: 'of',\n",
       " 72: 'present',\n",
       " 73: 'systematically',\n",
       " 74: 'word',\n",
       " 75: 'been',\n",
       " 76: 'has',\n",
       " 77: 'led',\n",
       " 78: 'literature',\n",
       " 79: 'misleading',\n",
       " 80: 'often',\n",
       " 81: 'or',\n",
       " 82: 'results',\n",
       " 83: 'review',\n",
       " 84: 'show',\n",
       " 85: 'unhelpful',\n",
       " 86: 'used'}"
      ]
     },
     "execution_count": 11,
     "metadata": {
      "tags": []
     },
     "output_type": "execute_result"
    }
   ],
   "source": [
    "# Note the key-value order is different of gensim from the native Python's\n",
    "dict(vocab.items())"
   ]
  },
  {
   "cell_type": "code",
   "execution_count": 0,
   "metadata": {
    "colab": {},
    "colab_type": "code",
    "id": "GEcAMbOLHAIo",
    "outputId": "16346ac8-4771-4c71-adf8-5fc77d83faaa"
   },
   "outputs": [
    {
     "data": {
      "text/plain": [
       "23"
      ]
     },
     "execution_count": 12,
     "metadata": {
      "tags": []
     },
     "output_type": "execute_result"
    }
   ],
   "source": [
    "vocab.token2id['corpora']"
   ]
  },
  {
   "cell_type": "code",
   "execution_count": 0,
   "metadata": {
    "colab": {},
    "colab_type": "code",
    "id": "v7CQ2gbqHAIs",
    "outputId": "f5855372-e4f3-4236-b910-72a342dae641"
   },
   "outputs": [
    {
     "data": {
      "text/plain": [
       "[6, 10, 7, 3, 11, 9, 0, 2, 6, 5, 4, 8, 1]"
      ]
     },
     "execution_count": 13,
     "metadata": {
      "tags": []
     },
     "output_type": "execute_result"
    }
   ],
   "source": [
    "vocab.doc2idx(sent0)"
   ]
  },
  {
   "cell_type": "markdown",
   "metadata": {
    "colab_type": "text",
    "id": "k8_Dg_tMHAIv"
   },
   "source": [
    "The \"indexed form\" of the tokens in the sentence forms the ***vectorized*** input to the `nn.Embedding` layer in PyTorch."
   ]
  },
  {
   "cell_type": "markdown",
   "metadata": {
    "colab_type": "text",
    "id": "0ZGA2_RLHAIw"
   },
   "source": [
    "<a id=\"section-3-0-2\"></a>\n",
    "\n",
    "# 3.0.2 Dataset\n",
    "\n",
    "Lets try creating a `torch.utils.data.Dataset` object."
   ]
  },
  {
   "cell_type": "code",
   "execution_count": 0,
   "metadata": {
    "colab": {},
    "colab_type": "code",
    "id": "TLDrY4UDHAIx"
   },
   "outputs": [],
   "source": [
    "from torch.utils.data import Dataset, DataLoader\n",
    "\n",
    "class Text(Dataset):\n",
    "    def __init__(self, tokenized_texts):\n",
    "        \"\"\"\n",
    "        :param tokenized_texts: Tokenized text.\n",
    "        :type tokenized_texts: list(list(str))\n",
    "        \"\"\"\n",
    "        self.sents = tokenized_texts\n",
    "        self.vocab = Dictionary(tokenized_texts)\n",
    "\n",
    "    def __getitem__(self, index):\n",
    "        \"\"\"\n",
    "        The primary entry point for PyTorch datasets.\n",
    "        This is were you access the specific data row you want.\n",
    "        \n",
    "        :param index: Index to the data point.\n",
    "        :type index: int\n",
    "        \"\"\"\n",
    "        # Hint: You want to return a vectorized sentence here.\n",
    "        return {'x': self.???}\n",
    "\n",
    "    def vectorize(self, tokens):\n",
    "        \"\"\"\n",
    "        :param tokens: Tokens that should be vectorized. \n",
    "        :type tokens: list(str)\n",
    "        \"\"\"\n",
    "        # See https://radimrehurek.com/gensim/corpora/dictionary.html#gensim.corpora.dictionary.Dictionary.doc2idx \n",
    "        return self.???\n",
    "    \n",
    "    def unvectorize(self, indices):\n",
    "        \"\"\"\n",
    "        :param indices: Converts the indices back to tokens.\n",
    "        :type tokens: list(int)\n",
    "        \"\"\"\n",
    "        return [self.vocab[i] for i in indices]"
   ]
  },
  {
   "cell_type": "markdown",
   "metadata": {
    "colab_type": "text",
    "id": "rD0LtXVSHAI0"
   },
   "source": [
    "<a id=\"section-3-0-2-hints\"></a>\n",
    "## Hints to the above cell"
   ]
  },
  {
   "cell_type": "code",
   "execution_count": 0,
   "metadata": {
    "colab": {},
    "colab_type": "code",
    "id": "sYmg5cqJHAI1"
   },
   "outputs": [],
   "source": [
    "# Option 1: To see the hint and partial code for the cell above, uncomment the following line.\n",
    "##hint_dataset_vectorize()\n",
    "##code_text_dataset_vectorize()\n",
    "\n",
    "# Option 2: \"I give up just, run the code for me\" \n",
    "# Uncomment the next two lines, if you really gave up... \n",
    "#full_code_text_dataset_vectorize()\n",
    "#from tsundoku.word2vec import Text\n"
   ]
  },
  {
   "cell_type": "code",
   "execution_count": 0,
   "metadata": {
    "colab": {},
    "colab_type": "code",
    "id": "3trRgP9LHAI2",
    "outputId": "4c153e24-81ef-4abb-c967-0ffa401020e6"
   },
   "outputs": [
    {
     "data": {
      "text/plain": [
       "['we',\n",
       " 'present',\n",
       " 'experimental',\n",
       " 'evidence',\n",
       " 'of',\n",
       " 'how',\n",
       " 'arbitrary',\n",
       " 'associations',\n",
       " 'between',\n",
       " 'word',\n",
       " 'frequencies',\n",
       " 'and',\n",
       " 'corpora',\n",
       " 'are',\n",
       " 'systematically',\n",
       " 'non-random',\n",
       " '.']"
      ]
     },
     "execution_count": 17,
     "metadata": {
      "tags": []
     },
     "output_type": "execute_result"
    }
   ],
   "source": [
    "tokenized_text[5]"
   ]
  },
  {
   "cell_type": "code",
   "execution_count": 0,
   "metadata": {
    "colab": {},
    "colab_type": "code",
    "id": "6xHVvYSpHAI4"
   },
   "outputs": [],
   "source": [
    "text_dataset = Text(tokenized_text)"
   ]
  },
  {
   "cell_type": "code",
   "execution_count": 0,
   "metadata": {
    "colab": {},
    "colab_type": "code",
    "id": "rfupnp_cHAI5",
    "outputId": "9fbe524d-3791-4925-b6a9-6de0f8d6a09a"
   },
   "outputs": [
    {
     "data": {
      "text/plain": [
       "{'x': [31, 72, 68, 67, 71, 70, 50, 66, 51, 74, 69, 2, 23, 65, 73, 8, 1]}"
      ]
     },
     "execution_count": 19,
     "metadata": {
      "tags": []
     },
     "output_type": "execute_result"
    }
   ],
   "source": [
    "text_dataset[5] # First sentence."
   ]
  },
  {
   "cell_type": "markdown",
   "metadata": {
    "colab_type": "text",
    "id": "34a_siOHHAI9"
   },
   "source": [
    "<a id=\"section-3-0-2-return-dict\"></a>\n",
    "\n",
    "### Return `dict` in `__getitem__()`\n",
    "\n",
    "This is nice if we're just representing sentences/documents by their indices but when we're doing machine learning, we usually have `X` and `Y`. \n",
    "\n",
    "If we have labels for the each sentence, we can also put it into to `__getitem__()` by having it return a dictionary."
   ]
  },
  {
   "cell_type": "code",
   "execution_count": 0,
   "metadata": {
    "colab": {},
    "colab_type": "code",
    "id": "p3XTAsPGHAI-"
   },
   "outputs": [],
   "source": [
    "from torch.utils.data import Dataset, DataLoader\n",
    "\n",
    "class LabeledText(Dataset):\n",
    "    def __init__(self, tokenized_texts, labels):\n",
    "        \"\"\"\n",
    "        :param tokenized_texts: Tokenized text.\n",
    "        :type tokenized_texts: list(list(str))\n",
    "        \"\"\"\n",
    "        self.sents = tokenized_texts\n",
    "        self.labels = labels # Sentence level labels.\n",
    "        self.vocab = Dictionary(self.sents)\n",
    "\n",
    "    def __getitem__(self, index):\n",
    "        \"\"\"\n",
    "        The primary entry point for PyTorch datasets.\n",
    "        This is were you access the specific data row you want.\n",
    "        \n",
    "        :param index: Index to the data point.\n",
    "        :type index: int\n",
    "        \"\"\"\n",
    "        return {'x': self.vectorize(self.sents[index]), 'y': self.labels[index]}\n",
    "\n",
    "    def vectorize(self, tokens):\n",
    "        \"\"\"\n",
    "        :param tokens: Tokens that should be vectorized. \n",
    "        :type tokens: list(str)\n",
    "        \"\"\"\n",
    "        # See https://radimrehurek.com/gensim/corpora/dictionary.html#gensim.corpora.dictionary.Dictionary.doc2idx \n",
    "        return self.vocab.doc2idx(tokens)\n",
    "    \n",
    "    def unvectorize(self, indices):\n",
    "        \"\"\"\n",
    "        :param indices: Converts the indices back to tokens.\n",
    "        :type tokens: list(int)\n",
    "        \"\"\"\n",
    "        return [self.vocab[i] for i in indices]"
   ]
  },
  {
   "cell_type": "markdown",
   "metadata": {
    "colab_type": "text",
    "id": "93706NQMHAJB"
   },
   "source": [
    "<a id=\"section-3-0-2-labeleddata\"></a>\n",
    "\n",
    "### Lets try the `LabeledDataset` on a movie review corpus"
   ]
  },
  {
   "cell_type": "code",
   "execution_count": 0,
   "metadata": {
    "colab": {},
    "colab_type": "code",
    "id": "tZc9TAkaHAJD"
   },
   "outputs": [],
   "source": [
    "from nltk.corpus import movie_reviews"
   ]
  },
  {
   "cell_type": "code",
   "execution_count": 0,
   "metadata": {
    "colab": {},
    "colab_type": "code",
    "id": "dd2lVKPvHAJI",
    "outputId": "848c0622-d6ea-448c-d108-f7447ac01c06"
   },
   "outputs": [
    {
     "name": "stderr",
     "output_type": "stream",
     "text": [
      "100%|██████████| 2000/2000 [00:14<00:00, 139.99it/s]\n"
     ]
    }
   ],
   "source": [
    "documents = []\n",
    "labels = []\n",
    "\n",
    "for fileid in tqdm(movie_reviews.fileids()):\n",
    "    label = fileid.split('/')[0]\n",
    "    doc = word_tokenize(movie_reviews.open(fileid).read())\n",
    "    documents.append(doc)\n",
    "    labels.append(label)"
   ]
  },
  {
   "cell_type": "code",
   "execution_count": 0,
   "metadata": {
    "colab": {},
    "colab_type": "code",
    "id": "6v0H41lDHAJK",
    "outputId": "c33bb1e5-50d2-4c2d-d759-3fd2eccab2c9"
   },
   "outputs": [
    {
     "name": "stdout",
     "output_type": "stream",
     "text": [
      "['plot', ':', 'two', 'teen', 'couples', 'go', 'to', 'a', 'church', 'party', ',', 'drink', 'and', 'then', 'drive', '.', 'they', 'get', 'into', 'an', 'accident', '.', 'one', 'of', 'the', 'guys', 'dies', ',', 'but', 'his', 'girlfriend', 'continues', 'to', 'see', 'him', 'in', 'her', 'life', ',', 'and', 'has', 'nightmares', '.', 'what', \"'s\", 'the', 'deal', '?', 'watch', 'the', 'movie', 'and', '``', 'sorta', '``', 'find', 'out', '.', '.', '.', 'critique', ':', 'a', 'mind-fuck', 'movie', 'for', 'the', 'teen', 'generation', 'that', 'touches', 'on', 'a', 'very', 'cool', 'idea', ',', 'but', 'presents', 'it', 'in', 'a', 'very', 'bad', 'package', '.', 'which', 'is', 'what', 'makes', 'this', 'review', 'an', 'even', 'harder', 'one', 'to', 'write', ',', 'since', 'i', 'generally', 'applaud', 'films', 'which', 'attempt', 'to', 'break', 'the', 'mold', ',', 'mess', 'with', 'your', 'head', 'and', 'such', '(', 'lost', 'highway', '&', 'memento', ')', ',', 'but', 'there', 'are', 'good', 'and', 'bad', 'ways', 'of', 'making', 'all', 'types', 'of', 'films', ',', 'and', 'these', 'folks', 'just', 'did', \"n't\", 'snag', 'this', 'one', 'correctly', '.', 'they', 'seem', 'to', 'have', 'taken', 'this', 'pretty', 'neat', 'concept', ',', 'but', 'executed', 'it', 'terribly', '.', 'so', 'what', 'are', 'the', 'problems', 'with', 'the', 'movie', '?', 'well', ',', 'its', 'main', 'problem', 'is', 'that', 'it', \"'s\", 'simply', 'too', 'jumbled', '.', 'it', 'starts', 'off', '``', 'normal', '``', 'but', 'then', 'downshifts', 'into', 'this', '``', 'fantasy', '``', 'world', 'in', 'which', 'you', ',', 'as', 'an', 'audience', 'member', ',', 'have', 'no', 'idea', 'what', \"'s\", 'going', 'on', '.', 'there', 'are', 'dreams', ',', 'there', 'are', 'characters', 'coming', 'back', 'from', 'the', 'dead', ',', 'there', 'are', 'others', 'who', 'look', 'like', 'the', 'dead', ',', 'there', 'are', 'strange', 'apparitions', ',', 'there', 'are', 'disappearances', ',', 'there', 'are', 'a', 'looooot', 'of', 'chase', 'scenes', ',', 'there', 'are', 'tons', 'of', 'weird', 'things', 'that', 'happen', ',', 'and', 'most', 'of', 'it', 'is', 'simply', 'not', 'explained', '.', 'now', 'i', 'personally', 'do', \"n't\", 'mind', 'trying', 'to', 'unravel', 'a', 'film', 'every', 'now', 'and', 'then', ',', 'but', 'when', 'all', 'it', 'does', 'is', 'give', 'me', 'the', 'same', 'clue', 'over', 'and', 'over', 'again', ',', 'i', 'get', 'kind', 'of', 'fed', 'up', 'after', 'a', 'while', ',', 'which', 'is', 'this', 'film', \"'s\", 'biggest', 'problem', '.', 'it', \"'s\", 'obviously', 'got', 'this', 'big', 'secret', 'to', 'hide', ',', 'but', 'it', 'seems', 'to', 'want', 'to', 'hide', 'it', 'completely', 'until', 'its', 'final', 'five', 'minutes', '.', 'and', 'do', 'they', 'make', 'things', 'entertaining', ',', 'thrilling', 'or', 'even', 'engaging', ',', 'in', 'the', 'meantime', '?', 'not', 'really', '.', 'the', 'sad', 'part', 'is', 'that', 'the', 'arrow', 'and', 'i', 'both', 'dig', 'on', 'flicks', 'like', 'this', ',', 'so', 'we', 'actually', 'figured', 'most', 'of', 'it', 'out', 'by', 'the', 'half-way', 'point', ',', 'so', 'all', 'of', 'the', 'strangeness', 'after', 'that', 'did', 'start', 'to', 'make', 'a', 'little', 'bit', 'of', 'sense', ',', 'but', 'it', 'still', 'did', \"n't\", 'the', 'make', 'the', 'film', 'all', 'that', 'more', 'entertaining', '.', 'i', 'guess', 'the', 'bottom', 'line', 'with', 'movies', 'like', 'this', 'is', 'that', 'you', 'should', 'always', 'make', 'sure', 'that', 'the', 'audience', 'is', '``', 'into', 'it', '``', 'even', 'before', 'they', 'are', 'given', 'the', 'secret', 'password', 'to', 'enter', 'your', 'world', 'of', 'understanding', '.', 'i', 'mean', ',', 'showing', 'melissa', 'sagemiller', 'running', 'away', 'from', 'visions', 'for', 'about', '20', 'minutes', 'throughout', 'the', 'movie', 'is', 'just', 'plain', 'lazy', '!', '!', 'okay', ',', 'we', 'get', 'it', '.', '.', '.', 'there', 'are', 'people', 'chasing', 'her', 'and', 'we', 'do', \"n't\", 'know', 'who', 'they', 'are', '.', 'do', 'we', 'really', 'need', 'to', 'see', 'it', 'over', 'and', 'over', 'again', '?', 'how', 'about', 'giving', 'us', 'different', 'scenes', 'offering', 'further', 'insight', 'into', 'all', 'of', 'the', 'strangeness', 'going', 'down', 'in', 'the', 'movie', '?', 'apparently', ',', 'the', 'studio', 'took', 'this', 'film', 'away', 'from', 'its', 'director', 'and', 'chopped', 'it', 'up', 'themselves', ',', 'and', 'it', 'shows', '.', 'there', 'might', \"'ve\", 'been', 'a', 'pretty', 'decent', 'teen', 'mind-fuck', 'movie', 'in', 'here', 'somewhere', ',', 'but', 'i', 'guess', '``', 'the', 'suits', '``', 'decided', 'that', 'turning', 'it', 'into', 'a', 'music', 'video', 'with', 'little', 'edge', ',', 'would', 'make', 'more', 'sense', '.', 'the', 'actors', 'are', 'pretty', 'good', 'for', 'the', 'most', 'part', ',', 'although', 'wes', 'bentley', 'just', 'seemed', 'to', 'be', 'playing', 'the', 'exact', 'same', 'character', 'that', 'he', 'did', 'in', 'american', 'beauty', ',', 'only', 'in', 'a', 'new', 'neighborhood', '.', 'but', 'my', 'biggest', 'kudos', 'go', 'out', 'to', 'sagemiller', ',', 'who', 'holds', 'her', 'own', 'throughout', 'the', 'entire', 'film', ',', 'and', 'actually', 'has', 'you', 'feeling', 'her', 'character', \"'s\", 'unraveling', '.', 'overall', ',', 'the', 'film', 'does', \"n't\", 'stick', 'because', 'it', 'does', \"n't\", 'entertain', ',', 'it', \"'s\", 'confusing', ',', 'it', 'rarely', 'excites', 'and', 'it', 'feels', 'pretty', 'redundant', 'for', 'most', 'of', 'its', 'runtime', ',', 'despite', 'a', 'pretty', 'cool', 'ending', 'and', 'explanation', 'to', 'all', 'of', 'the', 'craziness', 'that', 'came', 'before', 'it', '.', 'oh', ',', 'and', 'by', 'the', 'way', ',', 'this', 'is', 'not', 'a', 'horror', 'or', 'teen', 'slasher', 'flick', '.', '.', '.', 'it', \"'s\", 'just', 'packaged', 'to', 'look', 'that', 'way', 'because', 'someone', 'is', 'apparently', 'assuming', 'that', 'the', 'genre', 'is', 'still', 'hot', 'with', 'the', 'kids', '.', 'it', 'also', 'wrapped', 'production', 'two', 'years', 'ago', 'and', 'has', 'been', 'sitting', 'on', 'the', 'shelves', 'ever', 'since', '.', 'whatever', '.', '.', '.', 'skip', 'it', '!', 'where', \"'s\", 'joblo', 'coming', 'from', '?', 'a', 'nightmare', 'of', 'elm', 'street', '3', '(', '7/10', ')', '-', 'blair', 'witch', '2', '(', '7/10', ')', '-', 'the', 'crow', '(', '9/10', ')', '-', 'the', 'crow', ':', 'salvation', '(', '4/10', ')', '-', 'lost', 'highway', '(', '10/10', ')', '-', 'memento', '(', '10/10', ')', '-', 'the', 'others', '(', '9/10', ')', '-', 'stir', 'of', 'echoes', '(', '8/10', ')']\n"
     ]
    }
   ],
   "source": [
    "print(documents[0])"
   ]
  },
  {
   "cell_type": "code",
   "execution_count": 0,
   "metadata": {
    "colab": {},
    "colab_type": "code",
    "id": "ONbM7Rz7HAJQ"
   },
   "outputs": [],
   "source": [
    "labeled_dataset = LabeledText(documents, labels)"
   ]
  },
  {
   "cell_type": "code",
   "execution_count": 0,
   "metadata": {
    "colab": {},
    "colab_type": "code",
    "id": "YNCIdsKtHAJT",
    "outputId": "a6add92a-d5fb-45a3-b23b-4fa073b15eed"
   },
   "outputs": [
    {
     "name": "stdout",
     "output_type": "stream",
     "text": [
      "{'X': [243, 17, 314, 294, 77, 140, 307, 20, 68, 237, 6, 97, 34, 299, 98, 8, 302, 135, 167, 33, 22, 8, 226, 220, 297, 145, 87, 6, 60, 158, 136, 74, 307, 262, 157, 165, 153, 179, 6, 34, 149, 214, 8, 333, 2, 297, 82, 18, 326, 297, 204, 34, 19, 280, 19, 124, 230, 8, 8, 8, 79, 17, 20, 199, 204, 129, 297, 294, 133, 296, 311, 225, 20, 322, 75, 164, 6, 60, 245, 169, 165, 20, 322, 46, 234, 8, 337, 168, 333, 188, 304, 253, 33, 108, 148, 226, 307, 345, 6, 272, 163, 132, 37, 122, 337, 42, 307, 59, 297, 201, 6, 196, 341, 348, 152, 34, 290, 4, 185, 156, 1, 195, 5, 6, 60, 300, 38, 142, 34, 46, 328, 220, 189, 28, 315, 220, 122, 6, 34, 301, 128, 173, 86, 208, 276, 304, 226, 76, 8, 302, 263, 307, 150, 293, 304, 246, 209, 72, 6, 60, 113, 169, 295, 8, 277, 333, 38, 297, 248, 341, 297, 204, 18, 331, 6, 170, 186, 247, 168, 296, 169, 2, 271, 309, 172, 8, 169, 282, 221, 19, 216, 19, 60, 299, 95, 167, 304, 19, 116, 19, 342, 165, 337, 347, 6, 40, 33, 43, 194, 6, 150, 215, 164, 333, 2, 141, 225, 8, 300, 38, 96, 6, 300, 38, 64, 70, 45, 130, 297, 81, 6, 300, 38, 229, 339, 183, 180, 297, 81, 6, 300, 38, 286, 36, 6, 300, 38, 91, 6, 300, 38, 20, 184, 220, 65, 260, 6, 300, 38, 308, 220, 330, 303, 296, 147, 6, 34, 203, 220, 169, 168, 271, 217, 114, 8, 218, 163, 240, 92, 208, 198, 312, 307, 317, 20, 121, 110, 218, 34, 299, 6, 60, 335, 28, 169, 93, 168, 137, 190, 297, 259, 69, 231, 34, 231, 26, 6, 163, 135, 175, 220, 117, 320, 25, 20, 338, 6, 337, 168, 304, 121, 2, 54, 247, 8, 169, 2, 219, 143, 304, 53, 261, 307, 155, 6, 60, 169, 265, 307, 325, 307, 155, 169, 71, 319, 170, 123, 125, 200, 8, 34, 92, 302, 187, 303, 106, 6, 305, 228, 108, 103, 6, 165, 297, 192, 18, 217, 251, 8, 297, 256, 236, 168, 296, 297, 39, 34, 163, 57, 89, 225, 127, 180, 304, 6, 277, 329, 24, 120, 203, 220, 169, 230, 61, 297, 146, 244, 6, 277, 28, 220, 297, 287, 25, 296, 86, 281, 307, 187, 20, 182, 55, 220, 266, 6, 60, 169, 284, 86, 208, 297, 187, 297, 121, 28, 296, 202, 106, 8, 163, 144, 297, 58, 181, 341, 205, 180, 304, 168, 296, 347, 268, 31, 187, 292, 296, 297, 43, 168, 19, 167, 169, 19, 108, 51, 302, 38, 138, 297, 261, 238, 307, 104, 348, 342, 220, 316, 8, 163, 191, 6, 269, 193, 257, 254, 44, 130, 324, 129, 21, 11, 200, 306, 297, 204, 168, 173, 241, 178, 0, 0, 224, 6, 329, 135, 169, 8, 8, 8, 300, 38, 239, 66, 153, 34, 329, 92, 208, 176, 339, 302, 38, 8, 92, 329, 251, 210, 307, 262, 169, 231, 34, 231, 26, 18, 162, 21, 139, 321, 88, 260, 222, 131, 166, 167, 28, 220, 297, 287, 141, 94, 165, 297, 204, 18, 35, 6, 297, 289, 310, 304, 121, 44, 130, 170, 90, 34, 67, 169, 320, 298, 6, 34, 169, 270, 8, 300, 197, 3, 50, 20, 246, 83, 294, 199, 204, 165, 154, 279, 6, 60, 163, 144, 19, 297, 291, 19, 84, 296, 313, 169, 167, 20, 206, 323, 341, 182, 100, 6, 343, 187, 202, 266, 8, 297, 23, 38, 246, 142, 129, 297, 203, 236, 6, 30, 332, 52, 173, 264, 307, 47, 242, 297, 111, 259, 63, 296, 151, 86, 165, 32, 48, 6, 227, 165, 20, 212, 211, 8, 60, 207, 54, 177, 140, 230, 307, 257, 6, 339, 159, 153, 233, 306, 297, 107, 121, 6, 34, 24, 149, 347, 118, 153, 63, 2, 318, 8, 232, 6, 297, 121, 93, 208, 283, 49, 169, 93, 208, 105, 6, 169, 2, 73, 6, 169, 250, 112, 34, 169, 119, 246, 252, 129, 203, 220, 170, 255, 6, 85, 20, 246, 75, 102, 34, 115, 307, 28, 220, 297, 78, 296, 62, 51, 169, 8, 223, 6, 34, 61, 297, 327, 6, 304, 168, 217, 20, 160, 228, 294, 275, 126, 8, 8, 8, 169, 2, 173, 235, 307, 183, 296, 327, 49, 278, 168, 35, 41, 296, 297, 134, 168, 284, 161, 341, 297, 174, 8, 169, 29, 344, 249, 314, 346, 27, 34, 149, 50, 273, 225, 297, 267, 109, 272, 8, 334, 8, 8, 8, 274, 169, 0, 336, 2, 171, 70, 130, 18, 20, 213, 220, 101, 288, 12, 4, 14, 5, 7, 56, 340, 10, 4, 14, 5, 7, 297, 80, 4, 16, 5, 7, 297, 80, 17, 258, 4, 13, 5, 7, 185, 156, 4, 9, 5, 7, 195, 4, 9, 5, 7, 297, 229, 4, 16, 5, 7, 285, 220, 99, 4, 15, 5], 'Y': 'neg'}\n"
     ]
    }
   ],
   "source": [
    "print(labeled_dataset[0])  # First review in the data."
   ]
  },
  {
   "cell_type": "code",
   "execution_count": 0,
   "metadata": {
    "colab": {},
    "colab_type": "code",
    "id": "BE5n1Bn6HAJV",
    "outputId": "04490253-43dc-4d6b-b3b7-b07891667b1b",
    "scrolled": true
   },
   "outputs": [
    {
     "name": "stdout",
     "output_type": "stream",
     "text": [
      "[243, 17, 314, 294, 77, 140, 307, 20, 68, 237, 6, 97, 34, 299, 98, 8, 302, 135, 167, 33, 22, 8, 226, 220, 297, 145, 87, 6, 60, 158, 136, 74, 307, 262, 157, 165, 153, 179, 6, 34, 149, 214, 8, 333, 2, 297, 82, 18, 326, 297, 204, 34, 19, 280, 19, 124, 230, 8, 8, 8, 79, 17, 20, 199, 204, 129, 297, 294, 133, 296, 311, 225, 20, 322, 75, 164, 6, 60, 245, 169, 165, 20, 322, 46, 234, 8, 337, 168, 333, 188, 304, 253, 33, 108, 148, 226, 307, 345, 6, 272, 163, 132, 37, 122, 337, 42, 307, 59, 297, 201, 6, 196, 341, 348, 152, 34, 290, 4, 185, 156, 1, 195, 5, 6, 60, 300, 38, 142, 34, 46, 328, 220, 189, 28, 315, 220, 122, 6, 34, 301, 128, 173, 86, 208, 276, 304, 226, 76, 8, 302, 263, 307, 150, 293, 304, 246, 209, 72, 6, 60, 113, 169, 295, 8, 277, 333, 38, 297, 248, 341, 297, 204, 18, 331, 6, 170, 186, 247, 168, 296, 169, 2, 271, 309, 172, 8, 169, 282, 221, 19, 216, 19, 60, 299, 95, 167, 304, 19, 116, 19, 342, 165, 337, 347, 6, 40, 33, 43, 194, 6, 150, 215, 164, 333, 2, 141, 225, 8, 300, 38, 96, 6, 300, 38, 64, 70, 45, 130, 297, 81, 6, 300, 38, 229, 339, 183, 180, 297, 81, 6, 300, 38, 286, 36, 6, 300, 38, 91, 6, 300, 38, 20, 184, 220, 65, 260, 6, 300, 38, 308, 220, 330, 303, 296, 147, 6, 34, 203, 220, 169, 168, 271, 217, 114, 8, 218, 163, 240, 92, 208, 198, 312, 307, 317, 20, 121, 110, 218, 34, 299, 6, 60, 335, 28, 169, 93, 168, 137, 190, 297, 259, 69, 231, 34, 231, 26, 6, 163, 135, 175, 220, 117, 320, 25, 20, 338, 6, 337, 168, 304, 121, 2, 54, 247, 8, 169, 2, 219, 143, 304, 53, 261, 307, 155, 6, 60, 169, 265, 307, 325, 307, 155, 169, 71, 319, 170, 123, 125, 200, 8, 34, 92, 302, 187, 303, 106, 6, 305, 228, 108, 103, 6, 165, 297, 192, 18, 217, 251, 8, 297, 256, 236, 168, 296, 297, 39, 34, 163, 57, 89, 225, 127, 180, 304, 6, 277, 329, 24, 120, 203, 220, 169, 230, 61, 297, 146, 244, 6, 277, 28, 220, 297, 287, 25, 296, 86, 281, 307, 187, 20, 182, 55, 220, 266, 6, 60, 169, 284, 86, 208, 297, 187, 297, 121, 28, 296, 202, 106, 8, 163, 144, 297, 58, 181, 341, 205, 180, 304, 168, 296, 347, 268, 31, 187, 292, 296, 297, 43, 168, 19, 167, 169, 19, 108, 51, 302, 38, 138, 297, 261, 238, 307, 104, 348, 342, 220, 316, 8, 163, 191, 6, 269, 193, 257, 254, 44, 130, 324, 129, 21, 11, 200, 306, 297, 204, 168, 173, 241, 178, 0, 0, 224, 6, 329, 135, 169, 8, 8, 8, 300, 38, 239, 66, 153, 34, 329, 92, 208, 176, 339, 302, 38, 8, 92, 329, 251, 210, 307, 262, 169, 231, 34, 231, 26, 18, 162, 21, 139, 321, 88, 260, 222, 131, 166, 167, 28, 220, 297, 287, 141, 94, 165, 297, 204, 18, 35, 6, 297, 289, 310, 304, 121, 44, 130, 170, 90, 34, 67, 169, 320, 298, 6, 34, 169, 270, 8, 300, 197, 3, 50, 20, 246, 83, 294, 199, 204, 165, 154, 279, 6, 60, 163, 144, 19, 297, 291, 19, 84, 296, 313, 169, 167, 20, 206, 323, 341, 182, 100, 6, 343, 187, 202, 266, 8, 297, 23, 38, 246, 142, 129, 297, 203, 236, 6, 30, 332, 52, 173, 264, 307, 47, 242, 297, 111, 259, 63, 296, 151, 86, 165, 32, 48, 6, 227, 165, 20, 212, 211, 8, 60, 207, 54, 177, 140, 230, 307, 257, 6, 339, 159, 153, 233, 306, 297, 107, 121, 6, 34, 24, 149, 347, 118, 153, 63, 2, 318, 8, 232, 6, 297, 121, 93, 208, 283, 49, 169, 93, 208, 105, 6, 169, 2, 73, 6, 169, 250, 112, 34, 169, 119, 246, 252, 129, 203, 220, 170, 255, 6, 85, 20, 246, 75, 102, 34, 115, 307, 28, 220, 297, 78, 296, 62, 51, 169, 8, 223, 6, 34, 61, 297, 327, 6, 304, 168, 217, 20, 160, 228, 294, 275, 126, 8, 8, 8, 169, 2, 173, 235, 307, 183, 296, 327, 49, 278, 168, 35, 41, 296, 297, 134, 168, 284, 161, 341, 297, 174, 8, 169, 29, 344, 249, 314, 346, 27, 34, 149, 50, 273, 225, 297, 267, 109, 272, 8, 334, 8, 8, 8, 274, 169, 0, 336, 2, 171, 70, 130, 18, 20, 213, 220, 101, 288, 12, 4, 14, 5, 7, 56, 340, 10, 4, 14, 5, 7, 297, 80, 4, 16, 5, 7, 297, 80, 17, 258, 4, 13, 5, 7, 185, 156, 4, 9, 5, 7, 195, 4, 9, 5, 7, 297, 229, 4, 16, 5, 7, 285, 220, 99, 4, 15, 5]\n"
     ]
    }
   ],
   "source": [
    "print(labeled_dataset[0]['x'])  # First review in vectorized index format."
   ]
  },
  {
   "cell_type": "code",
   "execution_count": 0,
   "metadata": {
    "colab": {},
    "colab_type": "code",
    "id": "OYKW3HTAHAJe",
    "outputId": "a56569b3-e66d-4718-aff9-c4801f79626f"
   },
   "outputs": [
    {
     "name": "stdout",
     "output_type": "stream",
     "text": [
      "neg\n"
     ]
    }
   ],
   "source": [
    "print(labeled_dataset[0]['y'])  # Label of the first review in the data. "
   ]
  },
  {
   "cell_type": "markdown",
   "metadata": {
    "colab_type": "text",
    "id": "HAmO-CfpHAJi"
   },
   "source": [
    "<a id=\"section-3-1\"></a>\n",
    "\n",
    "# 3.1 Word2Vec Training\n",
    "\n",
    "Word2Vec has two training variants:\n",
    "\n",
    " - **Continuous Bag of Words (CBOW)**: Predict center word from (bag of) context words.\n",
    " - **Skip-grams**: Predict context words given center word.\n",
    "  \n",
    "Visually, they look like this:\n",
    "\n",
    "\n",
    "\n",
    "<img src=\"https://lilianweng.github.io/lil-log/assets/images/word2vec-cbow.png\" width=\"500\" align=\"left\">"
   ]
  },
  {
   "cell_type": "markdown",
   "metadata": {
    "colab_type": "text",
    "id": "D8s5BWXEHAJj"
   },
   "source": [
    "Fig. 1. The skip-gram model. Both the input vector xx and the output yy are one-hot encoded word representations. <br>The hidden layer is the word embedding of size NN.\n",
    "\n"
   ]
  },
  {
   "cell_type": "markdown",
   "metadata": {
    "colab_type": "text",
    "id": "b3Tott_jHAKY"
   },
   "source": [
    "<img src=\"https://lilianweng.github.io/lil-log/assets/images/word2vec-skip-gram.png\" width=\"500\" align=\"left\">"
   ]
  },
  {
   "cell_type": "markdown",
   "metadata": {
    "colab_type": "text",
    "id": "jGbH-mS-HAKa"
   },
   "source": [
    "Fig. 2. The CBOW model. Word vectors of multiple context words are averaged to get a fixed-length vector as in the hidden layer. Other symbols have the same meanings as in Fig 1.\n",
    "\n",
    "(Pretty network images above are from [https://lilianweng.github.io](https://lilianweng.github.io/lil-log/2017/10/15/learning-word-embedding.html#context-based-continuous-bag-of-words-cbow))"
   ]
  },
  {
   "cell_type": "markdown",
   "metadata": {
    "colab_type": "text",
    "id": "LSckJrhpHAKc"
   },
   "source": [
    "<a id=\"section-3-1-1\"></a>\n",
    "\n",
    "## 3.1.1. CBOW\n",
    "\n",
    "CBOW windows through the sentence and picks out the center word as the `Y` and the surrounding context words as the inputs `X`. \n"
   ]
  },
  {
   "cell_type": "code",
   "execution_count": 0,
   "metadata": {
    "colab": {},
    "colab_type": "code",
    "id": "NAPrZ_tsHAKt",
    "outputId": "3c743c14-6a77-4c86-d24a-2b3919bd558c"
   },
   "outputs": [
    {
     "data": {
      "text/plain": [
       "[(1, 2, 3), (4, None, None)]"
      ]
     },
     "execution_count": 37,
     "metadata": {
      "tags": []
     },
     "output_type": "execute_result"
    }
   ],
   "source": [
    "from lazyme import per_window, per_chunk\n",
    "\n",
    "xx =[1,2,3,4]\n",
    "list(per_window(xx, n=2))\n",
    "list(per_chunk(xx, n=3))"
   ]
  },
  {
   "cell_type": "code",
   "execution_count": 0,
   "metadata": {
    "colab": {},
    "colab_type": "code",
    "id": "FV3-eKJgHAK0"
   },
   "outputs": [],
   "source": [
    "def per_window(sequence, n=1):\n",
    "    \"\"\"\n",
    "    From http://stackoverflow.com/q/42220614/610569\n",
    "        >>> list(per_window([1,2,3,4], n=2))\n",
    "        [(1, 2), (2, 3), (3, 4)]\n",
    "        >>> list(per_window([1,2,3,4], n=3))\n",
    "        [(1, 2, 3), (2, 3, 4)]\n",
    "    \"\"\"\n",
    "    start, stop = 0, n\n",
    "    seq = list(sequence)\n",
    "    while stop <= len(seq):\n",
    "        yield seq[start:stop]\n",
    "        start += 1\n",
    "        stop += 1\n",
    "\n",
    "def cbow_iterator(tokens, window_size):\n",
    "    n = window_size * 2 + 1\n",
    "    for window in per_window(tokens, n):\n",
    "        target = window.pop(window_size)\n",
    "        yield window, target   # X = window ; Y = target. \n"
   ]
  },
  {
   "cell_type": "code",
   "execution_count": 0,
   "metadata": {
    "colab": {},
    "colab_type": "code",
    "id": "UzyORy8cHALB"
   },
   "outputs": [],
   "source": [
    "sent0 = ['language', 'users', 'never', 'choose', 'words', 'randomly', ',', \n",
    "         'and', 'language', 'is', 'essentially', 'non-random', '.']"
   ]
  },
  {
   "cell_type": "code",
   "execution_count": 0,
   "metadata": {
    "colab": {},
    "colab_type": "code",
    "id": "rNEkMM0DHALJ",
    "outputId": "6b8ce2b4-dfc9-426a-9e1a-a17da38c27b7"
   },
   "outputs": [
    {
     "data": {
      "text/plain": [
       "[(['language', 'users', 'choose', 'words'], 'never'),\n",
       " (['users', 'never', 'words', 'randomly'], 'choose'),\n",
       " (['never', 'choose', 'randomly', ','], 'words'),\n",
       " (['choose', 'words', ',', 'and'], 'randomly'),\n",
       " (['words', 'randomly', 'and', 'language'], ','),\n",
       " (['randomly', ',', 'language', 'is'], 'and'),\n",
       " ([',', 'and', 'is', 'essentially'], 'language'),\n",
       " (['and', 'language', 'essentially', 'non-random'], 'is'),\n",
       " (['language', 'is', 'non-random', '.'], 'essentially')]"
      ]
     },
     "execution_count": 40,
     "metadata": {
      "tags": []
     },
     "output_type": "execute_result"
    }
   ],
   "source": [
    "list(cbow_iterator(sent0, 2)) "
   ]
  },
  {
   "cell_type": "code",
   "execution_count": 0,
   "metadata": {
    "colab": {},
    "colab_type": "code",
    "id": "K-6qY-gaHALm",
    "outputId": "2965aa31-98d0-421a-fd12-cd5c510b5e3a"
   },
   "outputs": [
    {
     "data": {
      "text/plain": [
       "[(['language', 'users', 'never', 'words', 'randomly', ','], 'choose'),\n",
       " (['users', 'never', 'choose', 'randomly', ',', 'and'], 'words'),\n",
       " (['never', 'choose', 'words', ',', 'and', 'language'], 'randomly'),\n",
       " (['choose', 'words', 'randomly', 'and', 'language', 'is'], ','),\n",
       " (['words', 'randomly', ',', 'language', 'is', 'essentially'], 'and'),\n",
       " (['randomly', ',', 'and', 'is', 'essentially', 'non-random'], 'language'),\n",
       " ([',', 'and', 'language', 'essentially', 'non-random', '.'], 'is')]"
      ]
     },
     "execution_count": 41,
     "metadata": {
      "tags": []
     },
     "output_type": "execute_result"
    }
   ],
   "source": [
    "list(cbow_iterator(sent0, 3)) "
   ]
  },
  {
   "cell_type": "markdown",
   "metadata": {
    "colab_type": "text",
    "id": "ljJ20HHFHAL-"
   },
   "source": [
    "<a id=\"section-3-1-2\"></a>\n",
    "\n",
    "## 3.1.2. Skipgram\n",
    "\n",
    "Skipgram training windows through the sentence and pictures out the center word as the input `X` and the context words as the outputs `Y`, additionally, it will randommly sample words not in the window as **negative samples**."
   ]
  },
  {
   "cell_type": "code",
   "execution_count": 0,
   "metadata": {
    "colab": {},
    "colab_type": "code",
    "id": "g3fPMkoZHAL_"
   },
   "outputs": [],
   "source": [
    "def skipgram_iterator(tokens, window_size):\n",
    "    n = window_size * 2 + 1 \n",
    "    for i, window in enumerate(per_window(tokens, n)):\n",
    "        target = window.pop(window_size)\n",
    "        # Generate positive samples.\n",
    "        for context_word in window:\n",
    "            yield target, context_word, 1\n",
    "        # Generate negative samples.\n",
    "        for _ in range(n-1):\n",
    "            leftovers = tokens[:i] + tokens[i+n:]\n",
    "            yield target, random.choice(leftovers), 0"
   ]
  },
  {
   "cell_type": "code",
   "execution_count": 0,
   "metadata": {
    "colab": {},
    "colab_type": "code",
    "id": "-esIo3JlHAME",
    "outputId": "744f2af7-d053-4846-e303-c68893c21e59"
   },
   "outputs": [
    {
     "data": {
      "text/plain": [
       "[('never', 'language', 1),\n",
       " ('never', 'users', 1),\n",
       " ('never', 'choose', 1),\n",
       " ('never', 'words', 1),\n",
       " ('never', '.', 0),\n",
       " ('never', 'non-random', 0),\n",
       " ('never', 'non-random', 0),\n",
       " ('never', 'language', 0),\n",
       " ('choose', 'users', 1),\n",
       " ('choose', 'never', 1),\n",
       " ('choose', 'words', 1),\n",
       " ('choose', 'randomly', 1),\n",
       " ('choose', '.', 0),\n",
       " ('choose', 'language', 0),\n",
       " ('choose', 'essentially', 0),\n",
       " ('choose', 'is', 0),\n",
       " ('words', 'never', 1),\n",
       " ('words', 'choose', 1),\n",
       " ('words', 'randomly', 1),\n",
       " ('words', ',', 1),\n",
       " ('words', 'language', 0),\n",
       " ('words', 'language', 0),\n",
       " ('words', 'is', 0),\n",
       " ('words', 'and', 0),\n",
       " ('randomly', 'choose', 1),\n",
       " ('randomly', 'words', 1),\n",
       " ('randomly', ',', 1),\n",
       " ('randomly', 'and', 1),\n",
       " ('randomly', 'never', 0),\n",
       " ('randomly', 'non-random', 0),\n",
       " ('randomly', 'is', 0),\n",
       " ('randomly', 'non-random', 0),\n",
       " (',', 'words', 1),\n",
       " (',', 'randomly', 1),\n",
       " (',', 'and', 1),\n",
       " (',', 'language', 1),\n",
       " (',', 'essentially', 0),\n",
       " (',', 'essentially', 0),\n",
       " (',', 'non-random', 0),\n",
       " (',', 'non-random', 0),\n",
       " ('and', 'randomly', 1),\n",
       " ('and', ',', 1),\n",
       " ('and', 'language', 1),\n",
       " ('and', 'is', 1),\n",
       " ('and', 'essentially', 0),\n",
       " ('and', 'users', 0),\n",
       " ('and', 'users', 0),\n",
       " ('and', 'essentially', 0),\n",
       " ('language', ',', 1),\n",
       " ('language', 'and', 1),\n",
       " ('language', 'is', 1),\n",
       " ('language', 'essentially', 1),\n",
       " ('language', 'users', 0),\n",
       " ('language', 'randomly', 0),\n",
       " ('language', 'never', 0),\n",
       " ('language', 'words', 0),\n",
       " ('is', 'and', 1),\n",
       " ('is', 'language', 1),\n",
       " ('is', 'essentially', 1),\n",
       " ('is', 'non-random', 1),\n",
       " ('is', 'never', 0),\n",
       " ('is', 'language', 0),\n",
       " ('is', '.', 0),\n",
       " ('is', 'never', 0),\n",
       " ('essentially', 'language', 1),\n",
       " ('essentially', 'is', 1),\n",
       " ('essentially', 'non-random', 1),\n",
       " ('essentially', '.', 1),\n",
       " ('essentially', 'users', 0),\n",
       " ('essentially', 'randomly', 0),\n",
       " ('essentially', 'and', 0),\n",
       " ('essentially', 'and', 0)]"
      ]
     },
     "execution_count": 43,
     "metadata": {
      "tags": []
     },
     "output_type": "execute_result"
    }
   ],
   "source": [
    "list(skipgram_iterator(sent0, 2))"
   ]
  },
  {
   "cell_type": "markdown",
   "metadata": {
    "colab_type": "text",
    "id": "MR1oCgnCHAMM"
   },
   "source": [
    "## Cut-away: What is `partial`?\n",
    "\n",
    "The [`functools.partial`](https://docs.python.org/3.7/library/functools.html#functools.partial) function in Python is a mechanism to overload a function with preset arguments. \n",
    "\n",
    "For example:"
   ]
  },
  {
   "cell_type": "code",
   "execution_count": 0,
   "metadata": {
    "colab": {},
    "colab_type": "code",
    "id": "o37H0cxxHAMN",
    "outputId": "d4e2f38e-e33f-4320-bc7c-d05cf9589b79"
   },
   "outputs": [
    {
     "data": {
      "text/plain": [
       "[('this', 'is'), ('is', 'a'), ('a', 'sentence')]"
      ]
     },
     "execution_count": 44,
     "metadata": {
      "tags": []
     },
     "output_type": "execute_result"
    }
   ],
   "source": [
    "from nltk import ngrams\n",
    "\n",
    "# Generates bigrams\n",
    "list(ngrams('this is a sentence'.split(), n=2))"
   ]
  },
  {
   "cell_type": "code",
   "execution_count": 0,
   "metadata": {
    "colab": {},
    "colab_type": "code",
    "id": "BFdDjEZvHAMd"
   },
   "outputs": [],
   "source": [
    "from functools import partial\n",
    "\n",
    "# You can create a new function that \"preset\" the `n` argument, e.g.\n",
    "bigrams = partial(ngrams, n=2)\n",
    "trigrams = partial(ngrams, n=3)"
   ]
  },
  {
   "cell_type": "code",
   "execution_count": 0,
   "metadata": {
    "colab": {},
    "colab_type": "code",
    "id": "X5gDUuojHAMg",
    "outputId": "c7bcb042-ee0d-4c53-85ec-c555f46001e1"
   },
   "outputs": [
    {
     "data": {
      "text/plain": [
       "[('this', 'is', 'a'), ('is', 'a', 'sentence')]"
      ]
     },
     "execution_count": 46,
     "metadata": {
      "tags": []
     },
     "output_type": "execute_result"
    }
   ],
   "source": [
    "list(trigrams('this is a sentence'.split()))"
   ]
  },
  {
   "cell_type": "code",
   "execution_count": 0,
   "metadata": {
    "colab": {},
    "colab_type": "code",
    "id": "DnZTSkGIHAMn",
    "outputId": "9e3c3ea0-74d7-4ae6-906f-6ef0448ad93d"
   },
   "outputs": [
    {
     "data": {
      "text/plain": [
       "[('this', 'is'), ('is', 'a'), ('a', 'sentence')]"
      ]
     },
     "execution_count": 47,
     "metadata": {
      "tags": []
     },
     "output_type": "execute_result"
    }
   ],
   "source": [
    "list(bigrams('this is a sentence'.split()))"
   ]
  },
  {
   "cell_type": "markdown",
   "metadata": {
    "colab_type": "text",
    "id": "M7v5X8GlHAMw"
   },
   "source": [
    "<a id=\"section-3-1-3\"></a>\n",
    "\n",
    "## 3.1.3 Word2Vec Dataset\n",
    "\n",
    "Now that we know what are the inputs `X` and outputs `Y` of the Word2Vec task. \n",
    "\n",
    "Lets put everything together and modify the `Dataset` so that `__getitem__` retrieves CBOW or Skipgram formats."
   ]
  },
  {
   "cell_type": "code",
   "execution_count": 0,
   "metadata": {
    "colab": {},
    "colab_type": "code",
    "id": "UaPLt9WrHAMx"
   },
   "outputs": [],
   "source": [
    "\n",
    "class Word2VecText(Dataset):\n",
    "    def __init__(self, tokenized_texts, window_size, variant):\n",
    "        \"\"\"\n",
    "        :param tokenized_texts: Tokenized text.\n",
    "        :type tokenized_texts: list(list(str))\n",
    "        \"\"\"\n",
    "        self.sents = tokenized_texts\n",
    "        self._len = len(self.sents)\n",
    "        self.vocab = Dictionary(self.sents)\n",
    "        self.window_size = window_size\n",
    "        self.variant = variant\n",
    "        if variant.lower() == 'cbow':\n",
    "            self._iterator = partial(self.cbow_iterator, window_size=self.window_size)\n",
    "        elif variant.lower() == 'skipgram':\n",
    "            self._iterator = partial(self.skipgram_iterator, window_size=self.window_size)\n",
    "\n",
    "    def __getitem__(self, index):\n",
    "        \"\"\"\n",
    "        The primary entry point for PyTorch datasets.\n",
    "        This is were you access the specific data row you want.\n",
    "\n",
    "        :param index: Index to the data point.\n",
    "        :type index: int\n",
    "        \"\"\"\n",
    "        vectorized_sent = self.vectorize(self.sents[index])\n",
    "        return list(self._iterator(vectorized_sent))\n",
    "\n",
    "    def __len__(self):\n",
    "        return self._len\n",
    "\n",
    "    def vectorize(self, tokens):\n",
    "        \"\"\"\n",
    "        :param tokens: Tokens that should be vectorized.\n",
    "        :type tokens: list(str)\n",
    "        \"\"\"\n",
    "        # See https://radimrehurek.com/gensim/corpora/dictionary.html#gensim.corpora.dictionary.Dictionary.doc2idx\n",
    "        return self.???(tokens)\n",
    "\n",
    "    def unvectorize(self, indices):\n",
    "        \"\"\"\n",
    "        :param indices: Converts the indices back to tokens.\n",
    "        :type tokens: list(int)\n",
    "        \"\"\"\n",
    "        return [self.vocab[i] for i in indices]\n",
    "\n",
    "    def cbow_iterator(self, tokens, window_size):\n",
    "        ???\n",
    "\n",
    "    def skipgram_iterator(self, tokens, window_size):\n",
    "        ???"
   ]
  },
  {
   "cell_type": "markdown",
   "metadata": {
    "colab_type": "text",
    "id": "HXE9ukTcHAM2"
   },
   "source": [
    "<a id=\"section-3-1-3-hint\"></a>\n",
    "## Hints for the cell above."
   ]
  },
  {
   "cell_type": "code",
   "execution_count": 0,
   "metadata": {
    "colab": {},
    "colab_type": "code",
    "id": "ymXcYy25HAM5"
   },
   "outputs": [],
   "source": [
    "# Option 1: To see the hint and partial code for the cell above, uncomment the following line.\n",
    "##hint_word2vec_dataset()\n",
    "\n",
    "# Option 2: \"I give up just, run the code for me\" \n",
    "# Uncomment the next two lines, if you really gave up... \n",
    "##full_code_word2vec_dataset()\n",
    "##from tsundoku.word2vec import Word2VecText\n"
   ]
  },
  {
   "cell_type": "markdown",
   "metadata": {
    "colab_type": "text",
    "id": "FXFpDkcXHAM9"
   },
   "source": [
    "<a id=\"section-3-1-4-hint\"></a>\n",
    "\n",
    "## 3.1.4. Train a CBOW model\n",
    "\n",
    "### Lets Get Some Data\n",
    "\n",
    "Lets take Kilgarriff (2005) , \"Language is never ever, ever random\". "
   ]
  },
  {
   "cell_type": "code",
   "execution_count": 0,
   "metadata": {
    "colab": {},
    "colab_type": "code",
    "id": "BEYnPscyHANA"
   },
   "outputs": [],
   "source": [
    "import os\n",
    "import requests\n",
    "import io #codecs\n",
    "\n",
    "\n",
    "# Text version of https://kilgarriff.co.uk/Publications/2005-K-lineer.pdf\n",
    "if os.path.isfile('language-never-random.txt'):\n",
    "    with io.open('language-never-random.txt', encoding='utf8') as fin:\n",
    "        text = fin.read()\n",
    "else:\n",
    "    url = \"https://gist.githubusercontent.com/alvations/53b01e4076573fea47c6057120bb017a/raw/b01ff96a5f76848450e648f35da6497ca9454e4a/language-never-random.txt\"\n",
    "    text = requests.get(url).content.decode('utf8')\n",
    "    with io.open('language-never-random.txt', 'w', encoding='utf8') as fout:\n",
    "        fout.write(text)\n",
    "\n",
    "tokenized_text = [list(map(str.lower, word_tokenize(sent))) for sent in sent_tokenize(text)]\n",
    "window_size = 2\n",
    "w2v_dataset = Word2VecText(tokenized_text, window_size=window_size, variant='cbow')"
   ]
  },
  {
   "cell_type": "code",
   "execution_count": 0,
   "metadata": {
    "colab": {},
    "colab_type": "code",
    "id": "MOFKsFVZHANE",
    "outputId": "39bed45c-d098-4726-a5a6-0bbb4281d1e4"
   },
   "outputs": [
    {
     "name": "stdout",
     "output_type": "stream",
     "text": [
      "                       Language is never, ever, ever, random\n",
      "\n",
      "                                                               ADAM KILGARRIFF\n",
      "\n",
      "\n",
      "\n",
      "\n",
      "Abstract\n",
      "Language users never choose words randomly, and language is essentially\n",
      "non-random. Statistical hypothesis testing uses a null hypothesis, which\n",
      "posits randomness. Hence, when we look at linguistic phenomena in cor-\n",
      "pora, the null hypothesis will never be true. Moreover, where there is enough\n",
      "data, we shall (almost) always be able to establish that it is not true. In\n",
      "corpus studies, we frequently do have enough data, so the fact that a rela-\n",
      "tion between two phenomena is demonstrably non-random, does not sup-\n",
      "port the inference that it is not arbitrary. We present experimental evidence\n",
      "of how arbitrary associations between word frequencies and corpora are\n",
      "systematically non-random. We review literature in which hypothesis test-\n",
      "ing has been used, and show how it has often led to unhelpful or mislead-\n",
      "ing results.\n",
      "Keywords: 쎲쎲쎲\n",
      "\n",
      "1. Int\n"
     ]
    }
   ],
   "source": [
    "print(text[:1000])"
   ]
  },
  {
   "cell_type": "code",
   "execution_count": 0,
   "metadata": {
    "colab": {},
    "colab_type": "code",
    "id": "RfarUjiGHANJ",
    "outputId": "4c946f67-f4df-40f8-fc6a-6d6c9539127e"
   },
   "outputs": [
    {
     "name": "stdout",
     "output_type": "stream",
     "text": [
      "['language', 'is', 'never', ',', 'ever', ',', 'ever', ',', 'random', 'adam', 'kilgarriff', 'abstract', 'language', 'users', 'never', 'choose', 'words', 'randomly', ',', 'and', 'language', 'is', 'essentially', 'non-random', '.']\n"
     ]
    }
   ],
   "source": [
    "# Sanity check, lets take a look at the data.\n",
    "print(tokenized_text[0])"
   ]
  },
  {
   "cell_type": "code",
   "execution_count": 0,
   "metadata": {
    "colab": {},
    "colab_type": "code",
    "id": "LRmEPBJbHANP"
   },
   "outputs": [],
   "source": [
    "device = 'cuda' if torch.cuda.is_available() else 'cpu'"
   ]
  },
  {
   "cell_type": "code",
   "execution_count": 0,
   "metadata": {
    "colab": {},
    "colab_type": "code",
    "id": "0KJ4NHacHANS",
    "outputId": "63500498-f0f0-40f3-8da2-86027094c125"
   },
   "outputs": [
    {
     "name": "stdout",
     "output_type": "stream",
     "text": [
      "the bulk of linguistic questions concern the dis- tinction between a and m. a linguistic account of a phenomenon gen- erally gives us reason to view the relation between , for example , a verb ’ s syntax and its semantics , as motivated rather than arbitrary .\n",
      "\u001b[92mof\u001b[0m \t\t the bulk \u001b[91m______\u001b[0m linguistic questions\n",
      "\u001b[92mlinguistic\u001b[0m \t bulk of \u001b[91m______\u001b[0m questions concern\n",
      "\u001b[92mquestions\u001b[0m \t of linguistic \u001b[91m______\u001b[0m concern the\n",
      "\u001b[92mconcern\u001b[0m \t linguistic questions \u001b[91m______\u001b[0m the dis-\n",
      "\u001b[92mthe\u001b[0m \t\t questions concern \u001b[91m______\u001b[0m dis- tinction\n",
      "\u001b[92mdis-\u001b[0m \t\t concern the \u001b[91m______\u001b[0m tinction between\n",
      "\u001b[92mtinction\u001b[0m \t the dis- \u001b[91m______\u001b[0m between a\n",
      "\u001b[92mbetween\u001b[0m \t dis- tinction \u001b[91m______\u001b[0m a and\n",
      "\u001b[92ma\u001b[0m \t\t tinction between \u001b[91m______\u001b[0m and m.\n",
      "\u001b[92mand\u001b[0m \t\t between a \u001b[91m______\u001b[0m m. a\n",
      "\u001b[92mm.\u001b[0m \t\t a and \u001b[91m______\u001b[0m a linguistic\n",
      "\u001b[92ma\u001b[0m \t\t and m. \u001b[91m______\u001b[0m linguistic account\n",
      "\u001b[92mlinguistic\u001b[0m \t m. a \u001b[91m______\u001b[0m account of\n",
      "\u001b[92maccount\u001b[0m \t a linguistic \u001b[91m______\u001b[0m of a\n",
      "\u001b[92mof\u001b[0m \t\t linguistic account \u001b[91m______\u001b[0m a phenomenon\n",
      "\u001b[92ma\u001b[0m \t\t account of \u001b[91m______\u001b[0m phenomenon gen-\n",
      "\u001b[92mphenomenon\u001b[0m \t of a \u001b[91m______\u001b[0m gen- erally\n",
      "\u001b[92mgen-\u001b[0m \t\t a phenomenon \u001b[91m______\u001b[0m erally gives\n",
      "\u001b[92merally\u001b[0m \t\t phenomenon gen- \u001b[91m______\u001b[0m gives us\n",
      "\u001b[92mgives\u001b[0m \t\t gen- erally \u001b[91m______\u001b[0m us reason\n",
      "\u001b[92mus\u001b[0m \t\t erally gives \u001b[91m______\u001b[0m reason to\n",
      "\u001b[92mreason\u001b[0m \t\t gives us \u001b[91m______\u001b[0m to view\n",
      "\u001b[92mto\u001b[0m \t\t us reason \u001b[91m______\u001b[0m view the\n",
      "\u001b[92mview\u001b[0m \t\t reason to \u001b[91m______\u001b[0m the relation\n",
      "\u001b[92mthe\u001b[0m \t\t to view \u001b[91m______\u001b[0m relation between\n",
      "\u001b[92mrelation\u001b[0m \t view the \u001b[91m______\u001b[0m between ,\n",
      "\u001b[92mbetween\u001b[0m \t the relation \u001b[91m______\u001b[0m , for\n",
      "\u001b[92m,\u001b[0m \t\t relation between \u001b[91m______\u001b[0m for example\n",
      "\u001b[92mfor\u001b[0m \t\t between , \u001b[91m______\u001b[0m example ,\n",
      "\u001b[92mexample\u001b[0m \t , for \u001b[91m______\u001b[0m , a\n",
      "\u001b[92m,\u001b[0m \t\t for example \u001b[91m______\u001b[0m a verb\n",
      "\u001b[92ma\u001b[0m \t\t example , \u001b[91m______\u001b[0m verb ’\n",
      "\u001b[92mverb\u001b[0m \t\t , a \u001b[91m______\u001b[0m ’ s\n",
      "\u001b[92m’\u001b[0m \t\t a verb \u001b[91m______\u001b[0m s syntax\n",
      "\u001b[92ms\u001b[0m \t\t verb ’ \u001b[91m______\u001b[0m syntax and\n",
      "\u001b[92msyntax\u001b[0m \t\t ’ s \u001b[91m______\u001b[0m and its\n",
      "\u001b[92mand\u001b[0m \t\t s syntax \u001b[91m______\u001b[0m its semantics\n",
      "\u001b[92mits\u001b[0m \t\t syntax and \u001b[91m______\u001b[0m semantics ,\n",
      "\u001b[92msemantics\u001b[0m \t and its \u001b[91m______\u001b[0m , as\n",
      "\u001b[92m,\u001b[0m \t\t its semantics \u001b[91m______\u001b[0m as motivated\n",
      "\u001b[92mas\u001b[0m \t\t semantics , \u001b[91m______\u001b[0m motivated rather\n",
      "\u001b[92mmotivated\u001b[0m \t , as \u001b[91m______\u001b[0m rather than\n",
      "\u001b[92mrather\u001b[0m \t\t as motivated \u001b[91m______\u001b[0m than arbitrary\n",
      "\u001b[92mthan\u001b[0m \t\t motivated rather \u001b[91m______\u001b[0m arbitrary .\n"
     ]
    }
   ],
   "source": [
    "from lazyme import color_str\n",
    "\n",
    "def visualize_predictions(x, y, prediction, vocab, window_size, unk='<unk>'):\n",
    "    left = ' '.join([vocab.get(int(_x), '<unk>') for _x in x[:window_size]])\n",
    "    right = ' '.join([vocab.get(int(_x), '<unk>') for _x in x[window_size:]])\n",
    "    target = vocab.get(int(y), '<unk>')\n",
    "\n",
    "    if not prediction:\n",
    "        predicted_word = '______'\n",
    "    else:\n",
    "        predicted_word = vocab.get(int(prediction), '<unk>') \n",
    "    print(color_str(target, 'green'), '\\t' if len(target) > 6 else '\\t\\t', \n",
    "          left, color_str(predicted_word, 'green' if target == predicted_word else 'red'), right)\n",
    "    \n",
    "\n",
    "sent_idx = 10\n",
    "window_size = 2\n",
    "w2v_dataset = Word2VecText(tokenized_text, window_size=window_size, variant='cbow')\n",
    "print(' '.join(w2v_dataset.sents[sent_idx]))\n",
    "for w2v_io in w2v_dataset[sent_idx]:\n",
    "    context, target = w2v_io['x'], w2v_io['y']\n",
    "    context, target = tensor(context).to(device), tensor(target).to(device)\n",
    "    visualize_predictions(context, target, None, w2v_dataset.vocab, window_size)"
   ]
  },
  {
   "cell_type": "markdown",
   "metadata": {
    "colab_type": "text",
    "id": "SCTIgQLwHAOM"
   },
   "source": [
    "<a id=\"section-3-1-4-cbow-model\"></a>\n",
    "\n",
    "## The CBOW Model\n",
    "\n",
    "<img src=\"https://lilianweng.github.io/lil-log/assets/images/word2vec-cbow.png\" width=\"500\" align=\"left\">\n"
   ]
  },
  {
   "cell_type": "markdown",
   "metadata": {
    "colab_type": "text",
    "id": "CVhbh2OoHAON"
   },
   "source": [
    "(Image from https://lilianweng.github.io/lil-log/2017/10/15/learning-word-embedding.html)"
   ]
  },
  {
   "cell_type": "code",
   "execution_count": 0,
   "metadata": {
    "colab": {},
    "colab_type": "code",
    "id": "2bE4_o2uHAOO"
   },
   "outputs": [],
   "source": [
    "import torch\n",
    "from torch import nn, optim, tensor, autograd\n",
    "from torch.nn import functional as F\n",
    "\n",
    "class CBOW(nn.Module):\n",
    "    def __init__(self, vocab_size, embd_size, context_size, hidden_size):\n",
    "        super(CBOW, self).__init__()\n",
    "        self.embeddings = nn.Embedding(vocab_size, embd_size)\n",
    "        self.linear1 = nn.Linear(2*context_size*embd_size, hidden_size)\n",
    "        self.linear2 = nn.Linear(hidden_size, vocab_size)\n",
    "        \n",
    "    def forward(self, inputs):\n",
    "        embedded = self.embeddings(inputs).view((1, -1))\n",
    "        hid = F.relu(self.linear1(embedded))\n",
    "        out = self.linear2(hid)\n",
    "        log_probs = F.log_softmax(out, dim=1)\n",
    "        return log_probs\n"
   ]
  },
  {
   "cell_type": "markdown",
   "metadata": {
    "colab_type": "text",
    "id": "Y0XM-9CoHAOQ"
   },
   "source": [
    "## Lets take a closer look from the inputs to the first `nn.Linear`\n",
    "\n",
    "Cos after it reach the first `nn.Linear` it's just the same as our multi-layered perceptron example =)"
   ]
  },
  {
   "cell_type": "code",
   "execution_count": 0,
   "metadata": {
    "colab": {},
    "colab_type": "code",
    "id": "VWtD5VoxHAOR",
    "outputId": "e602d428-841e-4caf-c8c1-96139cb58fde"
   },
   "outputs": [
    {
     "data": {
      "text/plain": [
       "[{'x': [10, 8, 0, 7], 'y': 11},\n",
       " {'x': [8, 11, 7, 0], 'y': 0},\n",
       " {'x': [11, 0, 0, 7], 'y': 7},\n",
       " {'x': [0, 7, 7, 0], 'y': 0},\n",
       " {'x': [7, 0, 0, 13], 'y': 7},\n",
       " {'x': [0, 7, 13, 3], 'y': 0},\n",
       " {'x': [7, 0, 3, 9], 'y': 13},\n",
       " {'x': [0, 13, 9, 2], 'y': 3},\n",
       " {'x': [13, 3, 2, 10], 'y': 9},\n",
       " {'x': [3, 9, 10, 15], 'y': 2},\n",
       " {'x': [9, 2, 15, 11], 'y': 10},\n",
       " {'x': [2, 10, 11, 5], 'y': 15},\n",
       " {'x': [10, 15, 5, 16], 'y': 11},\n",
       " {'x': [15, 11, 16, 14], 'y': 5},\n",
       " {'x': [11, 5, 14, 0], 'y': 16},\n",
       " {'x': [5, 16, 0, 4], 'y': 14},\n",
       " {'x': [16, 14, 4, 10], 'y': 0},\n",
       " {'x': [14, 0, 10, 8], 'y': 4},\n",
       " {'x': [0, 4, 8, 6], 'y': 10},\n",
       " {'x': [4, 10, 6, 12], 'y': 8},\n",
       " {'x': [10, 8, 12, 1], 'y': 6}]"
      ]
     },
     "execution_count": 149,
     "metadata": {
      "tags": []
     },
     "output_type": "execute_result"
    }
   ],
   "source": [
    "w2v_dataset[0]"
   ]
  },
  {
   "cell_type": "code",
   "execution_count": 0,
   "metadata": {
    "colab": {},
    "colab_type": "code",
    "id": "YrihyEczHAOa",
    "outputId": "3e24e240-1b66-443a-fa8b-be608b5b7e6d"
   },
   "outputs": [
    {
     "name": "stdout",
     "output_type": "stream",
     "text": [
      "tensor([10,  8,  0,  7])\n",
      "tensor(11)\n"
     ]
    }
   ],
   "source": [
    "# Lets take a look at the first output.\n",
    "\n",
    "\n",
    "x, y = w2v_dataset[0][0]['x'],  w2v_dataset[0][0]['y']\n",
    "\n",
    "x = tensor(x)\n",
    "y = autograd.Variable(tensor(y, dtype=torch.long))\n",
    "print(x)\n",
    "print(y)"
   ]
  },
  {
   "cell_type": "code",
   "execution_count": 0,
   "metadata": {
    "colab": {},
    "colab_type": "code",
    "id": "KSQ1tZxaHAOd",
    "outputId": "5829ea69-2a46-4cf6-e542-bd150de0f2c3"
   },
   "outputs": [
    {
     "data": {
      "text/plain": [
       "OrderedDict([('weight', tensor([[-0.5309, -0.2498,  0.4560,  1.2961, -0.4387],\n",
       "                      [ 0.3382, -0.0703,  0.3431,  0.1622,  0.9764],\n",
       "                      [ 1.0735, -0.5736, -1.2363, -1.4552,  0.9341],\n",
       "                      ...,\n",
       "                      [ 1.8404, -2.1452,  1.7231,  1.5320,  0.3120],\n",
       "                      [-0.1742,  0.4641,  0.4268, -0.5084, -0.8903],\n",
       "                      [-0.2273, -0.4780,  0.2075, -1.3358,  0.0986]]))])"
      ]
     },
     "execution_count": 151,
     "metadata": {
      "tags": []
     },
     "output_type": "execute_result"
    }
   ],
   "source": [
    "embd_size = 5\n",
    "emb = nn.Embedding(len(w2v_dataset.vocab), embd_size)\n",
    "emb.state_dict()"
   ]
  },
  {
   "cell_type": "code",
   "execution_count": 0,
   "metadata": {
    "colab": {},
    "colab_type": "code",
    "id": "zMSpy8GNHAOf",
    "outputId": "83be6b9c-7fc2-4ef8-e420-2e680fb88dd3"
   },
   "outputs": [
    {
     "name": "stdout",
     "output_type": "stream",
     "text": [
      "torch.Size([1388, 5])\n"
     ]
    },
    {
     "data": {
      "text/plain": [
       "tensor([[-0.5309, -0.2498,  0.4560,  1.2961, -0.4387],\n",
       "        [ 0.3382, -0.0703,  0.3431,  0.1622,  0.9764],\n",
       "        [ 1.0735, -0.5736, -1.2363, -1.4552,  0.9341],\n",
       "        ...,\n",
       "        [ 1.8404, -2.1452,  1.7231,  1.5320,  0.3120],\n",
       "        [-0.1742,  0.4641,  0.4268, -0.5084, -0.8903],\n",
       "        [-0.2273, -0.4780,  0.2075, -1.3358,  0.0986]])"
      ]
     },
     "execution_count": 152,
     "metadata": {
      "tags": []
     },
     "output_type": "execute_result"
    }
   ],
   "source": [
    "print(emb.state_dict()['weight'].shape)\n",
    "emb.state_dict()['weight']"
   ]
  },
  {
   "cell_type": "code",
   "execution_count": 0,
   "metadata": {
    "colab": {},
    "colab_type": "code",
    "id": "j_5qYpO8HAOh",
    "outputId": "dfb5fe3d-7f02-407b-ee86-50c86179917c"
   },
   "outputs": [
    {
     "name": "stdout",
     "output_type": "stream",
     "text": [
      "torch.Size([5, 5])\n",
      "tensor([[-0.8014, -2.1698,  0.7498, -0.7403,  1.1497],\n",
      "        [ 0.2756,  0.0506, -0.7995, -0.1418,  1.0545],\n",
      "        [ 0.2757, -0.2900, -0.3487,  1.7644,  1.2935],\n",
      "        [-0.8583,  0.8299,  0.3863, -1.6557,  1.5273],\n",
      "        [ 0.8718, -0.5214,  0.2409,  2.1781,  0.0841]],\n",
      "       grad_fn=<EmbeddingBackward>)\n"
     ]
    }
   ],
   "source": [
    "print(emb(x).shape)\n",
    "print(emb(x))"
   ]
  },
  {
   "cell_type": "code",
   "execution_count": 0,
   "metadata": {
    "colab": {},
    "colab_type": "code",
    "id": "suT4Nm24HAOj",
    "outputId": "9e348f3b-fc50-4bba-981a-86448bd21775"
   },
   "outputs": [
    {
     "name": "stdout",
     "output_type": "stream",
     "text": [
      "torch.Size([1, 25])\n"
     ]
    },
    {
     "data": {
      "text/plain": [
       "tensor([[-0.8014, -2.1698,  0.7498, -0.7403,  1.1497,  0.2756,  0.0506, -0.7995,\n",
       "         -0.1418,  1.0545,  0.2757, -0.2900, -0.3487,  1.7644,  1.2935, -0.8583,\n",
       "          0.8299,  0.3863, -1.6557,  1.5273,  0.8718, -0.5214,  0.2409,  2.1781,\n",
       "          0.0841]], grad_fn=<ViewBackward>)"
      ]
     },
     "execution_count": 75,
     "metadata": {
      "tags": []
     },
     "output_type": "execute_result"
    }
   ],
   "source": [
    "print(emb(x).view(1, -1).shape)\n",
    "emb(x).view(1, -1)"
   ]
  },
  {
   "cell_type": "code",
   "execution_count": 0,
   "metadata": {
    "colab": {},
    "colab_type": "code",
    "id": "Trdx-g3SHAOl",
    "outputId": "c4720d0f-0acc-4e8c-ce73-47f84cf1f564",
    "scrolled": false
   },
   "outputs": [
    {
     "name": "stdout",
     "output_type": "stream",
     "text": [
      "OrderedDict([('weight', tensor([[-0.1447, -0.1136, -0.0130,  ...,  0.0218, -0.1538, -0.1554],\n",
      "        [ 0.0928, -0.0122, -0.0744,  ...,  0.1641, -0.1238,  0.1497],\n",
      "        [ 0.0631,  0.1008, -0.1635,  ..., -0.0189, -0.0931,  0.1022],\n",
      "        ...,\n",
      "        [ 0.0705, -0.1190,  0.0672,  ..., -0.0613, -0.0673, -0.0518],\n",
      "        [ 0.1590,  0.0873, -0.1814,  ...,  0.0404,  0.1916,  0.1826],\n",
      "        [-0.1386,  0.0480,  0.1366,  ...,  0.1606, -0.1528, -0.1577]])), ('bias', tensor([-6.5666e-02, -1.6835e-02, -1.5871e-01, -1.7670e-01, -1.7749e-01,\n",
      "        -1.5189e-01, -7.8464e-04,  5.8088e-02,  1.4027e-01, -2.4234e-03,\n",
      "         1.2355e-01, -3.1391e-02,  5.7199e-02, -4.8530e-02,  4.8086e-02,\n",
      "         8.2727e-02, -5.1193e-02,  8.2017e-02, -1.0416e-01, -1.4997e-01,\n",
      "        -1.6799e-01,  1.6884e-01,  1.4976e-01,  1.7572e-01,  7.7179e-02,\n",
      "        -5.0694e-05,  1.7845e-01, -1.9768e-01,  1.7715e-01, -1.6373e-01,\n",
      "        -1.5114e-01, -1.9456e-01,  3.0764e-02,  7.8759e-02,  1.5015e-01,\n",
      "        -9.7355e-02,  5.1287e-02,  1.0298e-01, -1.8547e-01, -1.5008e-01,\n",
      "        -1.5821e-01,  4.1172e-02, -1.9167e-01,  1.9523e-02,  5.4097e-02,\n",
      "        -7.6474e-02, -8.7699e-02, -1.1582e-01,  1.5503e-02, -7.5769e-02,\n",
      "         1.0173e-01,  6.5463e-02, -5.3079e-02,  7.2644e-02, -1.6502e-01,\n",
      "         1.5203e-01,  5.4598e-02,  1.2620e-01,  1.6030e-01, -7.4103e-02,\n",
      "        -4.3389e-03,  1.4147e-01,  1.7274e-01, -1.3309e-01, -1.6858e-01,\n",
      "        -8.1495e-02,  2.4472e-02,  1.2614e-01,  4.2725e-02,  5.0724e-02,\n",
      "        -1.8518e-01,  1.5179e-02,  1.2759e-01, -6.9058e-03, -1.4075e-01,\n",
      "         3.0420e-02, -1.5410e-01,  6.0003e-02, -5.2466e-02,  3.4459e-02,\n",
      "        -6.9183e-02, -9.1366e-04,  1.9327e-01, -1.6089e-01, -1.5696e-01,\n",
      "         1.1740e-01,  9.3013e-03, -9.5988e-03,  1.0428e-01,  1.4199e-01,\n",
      "         8.6084e-02, -1.9120e-01, -1.3462e-01, -1.4062e-01,  1.0428e-01,\n",
      "        -4.6943e-03, -1.9138e-01, -7.7535e-02, -1.1891e-01, -8.0326e-02]))])\n"
     ]
    }
   ],
   "source": [
    "hidden_size = 100\n",
    "lin1 = nn.Linear(len(x)*embd_size, hidden_size)\n",
    "print(lin1.state_dict())"
   ]
  },
  {
   "cell_type": "code",
   "execution_count": 0,
   "metadata": {
    "colab": {},
    "colab_type": "code",
    "id": "pekv5vr3HAOn",
    "outputId": "9120d23d-3dbf-4690-b0e0-dc246f160a11"
   },
   "outputs": [
    {
     "name": "stdout",
     "output_type": "stream",
     "text": [
      "torch.Size([100, 25])\n",
      "tensor([[-0.1447, -0.1136, -0.0130,  ...,  0.0218, -0.1538, -0.1554],\n",
      "        [ 0.0928, -0.0122, -0.0744,  ...,  0.1641, -0.1238,  0.1497],\n",
      "        [ 0.0631,  0.1008, -0.1635,  ..., -0.0189, -0.0931,  0.1022],\n",
      "        ...,\n",
      "        [ 0.0705, -0.1190,  0.0672,  ..., -0.0613, -0.0673, -0.0518],\n",
      "        [ 0.1590,  0.0873, -0.1814,  ...,  0.0404,  0.1916,  0.1826],\n",
      "        [-0.1386,  0.0480,  0.1366,  ...,  0.1606, -0.1528, -0.1577]])\n"
     ]
    }
   ],
   "source": [
    "print(lin1.state_dict()['weight'].shape)\n",
    "print(lin1.state_dict()['weight'])"
   ]
  },
  {
   "cell_type": "code",
   "execution_count": 0,
   "metadata": {
    "colab": {},
    "colab_type": "code",
    "id": "p8PYFtEKHAOn",
    "outputId": "7a53ced5-d039-40c1-f35e-c48aac1a0ff8"
   },
   "outputs": [
    {
     "name": "stdout",
     "output_type": "stream",
     "text": [
      "torch.Size([1, 100])\n"
     ]
    },
    {
     "data": {
      "text/plain": [
       "tensor([[-1.2671e+00, -1.0560e+00, -2.7547e-01, -3.9239e-01,  1.0550e+00,\n",
       "          5.8454e-02,  2.7364e-01, -2.1694e-01, -4.2596e-01, -3.0849e-02,\n",
       "         -3.5111e-01, -6.6442e-01,  4.4285e-01, -1.4273e+00, -1.0141e-01,\n",
       "          8.4337e-01, -8.1876e-01, -5.3560e-01, -9.8946e-01, -2.4821e-01,\n",
       "          4.9500e-01,  2.4280e-01, -1.3943e+00, -8.1615e-02, -9.4806e-03,\n",
       "         -6.5384e-01, -2.9202e-01, -2.0307e-01,  3.1281e-02, -1.1027e+00,\n",
       "          6.8971e-01,  9.4438e-01,  2.0563e-01,  4.3321e-01,  1.1221e-01,\n",
       "         -1.1211e-01,  5.7779e-01, -1.8758e-01, -6.2340e-01, -8.7328e-02,\n",
       "         -1.1230e+00,  7.8058e-01,  7.0934e-01, -6.2332e-01,  2.4691e-01,\n",
       "          2.1622e-03,  5.3593e-01,  2.7730e-01, -2.6210e-01, -2.6775e-01,\n",
       "          1.9049e-01,  1.1417e+00,  5.3801e-01,  1.1117e+00, -1.4210e-01,\n",
       "          4.8679e-02,  4.3074e-01, -3.6613e-01,  2.2502e-01, -6.7378e-01,\n",
       "         -1.4379e+00, -2.8330e-01, -7.2398e-01,  4.0467e-01,  6.0282e-02,\n",
       "          5.6468e-01,  5.9446e-01, -4.7270e-01, -4.6316e-04,  3.6583e-01,\n",
       "         -3.5283e-01, -2.2937e-01, -8.3883e-01,  8.8644e-01,  7.8209e-01,\n",
       "          1.8374e-01, -8.0843e-01,  5.6022e-01,  3.5172e-01,  8.9698e-02,\n",
       "          5.1242e-01,  8.1732e-01,  9.9344e-01, -7.4383e-01, -1.3861e+00,\n",
       "          7.1379e-01,  1.6392e-01,  5.7822e-02, -2.7016e-01, -9.9921e-02,\n",
       "          6.5376e-01,  4.5806e-02, -1.0812e+00, -2.3341e-01, -7.0661e-01,\n",
       "         -2.5833e-01, -1.3970e-01,  3.9231e-01,  6.4453e-01, -7.6688e-01]],\n",
       "       grad_fn=<AddmmBackward>)"
      ]
     },
     "execution_count": 78,
     "metadata": {
      "tags": []
     },
     "output_type": "execute_result"
    }
   ],
   "source": [
    "print(lin1(emb(x).view(1, -1)).shape)\n",
    "lin1(emb(x).view(1, -1))"
   ]
  },
  {
   "cell_type": "code",
   "execution_count": 0,
   "metadata": {
    "colab": {},
    "colab_type": "code",
    "id": "OnMag-0tHAOp",
    "outputId": "559bea7c-34e1-42d2-b1b3-7457e00b7f7e",
    "scrolled": true
   },
   "outputs": [
    {
     "name": "stdout",
     "output_type": "stream",
     "text": [
      "torch.Size([1, 100])\n"
     ]
    },
    {
     "data": {
      "text/plain": [
       "tensor([[0.0000, 0.0000, 0.0000, 0.0000, 1.0550, 0.0585, 0.2736, 0.0000, 0.0000,\n",
       "         0.0000, 0.0000, 0.0000, 0.4429, 0.0000, 0.0000, 0.8434, 0.0000, 0.0000,\n",
       "         0.0000, 0.0000, 0.4950, 0.2428, 0.0000, 0.0000, 0.0000, 0.0000, 0.0000,\n",
       "         0.0000, 0.0313, 0.0000, 0.6897, 0.9444, 0.2056, 0.4332, 0.1122, 0.0000,\n",
       "         0.5778, 0.0000, 0.0000, 0.0000, 0.0000, 0.7806, 0.7093, 0.0000, 0.2469,\n",
       "         0.0022, 0.5359, 0.2773, 0.0000, 0.0000, 0.1905, 1.1417, 0.5380, 1.1117,\n",
       "         0.0000, 0.0487, 0.4307, 0.0000, 0.2250, 0.0000, 0.0000, 0.0000, 0.0000,\n",
       "         0.4047, 0.0603, 0.5647, 0.5945, 0.0000, 0.0000, 0.3658, 0.0000, 0.0000,\n",
       "         0.0000, 0.8864, 0.7821, 0.1837, 0.0000, 0.5602, 0.3517, 0.0897, 0.5124,\n",
       "         0.8173, 0.9934, 0.0000, 0.0000, 0.7138, 0.1639, 0.0578, 0.0000, 0.0000,\n",
       "         0.6538, 0.0458, 0.0000, 0.0000, 0.0000, 0.0000, 0.0000, 0.3923, 0.6445,\n",
       "         0.0000]], grad_fn=<ThresholdBackward0>)"
      ]
     },
     "execution_count": 79,
     "metadata": {
      "tags": []
     },
     "output_type": "execute_result"
    }
   ],
   "source": [
    "relu = nn.ReLU()\n",
    "print(relu(lin1(emb(x).view(1, -1))).shape)\n",
    "relu(lin1(emb(x).view(1, -1)))"
   ]
  },
  {
   "cell_type": "code",
   "execution_count": 0,
   "metadata": {
    "colab": {},
    "colab_type": "code",
    "id": "LVwej9y_HAOr",
    "outputId": "b2f5a8fc-bf76-42c7-8fdd-4d1ed4db4e24"
   },
   "outputs": [
    {
     "name": "stdout",
     "output_type": "stream",
     "text": [
      "torch.Size([1388, 100])\n"
     ]
    },
    {
     "data": {
      "text/plain": [
       "tensor([[ 0.0725, -0.0418, -0.0470,  ...,  0.0875,  0.0200, -0.0492],\n",
       "        [-0.0359, -0.0547,  0.0733,  ..., -0.0528,  0.0927, -0.0141],\n",
       "        [-0.0723,  0.0796,  0.0544,  ...,  0.0629,  0.0833, -0.0260],\n",
       "        ...,\n",
       "        [ 0.0161, -0.0200, -0.0464,  ...,  0.0278,  0.0099, -0.0537],\n",
       "        [ 0.0719, -0.0236, -0.0734,  ..., -0.0269,  0.0578, -0.0877],\n",
       "        [-0.0688,  0.0176, -0.0377,  ...,  0.0769,  0.0392, -0.0416]])"
      ]
     },
     "execution_count": 80,
     "metadata": {
      "tags": []
     },
     "output_type": "execute_result"
    }
   ],
   "source": [
    "lin2 = nn.Linear(hidden_size, len(w2v_dataset.vocab))\n",
    "print(lin2.state_dict()['weight'].shape)\n",
    "lin2.state_dict()['weight']"
   ]
  },
  {
   "cell_type": "code",
   "execution_count": 0,
   "metadata": {
    "colab": {},
    "colab_type": "code",
    "id": "asgRwXehHAOs",
    "outputId": "dd545005-24ae-49d6-922a-c63393c4472f"
   },
   "outputs": [
    {
     "name": "stdout",
     "output_type": "stream",
     "text": [
      "torch.Size([1, 1388])\n"
     ]
    },
    {
     "data": {
      "text/plain": [
       "tensor([[-0.4737,  0.2024, -0.0957,  ...,  0.3202, -0.3416,  0.1011]],\n",
       "       grad_fn=<AddmmBackward>)"
      ]
     },
     "execution_count": 81,
     "metadata": {
      "tags": []
     },
     "output_type": "execute_result"
    }
   ],
   "source": [
    "h_x = relu(lin1(emb(x).view(1, -1)))\n",
    "print(lin2(h_x).shape)\n",
    "lin2(h_x)"
   ]
  },
  {
   "cell_type": "code",
   "execution_count": 0,
   "metadata": {
    "colab": {},
    "colab_type": "code",
    "id": "5GJLGwdkHAOv",
    "outputId": "22a0b70d-977e-47f8-98ca-18f90f248b0b"
   },
   "outputs": [
    {
     "data": {
      "text/plain": [
       "[[-7.729094505310059,\n",
       "  -7.0529561042785645,\n",
       "  -7.351128578186035,\n",
       "  -6.980468273162842,\n",
       "  -7.116093635559082,\n",
       "  -7.565708160400391,\n",
       "  -7.476498126983643,\n",
       "  -7.222686290740967,\n",
       "  -7.558962821960449,\n",
       "  -7.518165111541748,\n",
       "  -7.190613269805908,\n",
       "  -7.156388759613037,\n",
       "  -6.849654197692871,\n",
       "  -7.481348037719727,\n",
       "  -7.07505989074707,\n",
       "  -6.886816501617432,\n",
       "  -7.235705375671387,\n",
       "  -7.411858081817627,\n",
       "  -7.311549663543701,\n",
       "  -7.299731254577637,\n",
       "  -7.217769622802734,\n",
       "  -7.277176856994629,\n",
       "  -7.421562194824219,\n",
       "  -6.878456115722656,\n",
       "  -7.575339317321777,\n",
       "  -7.339748859405518,\n",
       "  -7.422872543334961,\n",
       "  -7.513821125030518,\n",
       "  -7.49839448928833,\n",
       "  -7.398869037628174,\n",
       "  -7.750196933746338,\n",
       "  -7.4314680099487305,\n",
       "  -7.4705376625061035,\n",
       "  -7.6934428215026855,\n",
       "  -7.543959140777588,\n",
       "  -7.3512349128723145,\n",
       "  -7.210240840911865,\n",
       "  -7.472490310668945,\n",
       "  -7.07129430770874,\n",
       "  -7.252291202545166,\n",
       "  -7.235233306884766,\n",
       "  -6.866705894470215,\n",
       "  -7.021296501159668,\n",
       "  -7.569563865661621,\n",
       "  -7.426265239715576,\n",
       "  -7.387587547302246,\n",
       "  -6.966782569885254,\n",
       "  -7.450945854187012,\n",
       "  -7.325294017791748,\n",
       "  -7.381418704986572,\n",
       "  -7.095943450927734,\n",
       "  -7.323665142059326,\n",
       "  -7.322460651397705,\n",
       "  -7.345174312591553,\n",
       "  -7.123699188232422,\n",
       "  -7.053304195404053,\n",
       "  -6.9308295249938965,\n",
       "  -7.103020191192627,\n",
       "  -7.005598068237305,\n",
       "  -7.093214511871338,\n",
       "  -7.607287406921387,\n",
       "  -7.263975620269775,\n",
       "  -7.160971641540527,\n",
       "  -7.122941970825195,\n",
       "  -6.907811164855957,\n",
       "  -7.21104621887207,\n",
       "  -7.592457294464111,\n",
       "  -7.047513008117676,\n",
       "  -7.3098249435424805,\n",
       "  -7.192529201507568,\n",
       "  -7.479475021362305,\n",
       "  -7.113234519958496,\n",
       "  -7.401494026184082,\n",
       "  -7.402085304260254,\n",
       "  -7.41105842590332,\n",
       "  -7.458729267120361,\n",
       "  -7.400553226470947,\n",
       "  -7.335033893585205,\n",
       "  -7.281667709350586,\n",
       "  -7.038061141967773,\n",
       "  -6.965407371520996,\n",
       "  -6.965941905975342,\n",
       "  -7.325964450836182,\n",
       "  -7.213075160980225,\n",
       "  -6.908999443054199,\n",
       "  -7.08805513381958,\n",
       "  -7.272735595703125,\n",
       "  -6.875821590423584,\n",
       "  -7.600387096405029,\n",
       "  -7.360057830810547,\n",
       "  -7.09364652633667,\n",
       "  -7.058830738067627,\n",
       "  -7.279681205749512,\n",
       "  -7.518036842346191,\n",
       "  -7.312989234924316,\n",
       "  -7.312383651733398,\n",
       "  -7.414114952087402,\n",
       "  -7.376966953277588,\n",
       "  -7.075581073760986,\n",
       "  -7.106801986694336,\n",
       "  -7.228009223937988,\n",
       "  -7.518099308013916,\n",
       "  -7.342092990875244,\n",
       "  -7.490647315979004,\n",
       "  -7.132578372955322,\n",
       "  -7.321933746337891,\n",
       "  -7.026090621948242,\n",
       "  -7.271520614624023,\n",
       "  -7.789194107055664,\n",
       "  -7.537633895874023,\n",
       "  -7.27660608291626,\n",
       "  -7.279611110687256,\n",
       "  -7.549821376800537,\n",
       "  -7.515965461730957,\n",
       "  -7.410338878631592,\n",
       "  -7.635414123535156,\n",
       "  -7.177784442901611,\n",
       "  -7.739068508148193,\n",
       "  -7.220038414001465,\n",
       "  -7.127252578735352,\n",
       "  -7.544486045837402,\n",
       "  -6.897632122039795,\n",
       "  -7.599261283874512,\n",
       "  -7.020289897918701,\n",
       "  -7.6810622215271,\n",
       "  -7.357523441314697,\n",
       "  -6.823304176330566,\n",
       "  -7.162688732147217,\n",
       "  -7.47651481628418,\n",
       "  -7.119003772735596,\n",
       "  -6.779292583465576,\n",
       "  -7.158262252807617,\n",
       "  -7.41799259185791,\n",
       "  -7.212313652038574,\n",
       "  -7.719633102416992,\n",
       "  -6.947483539581299,\n",
       "  -7.416184902191162,\n",
       "  -7.061801910400391,\n",
       "  -7.15300178527832,\n",
       "  -7.721755027770996,\n",
       "  -7.14456844329834,\n",
       "  -7.147338390350342,\n",
       "  -7.3161797523498535,\n",
       "  -7.5713958740234375,\n",
       "  -7.14201021194458,\n",
       "  -7.007407188415527,\n",
       "  -7.356555938720703,\n",
       "  -7.255760192871094,\n",
       "  -6.859277725219727,\n",
       "  -7.0014801025390625,\n",
       "  -7.572287082672119,\n",
       "  -7.669406890869141,\n",
       "  -7.1098198890686035,\n",
       "  -7.34874963760376,\n",
       "  -7.036074161529541,\n",
       "  -7.283405780792236,\n",
       "  -7.095064163208008,\n",
       "  -7.612290859222412,\n",
       "  -7.305428981781006,\n",
       "  -7.216981887817383,\n",
       "  -7.261590480804443,\n",
       "  -7.317249298095703,\n",
       "  -7.345243453979492,\n",
       "  -7.013279438018799,\n",
       "  -7.271440029144287,\n",
       "  -7.143991947174072,\n",
       "  -7.32565975189209,\n",
       "  -6.959754943847656,\n",
       "  -7.094460964202881,\n",
       "  -7.7856903076171875,\n",
       "  -7.2513508796691895,\n",
       "  -6.8843607902526855,\n",
       "  -7.250432968139648,\n",
       "  -7.111627101898193,\n",
       "  -7.205306529998779,\n",
       "  -7.163421630859375,\n",
       "  -7.532005310058594,\n",
       "  -7.18723726272583,\n",
       "  -7.539304256439209,\n",
       "  -7.207639217376709,\n",
       "  -7.033924579620361,\n",
       "  -7.441041946411133,\n",
       "  -7.405240058898926,\n",
       "  -7.209809303283691,\n",
       "  -7.161397457122803,\n",
       "  -6.74467658996582,\n",
       "  -7.238064765930176,\n",
       "  -7.4356608390808105,\n",
       "  -7.147766590118408,\n",
       "  -7.293704509735107,\n",
       "  -7.604788303375244,\n",
       "  -6.861393451690674,\n",
       "  -7.569854259490967,\n",
       "  -7.118646621704102,\n",
       "  -7.546492099761963,\n",
       "  -7.592804908752441,\n",
       "  -7.306305408477783,\n",
       "  -7.4725260734558105,\n",
       "  -7.335480213165283,\n",
       "  -7.471292495727539,\n",
       "  -7.26179838180542,\n",
       "  -6.929837226867676,\n",
       "  -7.32896089553833,\n",
       "  -7.321155071258545,\n",
       "  -7.088500499725342,\n",
       "  -7.926176071166992,\n",
       "  -7.335034370422363,\n",
       "  -7.368464946746826,\n",
       "  -6.8812713623046875,\n",
       "  -7.141526699066162,\n",
       "  -7.521737575531006,\n",
       "  -7.388831615447998,\n",
       "  -6.947704315185547,\n",
       "  -7.207155227661133,\n",
       "  -6.794984817504883,\n",
       "  -7.324865818023682,\n",
       "  -6.80421781539917,\n",
       "  -7.189716815948486,\n",
       "  -6.837064743041992,\n",
       "  -7.39309024810791,\n",
       "  -7.212578296661377,\n",
       "  -6.95721435546875,\n",
       "  -7.530697822570801,\n",
       "  -7.241811752319336,\n",
       "  -7.230258464813232,\n",
       "  -7.664425849914551,\n",
       "  -7.153090476989746,\n",
       "  -7.222111701965332,\n",
       "  -7.219049453735352,\n",
       "  -7.474607944488525,\n",
       "  -7.098275184631348,\n",
       "  -7.069949626922607,\n",
       "  -7.153677940368652,\n",
       "  -7.053431987762451,\n",
       "  -6.758277893066406,\n",
       "  -7.7056097984313965,\n",
       "  -7.4986796379089355,\n",
       "  -7.211148738861084,\n",
       "  -7.162961483001709,\n",
       "  -7.179726600646973,\n",
       "  -7.3320136070251465,\n",
       "  -7.208117961883545,\n",
       "  -7.362621784210205,\n",
       "  -6.761297225952148,\n",
       "  -7.238190650939941,\n",
       "  -7.1030192375183105,\n",
       "  -7.32725715637207,\n",
       "  -7.203032493591309,\n",
       "  -7.397738933563232,\n",
       "  -7.202160358428955,\n",
       "  -7.521993637084961,\n",
       "  -7.456303119659424,\n",
       "  -6.966373920440674,\n",
       "  -7.1097564697265625,\n",
       "  -7.3983612060546875,\n",
       "  -7.091249465942383,\n",
       "  -7.031120777130127,\n",
       "  -7.141689300537109,\n",
       "  -7.343884468078613,\n",
       "  -6.857393741607666,\n",
       "  -7.522668361663818,\n",
       "  -7.303182601928711,\n",
       "  -7.276540279388428,\n",
       "  -7.255876064300537,\n",
       "  -7.381350994110107,\n",
       "  -7.063421249389648,\n",
       "  -6.9055938720703125,\n",
       "  -7.270781517028809,\n",
       "  -7.464413642883301,\n",
       "  -7.357414722442627,\n",
       "  -7.654072284698486,\n",
       "  -7.349203109741211,\n",
       "  -6.9416022300720215,\n",
       "  -7.181057929992676,\n",
       "  -7.7575531005859375,\n",
       "  -7.302839279174805,\n",
       "  -7.3096489906311035,\n",
       "  -6.941934108734131,\n",
       "  -7.21719217300415,\n",
       "  -7.025497913360596,\n",
       "  -7.161042213439941,\n",
       "  -7.226747512817383,\n",
       "  -7.1263837814331055,\n",
       "  -7.390176296234131,\n",
       "  -7.405327796936035,\n",
       "  -7.194640636444092,\n",
       "  -7.702616214752197,\n",
       "  -6.8518290519714355,\n",
       "  -7.1556925773620605,\n",
       "  -7.3501482009887695,\n",
       "  -6.967592716217041,\n",
       "  -7.0504350662231445,\n",
       "  -7.1738600730896,\n",
       "  -7.374244689941406,\n",
       "  -7.233997344970703,\n",
       "  -7.332920551300049,\n",
       "  -6.935774803161621,\n",
       "  -7.517667770385742,\n",
       "  -7.497553825378418,\n",
       "  -7.022629737854004,\n",
       "  -7.308319091796875,\n",
       "  -7.484011650085449,\n",
       "  -7.1186981201171875,\n",
       "  -7.442882061004639,\n",
       "  -7.068691730499268,\n",
       "  -7.7225728034973145,\n",
       "  -7.352694511413574,\n",
       "  -6.9758620262146,\n",
       "  -7.611420154571533,\n",
       "  -7.471107482910156,\n",
       "  -7.178927421569824,\n",
       "  -7.230935096740723,\n",
       "  -6.920160293579102,\n",
       "  -6.963720798492432,\n",
       "  -6.912189483642578,\n",
       "  -7.378210544586182,\n",
       "  -7.328616142272949,\n",
       "  -6.938002586364746,\n",
       "  -7.246940612792969,\n",
       "  -7.142739295959473,\n",
       "  -7.714450836181641,\n",
       "  -7.254849433898926,\n",
       "  -7.3083930015563965,\n",
       "  -7.192397594451904,\n",
       "  -7.441624641418457,\n",
       "  -7.039146423339844,\n",
       "  -7.4841413497924805,\n",
       "  -6.829329013824463,\n",
       "  -7.021180629730225,\n",
       "  -7.214555263519287,\n",
       "  -7.322968006134033,\n",
       "  -7.313073635101318,\n",
       "  -7.6397247314453125,\n",
       "  -7.46073579788208,\n",
       "  -7.181194305419922,\n",
       "  -7.602264881134033,\n",
       "  -7.124183177947998,\n",
       "  -7.446876525878906,\n",
       "  -7.412987232208252,\n",
       "  -7.414103031158447,\n",
       "  -7.212780475616455,\n",
       "  -7.081446170806885,\n",
       "  -7.093888759613037,\n",
       "  -7.051233768463135,\n",
       "  -7.532382965087891,\n",
       "  -7.2309699058532715,\n",
       "  -7.108078956604004,\n",
       "  -7.054321765899658,\n",
       "  -7.443072319030762,\n",
       "  -7.378519535064697,\n",
       "  -6.9458208084106445,\n",
       "  -7.538581848144531,\n",
       "  -7.208059787750244,\n",
       "  -7.304262161254883,\n",
       "  -7.599147319793701,\n",
       "  -7.261590003967285,\n",
       "  -7.637197494506836,\n",
       "  -7.204573631286621,\n",
       "  -7.216632843017578,\n",
       "  -7.245089054107666,\n",
       "  -7.002711772918701,\n",
       "  -7.33676290512085,\n",
       "  -6.83125638961792,\n",
       "  -6.861669063568115,\n",
       "  -7.325303077697754,\n",
       "  -7.772954940795898,\n",
       "  -7.202000141143799,\n",
       "  -7.4370832443237305,\n",
       "  -7.39668607711792,\n",
       "  -7.1568498611450195,\n",
       "  -7.418301582336426,\n",
       "  -6.8421630859375,\n",
       "  -7.369893550872803,\n",
       "  -7.2797088623046875,\n",
       "  -7.079041957855225,\n",
       "  -7.111654281616211,\n",
       "  -7.065609931945801,\n",
       "  -6.9826765060424805,\n",
       "  -7.655611038208008,\n",
       "  -7.013211727142334,\n",
       "  -7.034849166870117,\n",
       "  -7.375918388366699,\n",
       "  -7.462162494659424,\n",
       "  -7.310222625732422,\n",
       "  -6.916064262390137,\n",
       "  -7.000301361083984,\n",
       "  -7.195013523101807,\n",
       "  -7.090834140777588,\n",
       "  -7.199034214019775,\n",
       "  -7.248072624206543,\n",
       "  -7.435388088226318,\n",
       "  -7.251943588256836,\n",
       "  -7.189568519592285,\n",
       "  -7.17812967300415,\n",
       "  -7.177887916564941,\n",
       "  -6.80604887008667,\n",
       "  -7.463982105255127,\n",
       "  -7.184990882873535,\n",
       "  -7.55417537689209,\n",
       "  -7.548937797546387,\n",
       "  -7.3862504959106445,\n",
       "  -7.013404369354248,\n",
       "  -7.431318283081055,\n",
       "  -7.300198554992676,\n",
       "  -7.260043144226074,\n",
       "  -7.451755046844482,\n",
       "  -7.028631210327148,\n",
       "  -7.2271342277526855,\n",
       "  -7.320483684539795,\n",
       "  -7.277252674102783,\n",
       "  -6.912409782409668,\n",
       "  -7.380970478057861,\n",
       "  -7.1992692947387695,\n",
       "  -7.460264205932617,\n",
       "  -7.690388202667236,\n",
       "  -7.238682270050049,\n",
       "  -6.870420455932617,\n",
       "  -7.137936592102051,\n",
       "  -7.6354780197143555,\n",
       "  -6.924637317657471,\n",
       "  -7.328754901885986,\n",
       "  -7.317455768585205,\n",
       "  -7.301279544830322,\n",
       "  -6.941766262054443,\n",
       "  -7.077844142913818,\n",
       "  -7.537423133850098,\n",
       "  -7.2158026695251465,\n",
       "  -7.376375675201416,\n",
       "  -7.472463607788086,\n",
       "  -7.392553329467773,\n",
       "  -7.7302565574646,\n",
       "  -7.210350513458252,\n",
       "  -7.344186782836914,\n",
       "  -7.220798015594482,\n",
       "  -7.481235980987549,\n",
       "  -7.349747657775879,\n",
       "  -7.559391975402832,\n",
       "  -7.28969144821167,\n",
       "  -7.556241035461426,\n",
       "  -6.955240726470947,\n",
       "  -7.6762566566467285,\n",
       "  -7.102745056152344,\n",
       "  -6.861724376678467,\n",
       "  -7.5091552734375,\n",
       "  -7.63877534866333,\n",
       "  -6.900323867797852,\n",
       "  -7.243832111358643,\n",
       "  -7.415689945220947,\n",
       "  -7.297869682312012,\n",
       "  -7.268956661224365,\n",
       "  -7.247094631195068,\n",
       "  -7.601387977600098,\n",
       "  -7.438669204711914,\n",
       "  -6.651118278503418,\n",
       "  -7.019487380981445,\n",
       "  -7.4734206199646,\n",
       "  -6.877529621124268,\n",
       "  -7.212867736816406,\n",
       "  -6.995175361633301,\n",
       "  -6.9237565994262695,\n",
       "  -7.206777095794678,\n",
       "  -7.3162102699279785,\n",
       "  -7.169233798980713,\n",
       "  -7.274188041687012,\n",
       "  -7.333451747894287,\n",
       "  -7.197606563568115,\n",
       "  -7.275235652923584,\n",
       "  -7.523159027099609,\n",
       "  -6.820620536804199,\n",
       "  -7.284723281860352,\n",
       "  -6.946072578430176,\n",
       "  -7.0128679275512695,\n",
       "  -7.1742730140686035,\n",
       "  -7.001434326171875,\n",
       "  -7.243519306182861,\n",
       "  -7.256413459777832,\n",
       "  -7.067131519317627,\n",
       "  -7.523831367492676,\n",
       "  -6.963338851928711,\n",
       "  -7.303813457489014,\n",
       "  -7.101255416870117,\n",
       "  -7.0803985595703125,\n",
       "  -7.2820611000061035,\n",
       "  -7.010094165802002,\n",
       "  -6.972051620483398,\n",
       "  -7.363840579986572,\n",
       "  -7.532337665557861,\n",
       "  -7.395172595977783,\n",
       "  -7.2573771476745605,\n",
       "  -7.352797985076904,\n",
       "  -6.9752116203308105,\n",
       "  -7.404234409332275,\n",
       "  -7.160890102386475,\n",
       "  -7.203646183013916,\n",
       "  -7.514786243438721,\n",
       "  -7.582406520843506,\n",
       "  -7.62935733795166,\n",
       "  -7.064902305603027,\n",
       "  -7.430490016937256,\n",
       "  -7.66006326675415,\n",
       "  -7.425302505493164,\n",
       "  -7.410508632659912,\n",
       "  -7.351578235626221,\n",
       "  -7.51906681060791,\n",
       "  -7.465841293334961,\n",
       "  -7.595870494842529,\n",
       "  -7.34112024307251,\n",
       "  -7.283443927764893,\n",
       "  -7.455041885375977,\n",
       "  -7.028740406036377,\n",
       "  -7.36021614074707,\n",
       "  -7.165788173675537,\n",
       "  -7.478261470794678,\n",
       "  -7.158486843109131,\n",
       "  -7.328085422515869,\n",
       "  -7.229410171508789,\n",
       "  -7.077681541442871,\n",
       "  -7.507308006286621,\n",
       "  -7.191479682922363,\n",
       "  -7.41917085647583,\n",
       "  -7.043161869049072,\n",
       "  -7.101426601409912,\n",
       "  -6.822202205657959,\n",
       "  -7.317850112915039,\n",
       "  -7.096303939819336,\n",
       "  -7.095188140869141,\n",
       "  -6.972789287567139,\n",
       "  -7.162935256958008,\n",
       "  -7.509264945983887,\n",
       "  -7.6083807945251465,\n",
       "  -7.19173002243042,\n",
       "  -7.822365760803223,\n",
       "  -7.155716419219971,\n",
       "  -7.297956466674805,\n",
       "  -7.461747646331787,\n",
       "  -7.497393608093262,\n",
       "  -7.5168986320495605,\n",
       "  -6.900027275085449,\n",
       "  -7.016360759735107,\n",
       "  -7.395686149597168,\n",
       "  -7.284036636352539,\n",
       "  -7.29053258895874,\n",
       "  -7.232343673706055,\n",
       "  -7.019237518310547,\n",
       "  -7.643454551696777,\n",
       "  -7.2526960372924805,\n",
       "  -7.490015029907227,\n",
       "  -6.722585678100586,\n",
       "  -7.424504280090332,\n",
       "  -7.207645893096924,\n",
       "  -7.256899356842041,\n",
       "  -7.468315124511719,\n",
       "  -7.258961200714111,\n",
       "  -7.416601657867432,\n",
       "  -7.228170394897461,\n",
       "  -7.3356499671936035,\n",
       "  -7.046146392822266,\n",
       "  -7.2993879318237305,\n",
       "  -7.495290279388428,\n",
       "  -7.344561576843262,\n",
       "  -6.8395280838012695,\n",
       "  -7.2907280921936035,\n",
       "  -7.300796985626221,\n",
       "  -6.689842700958252,\n",
       "  -7.460556983947754,\n",
       "  -7.009932041168213,\n",
       "  -7.171510696411133,\n",
       "  -7.412957191467285,\n",
       "  -7.638309001922607,\n",
       "  -7.739987373352051,\n",
       "  -7.135540962219238,\n",
       "  -7.249264717102051,\n",
       "  -7.6200432777404785,\n",
       "  -7.548778533935547,\n",
       "  -7.439262866973877,\n",
       "  -6.976217269897461,\n",
       "  -7.1908674240112305,\n",
       "  -6.898298740386963,\n",
       "  -7.277266025543213,\n",
       "  -7.1748552322387695,\n",
       "  -7.392575740814209,\n",
       "  -7.237504005432129,\n",
       "  -7.024947166442871,\n",
       "  -6.906044960021973,\n",
       "  -7.682076930999756,\n",
       "  -7.412323474884033,\n",
       "  -7.091431617736816,\n",
       "  -7.700695514678955,\n",
       "  -7.227893829345703,\n",
       "  -7.33639669418335,\n",
       "  -7.078405857086182,\n",
       "  -7.157441139221191,\n",
       "  -7.292688846588135,\n",
       "  -7.466618537902832,\n",
       "  -7.165868282318115,\n",
       "  -6.913125991821289,\n",
       "  -7.0660552978515625,\n",
       "  -7.136706352233887,\n",
       "  -7.34461784362793,\n",
       "  -7.334759712219238,\n",
       "  -7.370383262634277,\n",
       "  -7.318841934204102,\n",
       "  -6.804714679718018,\n",
       "  -6.936060905456543,\n",
       "  -7.550811767578125,\n",
       "  -7.068654537200928,\n",
       "  -7.483376502990723,\n",
       "  -7.193652153015137,\n",
       "  -7.005102157592773,\n",
       "  -6.757979393005371,\n",
       "  -7.012712001800537,\n",
       "  -7.386547088623047,\n",
       "  -7.399821758270264,\n",
       "  -6.719554901123047,\n",
       "  -7.32895565032959,\n",
       "  -7.274608135223389,\n",
       "  -6.912987232208252,\n",
       "  -6.9554762840271,\n",
       "  -7.3897881507873535,\n",
       "  -7.033681392669678,\n",
       "  -7.30828857421875,\n",
       "  -7.108248710632324,\n",
       "  -6.936851501464844,\n",
       "  -7.441010475158691,\n",
       "  -7.0841898918151855,\n",
       "  -6.84138298034668,\n",
       "  -7.316159725189209,\n",
       "  -7.630496978759766,\n",
       "  -7.6374592781066895,\n",
       "  -7.5237274169921875,\n",
       "  -6.948528289794922,\n",
       "  -6.877516269683838,\n",
       "  -6.988211631774902,\n",
       "  -7.537736892700195,\n",
       "  -7.2050580978393555,\n",
       "  -7.066205024719238,\n",
       "  -7.272712230682373,\n",
       "  -7.020617485046387,\n",
       "  -7.421608924865723,\n",
       "  -7.321471214294434,\n",
       "  -7.081153392791748,\n",
       "  -7.3931732177734375,\n",
       "  -7.0953521728515625,\n",
       "  -7.349082946777344,\n",
       "  -7.080005168914795,\n",
       "  -6.993941307067871,\n",
       "  -7.551275730133057,\n",
       "  -7.3141350746154785,\n",
       "  -7.522804260253906,\n",
       "  -7.099687576293945,\n",
       "  -7.285588264465332,\n",
       "  -7.416377544403076,\n",
       "  -7.1870269775390625,\n",
       "  -7.535370826721191,\n",
       "  -7.270836353302002,\n",
       "  -6.994626045227051,\n",
       "  -7.301115036010742,\n",
       "  -7.332142353057861,\n",
       "  -7.475480079650879,\n",
       "  -7.202724933624268,\n",
       "  -7.288047790527344,\n",
       "  -7.24394416809082,\n",
       "  -7.05436897277832,\n",
       "  -7.786087512969971,\n",
       "  -7.16627836227417,\n",
       "  -7.209891319274902,\n",
       "  -7.305557727813721,\n",
       "  -7.406317234039307,\n",
       "  -7.109615325927734,\n",
       "  -7.4152984619140625,\n",
       "  -7.04587459564209,\n",
       "  -7.014651298522949,\n",
       "  -7.157883167266846,\n",
       "  -7.568182945251465,\n",
       "  -7.488018989562988,\n",
       "  -7.2627458572387695,\n",
       "  -6.976561546325684,\n",
       "  -7.647546291351318,\n",
       "  -7.401965618133545,\n",
       "  -7.2469096183776855,\n",
       "  -7.241598129272461,\n",
       "  -7.497325897216797,\n",
       "  -7.284875392913818,\n",
       "  -7.326719284057617,\n",
       "  -7.165576457977295,\n",
       "  -7.17314338684082,\n",
       "  -7.423659324645996,\n",
       "  -7.547296047210693,\n",
       "  -7.195251941680908,\n",
       "  -7.2224626541137695,\n",
       "  -7.302828788757324,\n",
       "  -7.480569362640381,\n",
       "  -7.4347968101501465,\n",
       "  -7.615717887878418,\n",
       "  -7.586132526397705,\n",
       "  -7.3149800300598145,\n",
       "  -6.945037364959717,\n",
       "  -7.809811115264893,\n",
       "  -7.266321659088135,\n",
       "  -7.360971450805664,\n",
       "  -7.763076305389404,\n",
       "  -7.227064609527588,\n",
       "  -7.152824878692627,\n",
       "  -7.37092399597168,\n",
       "  -7.278543472290039,\n",
       "  -7.029410362243652,\n",
       "  -7.124818801879883,\n",
       "  -7.498473167419434,\n",
       "  -6.967206001281738,\n",
       "  -7.030637264251709,\n",
       "  -7.230047225952148,\n",
       "  -7.540326118469238,\n",
       "  -7.581251621246338,\n",
       "  -7.1422810554504395,\n",
       "  -7.08549165725708,\n",
       "  -7.346124649047852,\n",
       "  -7.843138217926025,\n",
       "  -6.938481330871582,\n",
       "  -7.1565446853637695,\n",
       "  -7.486912727355957,\n",
       "  -7.406726360321045,\n",
       "  -6.7970380783081055,\n",
       "  -7.119882106781006,\n",
       "  -7.20496129989624,\n",
       "  -7.0741047859191895,\n",
       "  -7.4689812660217285,\n",
       "  -7.420192241668701,\n",
       "  -7.374073028564453,\n",
       "  -7.712333679199219,\n",
       "  -7.266049861907959,\n",
       "  -6.962709426879883,\n",
       "  -7.104093551635742,\n",
       "  -7.050449848175049,\n",
       "  -7.051767349243164,\n",
       "  -7.442993640899658,\n",
       "  -7.496101379394531,\n",
       "  -7.609282970428467,\n",
       "  -7.22292947769165,\n",
       "  -7.182806015014648,\n",
       "  -6.962801456451416,\n",
       "  -7.075972080230713,\n",
       "  -7.475377082824707,\n",
       "  -7.785041809082031,\n",
       "  -7.235050678253174,\n",
       "  -7.231399059295654,\n",
       "  -7.14640998840332,\n",
       "  -7.130082607269287,\n",
       "  -7.4802045822143555,\n",
       "  -7.212607383728027,\n",
       "  -7.057545185089111,\n",
       "  -7.395518779754639,\n",
       "  -7.244842529296875,\n",
       "  -7.507812023162842,\n",
       "  -7.471745014190674,\n",
       "  -7.215353965759277,\n",
       "  -7.472844123840332,\n",
       "  -7.128073215484619,\n",
       "  -7.345422267913818,\n",
       "  -7.166403293609619,\n",
       "  -6.867600917816162,\n",
       "  -7.05998420715332,\n",
       "  -6.935766220092773,\n",
       "  -7.241498947143555,\n",
       "  -7.188876628875732,\n",
       "  -7.8614301681518555,\n",
       "  -7.088095664978027,\n",
       "  -7.277729034423828,\n",
       "  -7.268960952758789,\n",
       "  -6.981174468994141,\n",
       "  -7.182438373565674,\n",
       "  -7.540703296661377,\n",
       "  -7.755568981170654,\n",
       "  -7.040148735046387,\n",
       "  -7.3670654296875,\n",
       "  -7.241664409637451,\n",
       "  -7.135179042816162,\n",
       "  -7.443522930145264,\n",
       "  -7.326352596282959,\n",
       "  -7.180507659912109,\n",
       "  -7.2357330322265625,\n",
       "  -7.225786209106445,\n",
       "  -7.313605785369873,\n",
       "  -7.6098527908325195,\n",
       "  -7.207320690155029,\n",
       "  -7.541003227233887,\n",
       "  -7.401226043701172,\n",
       "  -7.441285133361816,\n",
       "  -7.1522016525268555,\n",
       "  -7.530743598937988,\n",
       "  -7.6190643310546875,\n",
       "  -7.305385112762451,\n",
       "  -7.301818370819092,\n",
       "  -7.557176113128662,\n",
       "  -7.210009574890137,\n",
       "  -6.845755577087402,\n",
       "  -7.214495658874512,\n",
       "  -7.085124492645264,\n",
       "  -7.31343936920166,\n",
       "  -6.835653781890869,\n",
       "  -7.420579433441162,\n",
       "  -7.669918537139893,\n",
       "  -7.546976566314697,\n",
       "  -7.0053486824035645,\n",
       "  -7.110684394836426,\n",
       "  -7.496626377105713,\n",
       "  -7.357944965362549,\n",
       "  -7.3595123291015625,\n",
       "  -7.102025032043457,\n",
       "  -7.45344352722168,\n",
       "  -7.480905532836914,\n",
       "  -7.486196041107178,\n",
       "  -7.251222610473633,\n",
       "  -7.126735687255859,\n",
       "  -6.97902774810791,\n",
       "  -7.498839855194092,\n",
       "  -7.197042465209961,\n",
       "  -7.17288875579834,\n",
       "  -7.434637546539307,\n",
       "  -7.342003345489502,\n",
       "  -6.903082847595215,\n",
       "  -7.2624053955078125,\n",
       "  -7.231783390045166,\n",
       "  -6.729391574859619,\n",
       "  -7.480973720550537,\n",
       "  -7.452706813812256,\n",
       "  -7.039115905761719,\n",
       "  -7.114880561828613,\n",
       "  -7.065612316131592,\n",
       "  -7.30392599105835,\n",
       "  -7.419084072113037,\n",
       "  -7.310698509216309,\n",
       "  -7.1036272048950195,\n",
       "  -7.296754360198975,\n",
       "  -7.174835681915283,\n",
       "  -7.070851802825928,\n",
       "  -6.985198020935059,\n",
       "  -7.325727939605713,\n",
       "  -6.979837894439697,\n",
       "  -7.51156759262085,\n",
       "  -7.307214736938477,\n",
       "  -7.164816856384277,\n",
       "  -7.0188679695129395,\n",
       "  -7.49005126953125,\n",
       "  -7.029394626617432,\n",
       "  -7.102314472198486,\n",
       "  -7.196248531341553,\n",
       "  -7.3934478759765625,\n",
       "  -7.604795932769775,\n",
       "  -7.715732097625732,\n",
       "  -6.8773064613342285,\n",
       "  -7.6316680908203125,\n",
       "  -7.725716590881348,\n",
       "  -6.806900501251221,\n",
       "  -6.955482482910156,\n",
       "  -7.5232253074646,\n",
       "  -7.254818916320801,\n",
       "  -7.355945587158203,\n",
       "  -7.256443500518799,\n",
       "  -7.3329176902771,\n",
       "  -7.252435684204102,\n",
       "  -6.966588497161865,\n",
       "  -7.421933174133301,\n",
       "  -7.234915256500244,\n",
       "  -7.110064506530762,\n",
       "  -7.896737575531006,\n",
       "  -7.083677768707275,\n",
       "  -7.249034881591797,\n",
       "  -6.902222633361816,\n",
       "  -7.097949028015137,\n",
       "  -7.362364292144775,\n",
       "  -7.505663871765137,\n",
       "  -7.5647292137146,\n",
       "  -7.20219612121582,\n",
       "  -7.1248884201049805,\n",
       "  -7.043585300445557,\n",
       "  -7.203676223754883,\n",
       "  -7.065127372741699,\n",
       "  -7.426152229309082,\n",
       "  -7.2000861167907715,\n",
       "  -7.405403137207031,\n",
       "  -7.048106670379639,\n",
       "  -7.197526931762695,\n",
       "  -7.101711750030518,\n",
       "  -7.456725597381592,\n",
       "  -6.791352272033691,\n",
       "  -7.181878566741943,\n",
       "  -7.232020378112793,\n",
       "  -6.933579444885254,\n",
       "  -7.462870121002197,\n",
       "  -7.178250789642334,\n",
       "  -7.084939956665039,\n",
       "  -7.181525707244873,\n",
       "  -7.123064041137695,\n",
       "  -7.238109588623047,\n",
       "  -7.043195724487305,\n",
       "  -7.1903839111328125,\n",
       "  -7.752402305603027,\n",
       "  -7.153219699859619,\n",
       "  -7.158627033233643,\n",
       "  -7.412425994873047,\n",
       "  -7.207729339599609,\n",
       "  -7.276564121246338,\n",
       "  -6.805177688598633,\n",
       "  -7.53071928024292,\n",
       "  -7.414648532867432,\n",
       "  -7.60652494430542,\n",
       "  -7.404303550720215,\n",
       "  -7.440346717834473,\n",
       "  -7.226515293121338,\n",
       "  -7.377013206481934,\n",
       "  -6.8586931228637695,\n",
       "  -7.181446552276611,\n",
       "  -7.505365371704102,\n",
       "  -7.584985256195068,\n",
       "  -7.336923599243164,\n",
       "  -7.618694305419922,\n",
       "  -7.258083820343018,\n",
       "  -7.733858585357666,\n",
       "  -6.958118438720703,\n",
       "  -7.537607669830322,\n",
       "  -7.052711009979248,\n",
       "  -6.5877461433410645,\n",
       "  -7.3387064933776855,\n",
       "  -7.171353340148926,\n",
       "  -7.1066741943359375,\n",
       "  -7.362604141235352,\n",
       "  -7.2830915451049805,\n",
       "  -7.283620834350586,\n",
       "  -7.336878299713135,\n",
       "  -7.3738532066345215,\n",
       "  -7.019862651824951,\n",
       "  -7.391054630279541,\n",
       "  -7.027077674865723,\n",
       "  -7.4758501052856445,\n",
       "  -7.427515983581543,\n",
       "  -7.177878379821777,\n",
       "  -7.191125392913818,\n",
       "  -6.894967555999756,\n",
       "  -6.933655261993408,\n",
       "  -7.336376190185547,\n",
       "  -7.370111465454102,\n",
       "  -7.811978816986084,\n",
       "  -7.320084571838379,\n",
       "  -7.04032564163208,\n",
       "  -7.789002418518066,\n",
       "  -7.500626087188721,\n",
       "  -7.083990097045898,\n",
       "  -7.296184062957764,\n",
       "  -7.3265204429626465,\n",
       "  -7.356484413146973,\n",
       "  -7.371758460998535,\n",
       "  -7.369817733764648,\n",
       "  -7.010770797729492,\n",
       "  -7.11646032333374,\n",
       "  -7.373289108276367,\n",
       "  -7.3422532081604,\n",
       "  -7.546531677246094,\n",
       "  -6.805144309997559,\n",
       "  -7.377241134643555,\n",
       "  -6.935293674468994,\n",
       "  -7.486011028289795,\n",
       "  -7.41392183303833,\n",
       "  -6.975214958190918,\n",
       "  -7.327785015106201,\n",
       "  -6.8284454345703125,\n",
       "  -7.475903034210205,\n",
       "  -7.221606731414795,\n",
       "  -7.350489139556885,\n",
       "  -7.238546371459961,\n",
       "  -7.310493469238281,\n",
       "  -7.662026405334473,\n",
       "  -7.140270709991455,\n",
       "  -7.260220527648926,\n",
       "  -7.143528938293457,\n",
       "  -7.412703990936279,\n",
       "  -7.172358989715576,\n",
       "  -7.257887840270996,\n",
       "  -6.978217124938965,\n",
       "  -7.7122979164123535,\n",
       "  -7.573696613311768,\n",
       "  -7.172189235687256,\n",
       "  -7.100217342376709,\n",
       "  -7.075109958648682,\n",
       "  -7.040386199951172,\n",
       "  -7.240696907043457,\n",
       "  -6.989405155181885,\n",
       "  -7.670687198638916,\n",
       "  -7.5658674240112305,\n",
       "  -7.149800777435303,\n",
       "  -7.274951934814453,\n",
       "  -7.070123672485352,\n",
       "  -7.376152038574219,\n",
       "  -7.389297962188721,\n",
       "  -7.281641960144043,\n",
       "  -7.405422210693359,\n",
       "  -7.53994083404541,\n",
       "  -7.2004523277282715,\n",
       "  -7.496983051300049,\n",
       "  -7.108113765716553,\n",
       "  -7.446785926818848,\n",
       "  ...]]"
      ]
     },
     "execution_count": 82,
     "metadata": {
      "tags": []
     },
     "output_type": "execute_result"
    }
   ],
   "source": [
    "softmax = nn.LogSoftmax(dim=1)\n",
    "softmax(lin2(h_x)).detach().numpy().tolist()"
   ]
  },
  {
   "cell_type": "code",
   "execution_count": 0,
   "metadata": {
    "colab": {},
    "colab_type": "code",
    "id": "IRQWuqqEHAOy",
    "outputId": "b415f713-540a-4ea5-c47e-37119170e1a0"
   },
   "outputs": [
    {
     "data": {
      "text/plain": [
       "(tensor([-6.5388], grad_fn=<MaxBackward0>), tensor([1136]))"
      ]
     },
     "execution_count": 105,
     "metadata": {
      "tags": []
     },
     "output_type": "execute_result"
    }
   ],
   "source": [
    "# Select the index with highest softmax probabilities\n",
    "# See https://pytorch.org/docs/stable/torch.html#torch.max\n",
    "torch.max(softmax(lin2(h_x)), 1)"
   ]
  },
  {
   "cell_type": "markdown",
   "metadata": {
    "colab_type": "text",
    "id": "Ff9AI3AzHAO1"
   },
   "source": [
    "<a id=\"section-3-1-4-train-cbow\"></a>\n",
    "\n",
    "# Now, we train the CBOW model for real."
   ]
  },
  {
   "cell_type": "code",
   "execution_count": 0,
   "metadata": {
    "colab": {},
    "colab_type": "code",
    "id": "KajporK5HAO1",
    "outputId": "64a80e84-7ccf-430e-b754-453ead42ccb3"
   },
   "outputs": [
    {
     "data": {
      "text/plain": [
       "(211, 24)"
      ]
     },
     "execution_count": 106,
     "metadata": {
      "tags": []
     },
     "output_type": "execute_result"
    }
   ],
   "source": [
    "# First we split the data into training and testing.\n",
    "from sklearn.model_selection import train_test_split\n",
    "\n",
    "tokenized_text_train, tokenized_text_test = train_test_split(tokenized_text, test_size=0.1, random_state=42)\n",
    "len(tokenized_text_train), len(tokenized_text_test)"
   ]
  },
  {
   "cell_type": "code",
   "execution_count": 0,
   "metadata": {
    "colab": {},
    "colab_type": "code",
    "id": "_e-DyvAPHAO3"
   },
   "outputs": [],
   "source": [
    "### Hint: Click here to go back up to see the CBOW model"
   ]
  },
  {
   "cell_type": "code",
   "execution_count": 0,
   "metadata": {
    "colab": {},
    "colab_type": "code",
    "id": "KNV7M6HiHAO3"
   },
   "outputs": [],
   "source": [
    "import torch\n",
    "from torch import nn, optim, tensor, autograd\n",
    "from torch.nn import functional as F\n",
    "\n",
    "class CBOW(nn.Module):\n",
    "    def __init__(self, vocab_size, embd_size, context_size, hidden_size):\n",
    "        super(CBOW, self).__init__()\n",
    "        self.embeddings = nn.Embedding(vocab_size, embd_size)\n",
    "        self.linear1 = nn.Linear(2*context_size*embd_size, hidden_size)\n",
    "        self.linear2 = nn.Linear(hidden_size, vocab_size)\n",
    "        \n",
    "    def forward(self, inputs):\n",
    "        # Put the input context indices into the embeddings\n",
    "        # then squeeze it into a single dimension vector with tensor.view((1,-1))\n",
    "        embedded = self.???(inputs).view((1, -1))\n",
    "        # Put the embedding input through linear layer,\n",
    "        # then an activation function to create the hidden layer.\n",
    "        hid = F.relu(self.???(embedded))\n",
    "        # Put the hidden layer through a second linear layer,\n",
    "        out = self.???(hid)\n",
    "        # then a last layer activation function to generate\n",
    "        # pobabilities, hint https://pytorch.org/docs/stable/nn.html#torch.nn.functional.log_softmax\n",
    "        log_probs = F.???(out, dim=1)\n",
    "        return log_probs\n"
   ]
  },
  {
   "cell_type": "code",
   "execution_count": 0,
   "metadata": {
    "colab": {},
    "colab_type": "code",
    "id": "IyJ3a03DHAO6",
    "outputId": "a74a8ea3-91e3-42a7-ef0d-6f49b63b60e2"
   },
   "outputs": [
    {
     "name": "stderr",
     "output_type": "stream",
     "text": [
      "\n",
      "  0%|          | 0/100 [00:00<?, ?it/s]\u001b[A\n",
      "Exception in thread Thread-17:\n",
      "Traceback (most recent call last):\n",
      "  File \"/Library/Frameworks/Python.framework/Versions/3.6/lib/python3.6/threading.py\", line 916, in _bootstrap_inner\n",
      "    self.run()\n",
      "  File \"/Library/Frameworks/Python.framework/Versions/3.6/lib/python3.6/site-packages/tqdm/_tqdm.py\", line 148, in run\n",
      "    for instance in self.tqdm_cls._instances:\n",
      "  File \"/Library/Frameworks/Python.framework/Versions/3.6/lib/python3.6/_weakrefset.py\", line 60, in __iter__\n",
      "    for itemref in self.data:\n",
      "RuntimeError: Set changed size during iteration\n",
      "\n",
      "  2%|▏         | 2/100 [00:13<11:19,  6.94s/it]\n"
     ]
    },
    {
     "ename": "KeyboardInterrupt",
     "evalue": "",
     "output_type": "error",
     "traceback": [
      "\u001b[0;31m---------------------------------------------------------------------------\u001b[0m",
      "\u001b[0;31mKeyboardInterrupt\u001b[0m                         Traceback (most recent call last)",
      "\u001b[0;32m<ipython-input-158-88187b730388>\u001b[0m in \u001b[0;36m<module>\u001b[0;34m\u001b[0m\n\u001b[1;32m     33\u001b[0m             \u001b[0;31m# This unsqueeze thing is really a feature/bug... -_-\u001b[0m\u001b[0;34m\u001b[0m\u001b[0;34m\u001b[0m\u001b[0m\n\u001b[1;32m     34\u001b[0m             \u001b[0mloss\u001b[0m \u001b[0;34m=\u001b[0m \u001b[0mcriterion\u001b[0m\u001b[0;34m(\u001b[0m\u001b[0mlogprobs\u001b[0m\u001b[0;34m,\u001b[0m \u001b[0my\u001b[0m\u001b[0;34m.\u001b[0m\u001b[0munsqueeze\u001b[0m\u001b[0;34m(\u001b[0m\u001b[0;36m0\u001b[0m\u001b[0;34m)\u001b[0m\u001b[0;34m)\u001b[0m\u001b[0;34m\u001b[0m\u001b[0m\n\u001b[0;32m---> 35\u001b[0;31m             \u001b[0mloss\u001b[0m\u001b[0;34m.\u001b[0m\u001b[0mbackward\u001b[0m\u001b[0;34m(\u001b[0m\u001b[0;34m)\u001b[0m\u001b[0;34m\u001b[0m\u001b[0m\n\u001b[0m\u001b[1;32m     36\u001b[0m             \u001b[0moptimizer\u001b[0m\u001b[0;34m.\u001b[0m\u001b[0mstep\u001b[0m\u001b[0;34m(\u001b[0m\u001b[0;34m)\u001b[0m\u001b[0;34m\u001b[0m\u001b[0m\n\u001b[1;32m     37\u001b[0m             \u001b[0mepoch_loss\u001b[0m\u001b[0;34m.\u001b[0m\u001b[0mappend\u001b[0m\u001b[0;34m(\u001b[0m\u001b[0mfloat\u001b[0m\u001b[0;34m(\u001b[0m\u001b[0mloss\u001b[0m\u001b[0;34m)\u001b[0m\u001b[0;34m)\u001b[0m\u001b[0;34m\u001b[0m\u001b[0m\n",
      "\u001b[0;32m/Library/Frameworks/Python.framework/Versions/3.6/lib/python3.6/site-packages/torch/tensor.py\u001b[0m in \u001b[0;36mbackward\u001b[0;34m(self, gradient, retain_graph, create_graph)\u001b[0m\n\u001b[1;32m    100\u001b[0m                 \u001b[0mproducts\u001b[0m\u001b[0;34m.\u001b[0m \u001b[0mDefaults\u001b[0m \u001b[0mto\u001b[0m\u001b[0;31m \u001b[0m\u001b[0;31m`\u001b[0m\u001b[0;31m`\u001b[0m\u001b[0;32mFalse\u001b[0m\u001b[0;31m`\u001b[0m\u001b[0;31m`\u001b[0m\u001b[0;34m.\u001b[0m\u001b[0;34m\u001b[0m\u001b[0m\n\u001b[1;32m    101\u001b[0m         \"\"\"\n\u001b[0;32m--> 102\u001b[0;31m         \u001b[0mtorch\u001b[0m\u001b[0;34m.\u001b[0m\u001b[0mautograd\u001b[0m\u001b[0;34m.\u001b[0m\u001b[0mbackward\u001b[0m\u001b[0;34m(\u001b[0m\u001b[0mself\u001b[0m\u001b[0;34m,\u001b[0m \u001b[0mgradient\u001b[0m\u001b[0;34m,\u001b[0m \u001b[0mretain_graph\u001b[0m\u001b[0;34m,\u001b[0m \u001b[0mcreate_graph\u001b[0m\u001b[0;34m)\u001b[0m\u001b[0;34m\u001b[0m\u001b[0m\n\u001b[0m\u001b[1;32m    103\u001b[0m \u001b[0;34m\u001b[0m\u001b[0m\n\u001b[1;32m    104\u001b[0m     \u001b[0;32mdef\u001b[0m \u001b[0mregister_hook\u001b[0m\u001b[0;34m(\u001b[0m\u001b[0mself\u001b[0m\u001b[0;34m,\u001b[0m \u001b[0mhook\u001b[0m\u001b[0;34m)\u001b[0m\u001b[0;34m:\u001b[0m\u001b[0;34m\u001b[0m\u001b[0m\n",
      "\u001b[0;32m/Library/Frameworks/Python.framework/Versions/3.6/lib/python3.6/site-packages/torch/autograd/__init__.py\u001b[0m in \u001b[0;36mbackward\u001b[0;34m(tensors, grad_tensors, retain_graph, create_graph, grad_variables)\u001b[0m\n\u001b[1;32m     88\u001b[0m     Variable._execution_engine.run_backward(\n\u001b[1;32m     89\u001b[0m         \u001b[0mtensors\u001b[0m\u001b[0;34m,\u001b[0m \u001b[0mgrad_tensors\u001b[0m\u001b[0;34m,\u001b[0m \u001b[0mretain_graph\u001b[0m\u001b[0;34m,\u001b[0m \u001b[0mcreate_graph\u001b[0m\u001b[0;34m,\u001b[0m\u001b[0;34m\u001b[0m\u001b[0m\n\u001b[0;32m---> 90\u001b[0;31m         allow_unreachable=True)  # allow_unreachable flag\n\u001b[0m\u001b[1;32m     91\u001b[0m \u001b[0;34m\u001b[0m\u001b[0m\n\u001b[1;32m     92\u001b[0m \u001b[0;34m\u001b[0m\u001b[0m\n",
      "\u001b[0;31mKeyboardInterrupt\u001b[0m: "
     ]
    }
   ],
   "source": [
    "embd_size = 100\n",
    "learning_rate = 0.003\n",
    "hidden_size = 100\n",
    "window_size = 2\n",
    "\n",
    "device = 'cuda' if torch.cuda.is_available() else 'cpu'\n",
    "\n",
    "# Initialize the dataset.\n",
    "w2v_dataset = Word2VecText(tokenized_text_train, window_size=window_size, variant='cbow')\n",
    "vocab_size = len(w2v_dataset.vocab)\n",
    "\n",
    "criterion = nn.NLLLoss()\n",
    "# Hint: the CBOW model object you've created.\n",
    "model = ???(vocab_size, embd_size, window_size, hidden_size).to(device)\n",
    "optimizer = optim.???(model.parameters(), lr=learning_rate)\n",
    "\n",
    "losses = []\n",
    "\n",
    "model = nn.DataParallel(model)\n",
    "\n",
    "num_epochs = 100\n",
    "for _e in tqdm(range(num_epochs)):\n",
    "    epoch_loss = []\n",
    "    for sent_idx in range(w2v_dataset._len):\n",
    "        for w2v_io in w2v_dataset[sent_idx]:\n",
    "            # Zero gradient.\n",
    "            optimizer.zero_grad()\n",
    "            # Retrieve the inputs and outputs.\n",
    "            x, y = w2v_io['x'], w2v_io['y']\n",
    "            x = tensor(x).to(device)\n",
    "            y = autograd.Variable(tensor(y, dtype=torch.long)).to(device)\n",
    "            # Calculate the log probability of the context embeddings.\n",
    "            logprobs = ???(x)\n",
    "            # This unsqueeze thing is really a feature/bug... -_-\n",
    "            loss = ???(logprobs, y.unsqueeze(0)) \n",
    "            loss.???()\n",
    "            optimizer.???()\n",
    "            epoch_loss.append(float(loss))\n",
    "    # Save model after every epoch.\n",
    "    torch.save(model.state_dict(), 'cbow_checkpoint_{}.pt'.format(_e))\n",
    "    losses.append(sum(epoch_loss)/len(epoch_loss))\n",
    "\n"
   ]
  },
  {
   "cell_type": "code",
   "execution_count": 0,
   "metadata": {
    "colab": {},
    "colab_type": "code",
    "id": "x8HrtnnIHAO6",
    "outputId": "cc6cc1b7-bf8a-47c0-ee9e-27df461e114d"
   },
   "outputs": [
    {
     "data": {
      "image/png": "[encoded data removed]",
      "text/plain": [
       "<Figure size 864x576 with 1 Axes>"
      ]
     },
     "metadata": {
      "tags": []
     },
     "output_type": "display_data"
    }
   ],
   "source": [
    "import matplotlib.pyplot as plt\n",
    "import numpy as np\n",
    "import seaborn as sns\n",
    "\n",
    "sns.set_style(\"darkgrid\")\n",
    "sns.set(rc={'figure.figsize':(12, 8)})\n",
    "\n",
    "plt.plot(losses)\n",
    "plt.show()"
   ]
  },
  {
   "cell_type": "markdown",
   "metadata": {
    "colab_type": "text",
    "id": "Qc82I7eiHAO8"
   },
   "source": [
    "<a id=\"section-3-1-4-evaluate-cbow\"></a>\n",
    "\n",
    "# Apply and Evaluate the CBOW Model "
   ]
  },
  {
   "cell_type": "code",
   "execution_count": 0,
   "metadata": {
    "colab": {},
    "colab_type": "code",
    "id": "pRk8qOwUHAO8",
    "outputId": "6a6cd788-b5e1-4dc7-a0e2-bbee3e053bf1"
   },
   "outputs": [
    {
     "name": "stdout",
     "output_type": "stream",
     "text": [
      "\u001b[92mis\u001b[0m \t\t the problem \u001b[92mis\u001b[0m essentially this\n",
      "\u001b[92messentially\u001b[0m \t problem is \u001b[91mthe\u001b[0m this :\n",
      "\u001b[92mthis\u001b[0m \t\t is essentially \u001b[91mthe\u001b[0m : if\n",
      "\u001b[92m:\u001b[0m \t\t essentially this \u001b[91m______\u001b[0m if a\n",
      "\u001b[92mif\u001b[0m \t\t this : \u001b[91mfor\u001b[0m a word\n",
      "\u001b[92ma\u001b[0m \t\t : if \u001b[91mand\u001b[0m word (\n",
      "\u001b[92mword\u001b[0m \t\t if a \u001b[91m(\u001b[0m ( or\n",
      "\u001b[92m(\u001b[0m \t\t a word \u001b[91m______\u001b[0m or bigram\n",
      "\u001b[92mor\u001b[0m \t\t word ( \u001b[91mand\u001b[0m bigram ,\n",
      "\u001b[92mbigram\u001b[0m \t\t ( or \u001b[91m)\u001b[0m , or\n",
      "\u001b[92m<unk>\u001b[0m \t\t , or \u001b[91mis\u001b[0m , or\n",
      "\u001b[92m<unk>\u001b[0m \t\t , or \u001b[91mand\u001b[0m etc .\n",
      "\u001b[92mis\u001b[0m \t\t the web \u001b[91mof\u001b[0m a vast\n",
      "\u001b[92ma\u001b[0m \t\t web is \u001b[91mnot\u001b[0m vast re-\n",
      "\u001b[92mvast\u001b[0m \t\t is a \u001b[91mthe\u001b[0m re- source\n",
      "\u001b[92mre-\u001b[0m \t\t a vast \u001b[91mof\u001b[0m source for\n",
      "\u001b[92msource\u001b[0m \t\t vast re- \u001b[91m______\u001b[0m for many\n",
      "\u001b[92mthe\u001b[0m \t\t is that \u001b[92mthe\u001b[0m association is\n",
      "\u001b[92massociation\u001b[0m \t that the \u001b[91m______\u001b[0m is random\n",
      "\u001b[92mis\u001b[0m \t\t the association \u001b[92mis\u001b[0m random ,\n",
      "\u001b[92mrandom\u001b[0m \t\t association is \u001b[91mthe\u001b[0m , arbitrary\n",
      "\u001b[92m,\u001b[0m \t\t is random \u001b[91m______\u001b[0m arbitrary ,\n",
      "\u001b[92marbitrary\u001b[0m \t random , \u001b[91mand\u001b[0m , motivated\n",
      "\u001b[92m,\u001b[0m \t\t , arbitrary \u001b[91m______\u001b[0m motivated or\n",
      "\u001b[92mmotivated\u001b[0m \t arbitrary , \u001b[91mand\u001b[0m or pre-\n",
      "\u001b[92m<unk>\u001b[0m \t\t or pre- \u001b[91m)\u001b[0m ( r\n",
      "\u001b[92m,\u001b[0m \t\t ( r \u001b[91m)\u001b[0m a ,\n",
      "\u001b[92m<unk>\u001b[0m \t\t a , \u001b[91mever\u001b[0m , p\n",
      "\u001b[92mtheir\u001b[0m \t\t however , \u001b[91mand\u001b[0m methods are\n",
      "\u001b[92mexample\u001b[0m \t , for \u001b[91mthe\u001b[0m , from\n",
      "\u001b[92m,\u001b[0m \t\t for example \u001b[91m______\u001b[0m from just\n",
      "\u001b[92mfrom\u001b[0m \t\t example , \u001b[91mand\u001b[0m just those\n",
      "\u001b[92m<unk>\u001b[0m \t\t just those \u001b[91mthe\u001b[0m errors that\n",
      "\u001b[92mthey\u001b[0m \t\t , and \u001b[91mthe\u001b[0m do not\n",
      "\u001b[92mdo\u001b[0m \t\t and they \u001b[91mis\u001b[0m not wish\n",
      "\u001b[92mnot\u001b[0m \t\t they do \u001b[92mnot\u001b[0m wish to\n",
      "\u001b[92m<unk>\u001b[0m \t\t wish to \u001b[91mand\u001b[0m any scf\n",
      "\u001b[92mfor\u001b[0m \t\t any scf \u001b[91mthe\u001b[0m which there\n",
      "\u001b[92mwhich\u001b[0m \t\t scf for \u001b[91mthe\u001b[0m there is\n",
      "\u001b[92mthere\u001b[0m \t\t for which \u001b[91mthe\u001b[0m is any\n",
      "\u001b[92mis\u001b[0m \t\t which there \u001b[92mis\u001b[0m any evidence\n",
      "\u001b[92many\u001b[0m \t\t there is \u001b[91mthe\u001b[0m evidence as\n",
      "\u001b[92mevidence\u001b[0m \t is any \u001b[91m______\u001b[0m as a\n",
      "\u001b[92mas\u001b[0m \t\t any evidence \u001b[91mis\u001b[0m a true\n",
      "\u001b[92ma\u001b[0m \t\t evidence as \u001b[91mthe\u001b[0m true scf\n",
      "\u001b[92mtrue\u001b[0m \t\t as a \u001b[91mthe\u001b[0m scf for\n",
      "\u001b[92mscf\u001b[0m \t\t a true \u001b[91mis\u001b[0m for the\n",
      "\u001b[92mfor\u001b[0m \t\t true scf \u001b[91mthat\u001b[0m the verb\n",
      "\u001b[92mthe\u001b[0m \t\t scf for \u001b[92mthe\u001b[0m verb .\n",
      "\u001b[92m<unk>\u001b[0m \t\t some way \u001b[91m______\u001b[0m out to\n",
      "\u001b[92mwas\u001b[0m \t\t tion that \u001b[91m______\u001b[0m indistinguishable from\n",
      "\u001b[92mindistinguishable\u001b[0m \t that was \u001b[91mis\u001b[0m from one\n",
      "\u001b[92mfrom\u001b[0m \t\t was indistinguishable \u001b[91m______\u001b[0m one where\n",
      "\u001b[92mone\u001b[0m \t\t indistinguishable from \u001b[91mand\u001b[0m where the\n",
      "\u001b[92mwhere\u001b[0m \t\t from one \u001b[91min\u001b[0m the individual\n",
      "\u001b[92mthe\u001b[0m \t\t one where \u001b[91m______\u001b[0m individual words\n",
      "\u001b[92mindividual\u001b[0m \t where the \u001b[91mand\u001b[0m words (\n",
      "\u001b[92mwords\u001b[0m \t\t the individual \u001b[91mis\u001b[0m ( as\n",
      "\u001b[92m(\u001b[0m \t\t individual words \u001b[92m(\u001b[0m as opposed\n",
      "\u001b[92mas\u001b[0m \t\t words ( \u001b[91mand\u001b[0m opposed to\n",
      "\u001b[92mopposed\u001b[0m \t ( as \u001b[91m)\u001b[0m to the\n",
      "\u001b[92mto\u001b[0m \t\t as opposed \u001b[91mof\u001b[0m the texts\n",
      "\u001b[92mthe\u001b[0m \t\t opposed to \u001b[91m(\u001b[0m texts )\n",
      "\u001b[92mtexts\u001b[0m \t\t to the \u001b[91mnull\u001b[0m ) had\n",
      "\u001b[92m)\u001b[0m \t\t the texts \u001b[91mof\u001b[0m had been\n",
      "\u001b[92mhad\u001b[0m \t\t texts ) \u001b[91mthe\u001b[0m been randomly\n",
      "\u001b[92mbeen\u001b[0m \t\t ) had \u001b[91m______\u001b[0m randomly selected\n",
      "\u001b[92mrandomly\u001b[0m \t had been \u001b[91m______\u001b[0m selected ,\n",
      "\u001b[92mselected\u001b[0m \t been randomly \u001b[91mis\u001b[0m , this\n",
      "\u001b[92m<unk>\u001b[0m \t\t , this \u001b[91m______\u001b[0m out not\n",
      "\u001b[92mto\u001b[0m \t\t out not \u001b[92mto\u001b[0m be the\n",
      "\u001b[92mbe\u001b[0m \t\t not to \u001b[91mand\u001b[0m the case\n",
      "\u001b[92mthe\u001b[0m \t\t to be \u001b[91mis\u001b[0m case .\n",
      "\u001b[92m<unk>\u001b[0m \t\t ted and \u001b[91mand\u001b[0m carroll 1997\n",
      "\u001b[92m<unk>\u001b[0m \t\t 1997 automatic \u001b[91mthe\u001b[0m of subcategorization\n",
      "\u001b[92mfrom\u001b[0m \t\t of subcategorization \u001b[91m______\u001b[0m corpora .\n",
      "\u001b[92mwere\u001b[0m \t\t the ho \u001b[91mis\u001b[0m tested using\n",
      "\u001b[92mtested\u001b[0m \t\t ho were \u001b[91mto\u001b[0m using the\n",
      "\u001b[92m<unk>\u001b[0m \t\t using the \u001b[91mnull\u001b[0m : is\n",
      "\u001b[92m<unk>\u001b[0m \t\t ⫺ e \u001b[91m______\u001b[0m ⫺ 0.5\n",
      "\u001b[92m<unk>\u001b[0m \t\t ) 2 \u001b[91ma\u001b[0m greater than\n",
      "\u001b[92mthe\u001b[0m \t\t greater than \u001b[91m______\u001b[0m critical value\n",
      "\u001b[92mcritical\u001b[0m \t than the \u001b[91mthe\u001b[0m value ?\n",
      "\u001b[92m<unk>\u001b[0m \t\t schütze 1999 \u001b[91mthe\u001b[0m of statistical\n",
      "\u001b[92mnatural\u001b[0m \t of statistical \u001b[91m______\u001b[0m language processing\n",
      "\u001b[92mlanguage\u001b[0m \t statistical natural \u001b[91m______\u001b[0m processing .\n",
      "\u001b[92mlikelihood\u001b[0m \t if the \u001b[91m______\u001b[0m is low\n",
      "\u001b[92mis\u001b[0m \t\t the likelihood \u001b[91m______\u001b[0m low ,\n",
      "\u001b[92mlow\u001b[0m \t\t likelihood is \u001b[91mnot\u001b[0m , we\n",
      "\u001b[92m,\u001b[0m \t\t is low \u001b[91m______\u001b[0m we reject\n",
      "\u001b[92mwe\u001b[0m \t\t low , \u001b[91mand\u001b[0m reject h0\n",
      "\u001b[92mreject\u001b[0m \t\t , we \u001b[91m______\u001b[0m h0 .\n",
      "\u001b[92mthe\u001b[0m \t\t however where \u001b[92mthe\u001b[0m sample size\n",
      "\u001b[92m<unk>\u001b[0m \t\t sample size \u001b[91m______\u001b[0m by an\n",
      "\u001b[92m<unk>\u001b[0m \t\t order of \u001b[91mthe\u001b[0m , or\n",
      "\u001b[92mwhere\u001b[0m \t\t , or \u001b[91mthe\u001b[0m it is\n",
      "\u001b[92mit\u001b[0m \t\t or where \u001b[91m)\u001b[0m is enormous\n",
      "\u001b[92mis\u001b[0m \t\t where it \u001b[92mis\u001b[0m enormous ,\n",
      "\u001b[92menormous\u001b[0m \t it is \u001b[91mnot\u001b[0m , it\n",
      "\u001b[92m,\u001b[0m \t\t is enormous \u001b[91m______\u001b[0m it is\n",
      "\u001b[92mit\u001b[0m \t\t enormous , \u001b[91mand\u001b[0m is wrong\n",
      "\u001b[92mis\u001b[0m \t\t , it \u001b[92mis\u001b[0m wrong to\n",
      "\u001b[92mwrong\u001b[0m \t\t it is \u001b[91mnot\u001b[0m to identify\n",
      "\u001b[92mto\u001b[0m \t\t is wrong \u001b[92mto\u001b[0m identify the\n",
      "\u001b[92m<unk>\u001b[0m \t\t identify the \u001b[91m______\u001b[0m distinction with\n",
      "\u001b[92m<unk>\u001b[0m \t\t with the \u001b[91m______\u001b[0m one .\n",
      "\u001b[92mthe\u001b[0m \t\t proceedings of \u001b[92mthe\u001b[0m conference of\n",
      "\u001b[92mconference\u001b[0m \t of the \u001b[91mnot\u001b[0m of the\n",
      "\u001b[92mis\u001b[0m \t\t false assumptions \u001b[91mthe\u001b[0m often an\n",
      "\u001b[92m<unk>\u001b[0m \t\t often an \u001b[91mthe\u001b[0m way to\n",
      "\u001b[92m<unk>\u001b[0m \t\t way to \u001b[91mand\u001b[0m ; the\n",
      "\u001b[92m<unk>\u001b[0m \t\t the problem \u001b[91mis\u001b[0m where the\n",
      "\u001b[92m<unk>\u001b[0m \t\t of the \u001b[91m______\u001b[0m is overlooked\n",
      "\u001b[92mlinguistics\u001b[0m \t compu- tational \u001b[91mand\u001b[0m 16 (\n",
      "\u001b[92m16\u001b[0m \t\t tational linguistics \u001b[91m______\u001b[0m ( 1\n",
      "\u001b[92m(\u001b[0m \t\t linguistics 16 \u001b[92m(\u001b[0m 1 )\n",
      "\u001b[92m1\u001b[0m \t\t 16 ( \u001b[91mx\u001b[0m ) ,\n",
      "\u001b[92mis\u001b[0m \t\t conclusion language \u001b[91m______\u001b[0m non-random and\n",
      "\u001b[92mnon-random\u001b[0m \t language is \u001b[91mnot\u001b[0m and hence\n",
      "\u001b[92mand\u001b[0m \t\t is non-random \u001b[91mthe\u001b[0m hence ,\n",
      "\u001b[92mhence\u001b[0m \t\t non-random and \u001b[91mis\u001b[0m , when\n",
      "\u001b[92m,\u001b[0m \t\t and hence \u001b[91m______\u001b[0m when we\n",
      "\u001b[92mwhen\u001b[0m \t\t hence , \u001b[91mand\u001b[0m we look\n",
      "\u001b[92mwe\u001b[0m \t\t , when \u001b[91m______\u001b[0m look at\n",
      "\u001b[92mlook\u001b[0m \t\t when we \u001b[91mthe\u001b[0m at linguistic\n",
      "\u001b[92m,\u001b[0m \t\t in corpora \u001b[91min\u001b[0m the null\n",
      "\u001b[92mthe\u001b[0m \t\t corpora , \u001b[92mthe\u001b[0m null hypothesis\n",
      "\u001b[92mnull\u001b[0m \t\t , the \u001b[92mnull\u001b[0m hypothesis will\n",
      "\u001b[92mhypothesis\u001b[0m \t the null \u001b[92mhypothesis\u001b[0m will never\n",
      "\u001b[92mwill\u001b[0m \t\t null hypothesis \u001b[91mis\u001b[0m never be\n",
      "\u001b[92mnever\u001b[0m \t\t hypothesis will \u001b[91mthe\u001b[0m be true\n",
      "\u001b[92mbe\u001b[0m \t\t will never \u001b[91m______\u001b[0m true .\n",
      "\u001b[92mnot\u001b[0m \t\t we do \u001b[92mnot\u001b[0m always have\n",
      "\u001b[92malways\u001b[0m \t\t do not \u001b[91m______\u001b[0m have enough\n",
      "\u001b[92mhave\u001b[0m \t\t not always \u001b[91mthe\u001b[0m enough data\n",
      "\u001b[92menough\u001b[0m \t\t always have \u001b[91ma\u001b[0m data to\n",
      "\u001b[92mdata\u001b[0m \t\t have enough \u001b[91m______\u001b[0m to reject\n",
      "\u001b[92mto\u001b[0m \t\t enough data \u001b[91m______\u001b[0m reject the\n",
      "\u001b[92mreject\u001b[0m \t\t data to \u001b[91mand\u001b[0m the null\n",
      "\u001b[92mthe\u001b[0m \t\t to reject \u001b[92mthe\u001b[0m null hypothesis\n",
      "\u001b[92mnull\u001b[0m \t\t reject the \u001b[92mnull\u001b[0m hypothesis ,\n",
      "\u001b[92mhypothesis\u001b[0m \t the null \u001b[92mhypothesis\u001b[0m , but\n",
      "\u001b[92m,\u001b[0m \t\t null hypothesis \u001b[91mis\u001b[0m but that\n",
      "\u001b[92mbut\u001b[0m \t\t hypothesis , \u001b[91mthe\u001b[0m that is\n",
      "\u001b[92mthat\u001b[0m \t\t , but \u001b[91m______\u001b[0m is a\n",
      "\u001b[92m<unk>\u001b[0m \t\t is a \u001b[91mthe\u001b[0m issue :\n",
      "\u001b[92mwherever\u001b[0m \t issue : \u001b[91m______\u001b[0m there is\n",
      "\u001b[92mthere\u001b[0m \t\t : wherever \u001b[91m______\u001b[0m is enough\n",
      "\u001b[92mis\u001b[0m \t\t wherever there \u001b[92mis\u001b[0m enough data\n",
      "\u001b[92menough\u001b[0m \t\t there is \u001b[91mnot\u001b[0m data ,\n",
      "\u001b[92mdata\u001b[0m \t\t is enough \u001b[91m______\u001b[0m , it\n",
      "\u001b[92m,\u001b[0m \t\t enough data \u001b[91m______\u001b[0m it is\n",
      "\u001b[92mit\u001b[0m \t\t data , \u001b[91mand\u001b[0m is rejected\n",
      "\u001b[92mis\u001b[0m \t\t , it \u001b[92mis\u001b[0m rejected .\n",
      "\u001b[92min\u001b[0m \t\t since words \u001b[91m______\u001b[0m a text\n",
      "\u001b[92ma\u001b[0m \t\t words in \u001b[91mthe\u001b[0m text are\n",
      "\u001b[92mtext\u001b[0m \t\t in a \u001b[91mand\u001b[0m are not\n",
      "\u001b[92mare\u001b[0m \t\t a text \u001b[91mis\u001b[0m not random\n",
      "\u001b[92mnot\u001b[0m \t\t text are \u001b[91m______\u001b[0m random ,\n",
      "\u001b[92mrandom\u001b[0m \t\t are not \u001b[91m______\u001b[0m , we\n",
      "\u001b[92m,\u001b[0m \t\t not random \u001b[91m______\u001b[0m we know\n",
      "\u001b[92mwe\u001b[0m \t\t random , \u001b[91mthe\u001b[0m know that\n",
      "\u001b[92mknow\u001b[0m \t\t , we \u001b[91m______\u001b[0m that our\n",
      "\u001b[92mthat\u001b[0m \t\t we know \u001b[91mthe\u001b[0m our corpora\n",
      "\u001b[92mour\u001b[0m \t\t know that \u001b[91mthe\u001b[0m corpora are\n",
      "\u001b[92mcorpora\u001b[0m \t that our \u001b[91m______\u001b[0m are not\n",
      "\u001b[92mare\u001b[0m \t\t our corpora \u001b[91mis\u001b[0m not randomly\n",
      "\u001b[92mnot\u001b[0m \t\t corpora are \u001b[91m______\u001b[0m randomly generated\n",
      "\u001b[92mrandomly\u001b[0m \t are not \u001b[91m______\u001b[0m generated ,\n",
      "\u001b[92mgenerated\u001b[0m \t not randomly \u001b[91m______\u001b[0m , and\n",
      "\u001b[92m,\u001b[0m \t\t randomly generated \u001b[91m______\u001b[0m and the\n",
      "\u001b[92mand\u001b[0m \t\t generated , \u001b[92mand\u001b[0m the hypothesis\n",
      "\u001b[92mthe\u001b[0m \t\t , and \u001b[91mnull\u001b[0m hypothesis test\n",
      "\u001b[92mhypothesis\u001b[0m \t and the \u001b[91m______\u001b[0m test con-\n",
      "\u001b[92m<unk>\u001b[0m \t\t test con- \u001b[91min\u001b[0m the fact\n",
      "\u001b[92m<unk>\u001b[0m \t\t cases are \u001b[91mthe\u001b[0m in section\n",
      "\u001b[92m<unk>\u001b[0m \t\t of linguistic \u001b[91m______\u001b[0m concern the\n",
      "\u001b[92m<unk>\u001b[0m \t\t the dis- \u001b[91mnot\u001b[0m between a\n",
      "\u001b[92m<unk>\u001b[0m \t\t a and \u001b[91mand\u001b[0m a linguistic\n",
      "\u001b[92m<unk>\u001b[0m \t\t a linguistic \u001b[91mand\u001b[0m of a\n",
      "\u001b[92m<unk>\u001b[0m \t\t reason to \u001b[91mthat\u001b[0m the relation\n",
      "\u001b[92mbetween\u001b[0m \t the relation \u001b[91mof\u001b[0m , for\n",
      "\u001b[92m,\u001b[0m \t\t relation between \u001b[91mis\u001b[0m for example\n",
      "\u001b[92mfor\u001b[0m \t\t between , \u001b[91mand\u001b[0m example ,\n",
      "\u001b[92mexample\u001b[0m \t , for \u001b[91m)\u001b[0m , a\n",
      "\u001b[92m,\u001b[0m \t\t for example \u001b[91m______\u001b[0m a verb\n",
      "\u001b[92ma\u001b[0m \t\t example , \u001b[91mand\u001b[0m verb ’\n"
     ]
    },
    {
     "name": "stdout",
     "output_type": "stream",
     "text": [
      "\u001b[92mverb\u001b[0m \t\t , a \u001b[91m______\u001b[0m ’ s\n",
      "\u001b[92m’\u001b[0m \t\t a verb \u001b[91mof\u001b[0m s syntax\n",
      "\u001b[92ms\u001b[0m \t\t verb ’ \u001b[91m______\u001b[0m syntax and\n",
      "\u001b[92msyntax\u001b[0m \t\t ’ s \u001b[91m______\u001b[0m and its\n",
      "\u001b[92m<unk>\u001b[0m \t\t and its \u001b[91mthe\u001b[0m , as\n",
      "\u001b[92mmotivated\u001b[0m \t , as \u001b[91mis\u001b[0m rather than\n",
      "\u001b[92mrather\u001b[0m \t\t as motivated \u001b[91mand\u001b[0m than arbitrary\n",
      "\u001b[92mthan\u001b[0m \t\t motivated rather \u001b[91m______\u001b[0m arbitrary .\n",
      "\u001b[92mvalue\u001b[0m \t\t the average \u001b[91mto\u001b[0m of the\n",
      "\u001b[92mof\u001b[0m \t\t average value \u001b[92mof\u001b[0m the error\n",
      "\u001b[92mthe\u001b[0m \t\t value of \u001b[92mthe\u001b[0m error term\n",
      "\u001b[92merror\u001b[0m \t\t of the \u001b[91mand\u001b[0m term ,\n",
      "\u001b[92mterm\u001b[0m \t\t the error \u001b[91mof\u001b[0m , language\n",
      "\u001b[92m,\u001b[0m \t\t error term \u001b[91mis\u001b[0m language is\n",
      "\u001b[92mlanguage\u001b[0m \t term , \u001b[91mand\u001b[0m is never\n",
      "\u001b[92mis\u001b[0m \t\t , language \u001b[92mis\u001b[0m never ,\n",
      "\u001b[92mnever\u001b[0m \t\t language is \u001b[91mnot\u001b[0m , ever\n",
      "\u001b[92m,\u001b[0m \t\t is never \u001b[91m______\u001b[0m ever ,\n",
      "\u001b[92mever\u001b[0m \t\t never , \u001b[92mever\u001b[0m , ever\n",
      "\u001b[92m,\u001b[0m \t\t , ever \u001b[91m______\u001b[0m ever ,\n",
      "\u001b[92mever\u001b[0m \t\t ever , \u001b[92mever\u001b[0m , random\n",
      "\u001b[92m<unk>\u001b[0m \t\t ) 2 \u001b[91mand\u001b[0m is then\n",
      "\u001b[92m<unk>\u001b[0m \t\t is then \u001b[91mof\u001b[0m the hypothesis\n",
      "\u001b[92m<unk>\u001b[0m \t\t can , \u001b[91mever\u001b[0m , be\n",
      "\u001b[92m<unk>\u001b[0m \t\t , be \u001b[91mis\u001b[0m as :\n",
      "\u001b[92mare\u001b[0m \t\t as : \u001b[91mfor\u001b[0m the error\n",
      "\u001b[92mthe\u001b[0m \t\t : are \u001b[92mthe\u001b[0m error terms\n",
      "\u001b[92merror\u001b[0m \t\t are the \u001b[91mtwo\u001b[0m terms systematically\n",
      "\u001b[92mterms\u001b[0m \t\t the error \u001b[91mhypothesis\u001b[0m systematically greater\n",
      "\u001b[92msystematically\u001b[0m \t error terms \u001b[91mis\u001b[0m greater than\n",
      "\u001b[92mgreater\u001b[0m \t terms systematically \u001b[91m______\u001b[0m than 0.5\n",
      "\u001b[92mthan\u001b[0m \t\t systematically greater \u001b[91m______\u001b[0m 0.5 ?\n",
      "\u001b[92m1\u001b[0m \t\t with just \u001b[91mthe\u001b[0m % of\n",
      "\u001b[92m%\u001b[0m \t\t just 1 \u001b[91m______\u001b[0m of them\n",
      "\u001b[92mof\u001b[0m \t\t 1 % \u001b[91m______\u001b[0m them ,\n",
      "\u001b[92mthem\u001b[0m \t\t % of \u001b[91mthe\u001b[0m , devastate\n",
      "\u001b[92m<unk>\u001b[0m \t\t , devastate \u001b[91m______\u001b[0m one of\n",
      "\u001b[92mthe\u001b[0m \t\t one of \u001b[92mthe\u001b[0m verbs for\n",
      "\u001b[92mverbs\u001b[0m \t\t of the \u001b[91mnull\u001b[0m for which\n",
      "\u001b[92mfor\u001b[0m \t\t the verbs \u001b[91mof\u001b[0m which we\n",
      "\u001b[92mwhich\u001b[0m \t\t verbs for \u001b[91m______\u001b[0m we have\n",
      "\u001b[92m<unk>\u001b[0m \t\t we have \u001b[91mthe\u001b[0m of data\n",
      "\u001b[92m<unk>\u001b[0m \t\t , and \u001b[91mare\u001b[0m thresholding methods\n",
      "\u001b[92mwill\u001b[0m \t\t thresholding methods \u001b[91mthe\u001b[0m distinguish associated\n",
      "\u001b[92mdistinguish\u001b[0m \t methods will \u001b[91mis\u001b[0m associated scfs\n",
      "\u001b[92massociated\u001b[0m \t will distinguish \u001b[91m______\u001b[0m scfs from\n",
      "\u001b[92mscfs\u001b[0m \t\t distinguish associated \u001b[91mis\u001b[0m from noise\n",
      "\u001b[92mfrom\u001b[0m \t\t associated scfs \u001b[91mand\u001b[0m noise .\n"
     ]
    }
   ],
   "source": [
    "from lazyme import color_str\n",
    "\n",
    "true_positive = 0\n",
    "all_data = 0\n",
    "# Iterate through the test sentences. \n",
    "for sent in tokenized_text_test:\n",
    "    # Extract all the CBOW contexts (X) and targets (Y)\n",
    "    for w2v_io in w2v_dataset._iterator(w2v_dataset.vectorize(sent)):\n",
    "        # Retrieve the inputs and outputs.\n",
    "        x = tensor(w2v_io['x']).to(device)\n",
    "        y = tensor(w2v_io['y']).to(device)\n",
    "        if -1 in x: # Skip unknown words.\n",
    "            continue\n",
    "            \n",
    "        with torch.no_grad():\n",
    "            # Remember how to get the best prediction output? \n",
    "            # Hint: https://pytorch.org/docs/stable/torch.html#torch.max\n",
    "            _, prediction =  torch.???(model(x), 1)\n",
    "        true_positive += int(prediction) == int(y)\n",
    "        visualize_predictions(x, y, prediction, w2v_dataset.vocab, window_size=window_size)\n",
    "        all_data += 1"
   ]
  },
  {
   "cell_type": "code",
   "execution_count": 0,
   "metadata": {
    "colab": {},
    "colab_type": "code",
    "id": "PelknL2MHAO9",
    "outputId": "07bf09ce-6bd3-445d-93b9-8d323e4536ec"
   },
   "outputs": [
    {
     "data": {
      "text/plain": [
       "(tensor([-2.3261], grad_fn=<MaxBackward0>), tensor([4]))"
      ]
     },
     "execution_count": 165,
     "metadata": {
      "tags": []
     },
     "output_type": "execute_result"
    }
   ],
   "source": [
    "torch.max(model(x), 1)\n",
    "#model(x)"
   ]
  },
  {
   "cell_type": "code",
   "execution_count": 0,
   "metadata": {
    "colab": {},
    "colab_type": "code",
    "id": "LFxlL7a-HAO-",
    "outputId": "d9b07963-2da0-488b-fb44-8138e2cda4e0"
   },
   "outputs": [
    {
     "name": "stdout",
     "output_type": "stream",
     "text": [
      "Accuracy: 0.1829787234042553\n"
     ]
    }
   ],
   "source": [
    "print('Accuracy:', true_positive/all_data)"
   ]
  },
  {
   "cell_type": "markdown",
   "metadata": {
    "colab_type": "text",
    "id": "kfJ52Vf3HAO_"
   },
   "source": [
    "<a id=\"section-3-1-4-load-model\"></a>\n",
    "\n",
    "# Go back to the 5th Epoch"
   ]
  },
  {
   "cell_type": "code",
   "execution_count": 0,
   "metadata": {
    "colab": {},
    "colab_type": "code",
    "id": "gLyxuoUCHAO_",
    "outputId": "8c7afdee-a14e-4252-90c9-27b661c0d1a8"
   },
   "outputs": [
    {
     "data": {
      "text/plain": [
       "DataParallel(\n",
       "  (module): CBOW(\n",
       "    (embeddings): Embedding(1303, 100)\n",
       "    (linear1): Linear(in_features=400, out_features=100, bias=True)\n",
       "    (linear2): Linear(in_features=100, out_features=1303, bias=True)\n",
       "  )\n",
       ")"
      ]
     },
     "execution_count": 62,
     "metadata": {
      "tags": []
     },
     "output_type": "execute_result"
    }
   ],
   "source": [
    "model_5 = CBOW(vocab_size, embd_size, window_size, hidden_size)\n",
    "model_5 = torch.nn.DataParallel(model_5)\n",
    "model_5.load_state_dict(torch.load('cbow_checkpoint_5.pt'))\n",
    "model_5.eval()"
   ]
  },
  {
   "cell_type": "code",
   "execution_count": 0,
   "metadata": {
    "colab": {},
    "colab_type": "code",
    "id": "kvy7BIcaHAPB",
    "outputId": "08f74835-bc89-4a1b-bab7-72a7cd2dadde"
   },
   "outputs": [
    {
     "name": "stdout",
     "output_type": "stream",
     "text": [
      "\u001b[92mis\u001b[0m \t\t the problem \u001b[91m______\u001b[0m essentially this\n",
      "\u001b[92messentially\u001b[0m \t problem is \u001b[91mthe\u001b[0m this :\n",
      "\u001b[92mthis\u001b[0m \t\t is essentially \u001b[91mto\u001b[0m : if\n",
      "\u001b[92m:\u001b[0m \t\t essentially this \u001b[91m______\u001b[0m if a\n",
      "\u001b[92mif\u001b[0m \t\t this : \u001b[91mof\u001b[0m a word\n",
      "\u001b[92ma\u001b[0m \t\t : if \u001b[91mas\u001b[0m word (\n",
      "\u001b[92mword\u001b[0m \t\t if a \u001b[91mto\u001b[0m ( or\n",
      "\u001b[92m(\u001b[0m \t\t a word \u001b[91m______\u001b[0m or bigram\n",
      "\u001b[92mor\u001b[0m \t\t word ( \u001b[91mas\u001b[0m bigram ,\n",
      "\u001b[92mbigram\u001b[0m \t\t ( or \u001b[91m)\u001b[0m , or\n",
      "\u001b[92m<unk>\u001b[0m \t\t , or \u001b[91mrandom\u001b[0m , or\n",
      "\u001b[92m<unk>\u001b[0m \t\t , or \u001b[91mby\u001b[0m etc .\n",
      "\u001b[92mis\u001b[0m \t\t the web \u001b[92mis\u001b[0m a vast\n",
      "\u001b[92ma\u001b[0m \t\t web is \u001b[91min\u001b[0m vast re-\n",
      "\u001b[92mvast\u001b[0m \t\t is a \u001b[91mto\u001b[0m re- source\n",
      "\u001b[92mre-\u001b[0m \t\t a vast \u001b[91mof\u001b[0m source for\n",
      "\u001b[92msource\u001b[0m \t\t vast re- \u001b[91m______\u001b[0m for many\n",
      "\u001b[92mthe\u001b[0m \t\t is that \u001b[92mthe\u001b[0m association is\n",
      "\u001b[92massociation\u001b[0m \t that the \u001b[91msample\u001b[0m is random\n",
      "\u001b[92mis\u001b[0m \t\t the association \u001b[91m______\u001b[0m random ,\n",
      "\u001b[92mrandom\u001b[0m \t\t association is \u001b[91mdata\u001b[0m , arbitrary\n",
      "\u001b[92m,\u001b[0m \t\t is random \u001b[91m______\u001b[0m arbitrary ,\n",
      "\u001b[92marbitrary\u001b[0m \t random , \u001b[91mrandom\u001b[0m , motivated\n",
      "\u001b[92m,\u001b[0m \t\t , arbitrary \u001b[91m______\u001b[0m motivated or\n",
      "\u001b[92mmotivated\u001b[0m \t arbitrary , \u001b[91mand\u001b[0m or pre-\n",
      "\u001b[92m<unk>\u001b[0m \t\t or pre- \u001b[91mp\u001b[0m ( r\n",
      "\u001b[92m,\u001b[0m \t\t ( r \u001b[91mis\u001b[0m a ,\n",
      "\u001b[92m<unk>\u001b[0m \t\t a , \u001b[91mrandom\u001b[0m , p\n",
      "\u001b[92mtheir\u001b[0m \t\t however , \u001b[91mand\u001b[0m methods are\n",
      "\u001b[92mexample\u001b[0m \t , for \u001b[91mrandom\u001b[0m , from\n",
      "\u001b[92m,\u001b[0m \t\t for example \u001b[91mof\u001b[0m from just\n",
      "\u001b[92mfrom\u001b[0m \t\t example , \u001b[91mand\u001b[0m just those\n",
      "\u001b[92m<unk>\u001b[0m \t\t just those \u001b[91mthe\u001b[0m errors that\n",
      "\u001b[92mthey\u001b[0m \t\t , and \u001b[91ma\u001b[0m do not\n",
      "\u001b[92mdo\u001b[0m \t\t and they \u001b[91mare\u001b[0m not wish\n",
      "\u001b[92mnot\u001b[0m \t\t they do \u001b[91mbe\u001b[0m wish to\n",
      "\u001b[92m<unk>\u001b[0m \t\t wish to \u001b[91mand\u001b[0m any scf\n",
      "\u001b[92mfor\u001b[0m \t\t any scf \u001b[91m______\u001b[0m which there\n",
      "\u001b[92mwhich\u001b[0m \t\t scf for \u001b[91mthe\u001b[0m there is\n",
      "\u001b[92mthere\u001b[0m \t\t for which \u001b[92mthere\u001b[0m is any\n",
      "\u001b[92mis\u001b[0m \t\t which there \u001b[92mis\u001b[0m any evidence\n",
      "\u001b[92many\u001b[0m \t\t there is \u001b[91mno\u001b[0m evidence as\n",
      "\u001b[92mevidence\u001b[0m \t is any \u001b[91m______\u001b[0m as a\n",
      "\u001b[92mas\u001b[0m \t\t any evidence \u001b[91mis\u001b[0m a true\n",
      "\u001b[92ma\u001b[0m \t\t evidence as \u001b[91mdata\u001b[0m true scf\n",
      "\u001b[92mtrue\u001b[0m \t\t as a \u001b[91mof\u001b[0m scf for\n",
      "\u001b[92mscf\u001b[0m \t\t a true \u001b[91m______\u001b[0m for the\n",
      "\u001b[92mfor\u001b[0m \t\t true scf \u001b[91mof\u001b[0m the verb\n",
      "\u001b[92mthe\u001b[0m \t\t scf for \u001b[92mthe\u001b[0m verb .\n",
      "\u001b[92m<unk>\u001b[0m \t\t some way \u001b[91mto\u001b[0m out to\n",
      "\u001b[92mwas\u001b[0m \t\t tion that \u001b[91mof\u001b[0m indistinguishable from\n",
      "\u001b[92mindistinguishable\u001b[0m \t that was \u001b[91mof\u001b[0m from one\n",
      "\u001b[92mfrom\u001b[0m \t\t was indistinguishable \u001b[91m(\u001b[0m one where\n",
      "\u001b[92mone\u001b[0m \t\t indistinguishable from \u001b[91mto\u001b[0m where the\n",
      "\u001b[92mwhere\u001b[0m \t\t from one \u001b[91mof\u001b[0m the individual\n",
      "\u001b[92mthe\u001b[0m \t\t one where \u001b[91mto\u001b[0m individual words\n",
      "\u001b[92mindividual\u001b[0m \t where the \u001b[91msame\u001b[0m words (\n",
      "\u001b[92mwords\u001b[0m \t\t the individual \u001b[91m______\u001b[0m ( as\n",
      "\u001b[92m(\u001b[0m \t\t individual words \u001b[91m______\u001b[0m as opposed\n",
      "\u001b[92mas\u001b[0m \t\t words ( \u001b[92mas\u001b[0m opposed to\n",
      "\u001b[92mopposed\u001b[0m \t ( as \u001b[91m)\u001b[0m to the\n",
      "\u001b[92mto\u001b[0m \t\t as opposed \u001b[91mof\u001b[0m the texts\n",
      "\u001b[92mthe\u001b[0m \t\t opposed to \u001b[91m(\u001b[0m texts )\n",
      "\u001b[92mtexts\u001b[0m \t\t to the \u001b[91mprobability\u001b[0m ) had\n",
      "\u001b[92m)\u001b[0m \t\t the texts \u001b[91mis\u001b[0m had been\n",
      "\u001b[92mhad\u001b[0m \t\t texts ) \u001b[91m______\u001b[0m been randomly\n",
      "\u001b[92mbeen\u001b[0m \t\t ) had \u001b[91mthe\u001b[0m randomly selected\n",
      "\u001b[92mrandomly\u001b[0m \t had been \u001b[91mlanguage\u001b[0m selected ,\n",
      "\u001b[92mselected\u001b[0m \t been randomly \u001b[91mcorpora\u001b[0m , this\n",
      "\u001b[92m<unk>\u001b[0m \t\t , this \u001b[91mand\u001b[0m out not\n",
      "\u001b[92mto\u001b[0m \t\t out not \u001b[91mcan\u001b[0m be the\n",
      "\u001b[92mbe\u001b[0m \t\t not to \u001b[91mfor\u001b[0m the case\n",
      "\u001b[92mthe\u001b[0m \t\t to be \u001b[92mthe\u001b[0m case .\n",
      "\u001b[92m<unk>\u001b[0m \t\t ted and \u001b[91ma\u001b[0m carroll 1997\n",
      "\u001b[92m<unk>\u001b[0m \t\t 1997 automatic \u001b[91mpopulation\u001b[0m of subcategorization\n",
      "\u001b[92mfrom\u001b[0m \t\t of subcategorization \u001b[91mand\u001b[0m corpora .\n",
      "\u001b[92mwere\u001b[0m \t\t the ho \u001b[91mof\u001b[0m tested using\n",
      "\u001b[92mtested\u001b[0m \t\t ho were \u001b[91mfor\u001b[0m using the\n",
      "\u001b[92m<unk>\u001b[0m \t\t using the \u001b[91mtwo\u001b[0m : is\n",
      "\u001b[92m<unk>\u001b[0m \t\t ⫺ e \u001b[91mand\u001b[0m ⫺ 0.5\n",
      "\u001b[92m<unk>\u001b[0m \t\t ) 2 \u001b[91m______\u001b[0m greater than\n",
      "\u001b[92mthe\u001b[0m \t\t greater than \u001b[92mthe\u001b[0m critical value\n",
      "\u001b[92mcritical\u001b[0m \t than the \u001b[91mtwo\u001b[0m value ?\n",
      "\u001b[92m<unk>\u001b[0m \t\t schütze 1999 \u001b[91mnumber\u001b[0m of statistical\n",
      "\u001b[92mnatural\u001b[0m \t of statistical \u001b[91m______\u001b[0m language processing\n",
      "\u001b[92mlanguage\u001b[0m \t statistical natural \u001b[91mthe\u001b[0m processing .\n",
      "\u001b[92mlikelihood\u001b[0m \t if the \u001b[91mwhich\u001b[0m is low\n",
      "\u001b[92mis\u001b[0m \t\t the likelihood \u001b[91m______\u001b[0m low ,\n",
      "\u001b[92mlow\u001b[0m \t\t likelihood is \u001b[91mdata\u001b[0m , we\n",
      "\u001b[92m,\u001b[0m \t\t is low \u001b[91mthe\u001b[0m we reject\n",
      "\u001b[92mwe\u001b[0m \t\t low , \u001b[91mrandom\u001b[0m reject h0\n",
      "\u001b[92mreject\u001b[0m \t\t , we \u001b[91mshall\u001b[0m h0 .\n",
      "\u001b[92mthe\u001b[0m \t\t however where \u001b[92mthe\u001b[0m sample size\n",
      "\u001b[92m<unk>\u001b[0m \t\t sample size \u001b[91mis\u001b[0m by an\n",
      "\u001b[92m<unk>\u001b[0m \t\t order of \u001b[91mdata\u001b[0m , or\n",
      "\u001b[92mwhere\u001b[0m \t\t , or \u001b[91mthat\u001b[0m it is\n",
      "\u001b[92mit\u001b[0m \t\t or where \u001b[91mthere\u001b[0m is enormous\n",
      "\u001b[92mis\u001b[0m \t\t where it \u001b[92mis\u001b[0m enormous ,\n",
      "\u001b[92menormous\u001b[0m \t it is \u001b[91mdata\u001b[0m , it\n",
      "\u001b[92m,\u001b[0m \t\t is enormous \u001b[91mthe\u001b[0m it is\n",
      "\u001b[92mit\u001b[0m \t\t enormous , \u001b[91mthere\u001b[0m is wrong\n",
      "\u001b[92mis\u001b[0m \t\t , it \u001b[92mis\u001b[0m wrong to\n",
      "\u001b[92mwrong\u001b[0m \t\t it is \u001b[91mnot\u001b[0m to identify\n",
      "\u001b[92mto\u001b[0m \t\t is wrong \u001b[92mto\u001b[0m identify the\n",
      "\u001b[92m<unk>\u001b[0m \t\t identify the \u001b[91msame\u001b[0m distinction with\n",
      "\u001b[92m<unk>\u001b[0m \t\t with the \u001b[91msame\u001b[0m one .\n",
      "\u001b[92mthe\u001b[0m \t\t proceedings of \u001b[92mthe\u001b[0m conference of\n",
      "\u001b[92mconference\u001b[0m \t of the \u001b[91mprobability\u001b[0m of the\n",
      "\u001b[92mis\u001b[0m \t\t false assumptions \u001b[91mto\u001b[0m often an\n",
      "\u001b[92m<unk>\u001b[0m \t\t often an \u001b[91mto\u001b[0m way to\n",
      "\u001b[92m<unk>\u001b[0m \t\t way to \u001b[91m)\u001b[0m ; the\n",
      "\u001b[92m<unk>\u001b[0m \t\t the problem \u001b[91mis\u001b[0m where the\n",
      "\u001b[92m<unk>\u001b[0m \t\t of the \u001b[91mprobability\u001b[0m is overlooked\n",
      "\u001b[92mlinguistics\u001b[0m \t compu- tational \u001b[92mlinguistics\u001b[0m 16 (\n",
      "\u001b[92m16\u001b[0m \t\t tational linguistics \u001b[91m2\u001b[0m ( 1\n",
      "\u001b[92m(\u001b[0m \t\t linguistics 16 \u001b[92m(\u001b[0m 1 )\n",
      "\u001b[92m1\u001b[0m \t\t 16 ( \u001b[92m1\u001b[0m ) ,\n",
      "\u001b[92mis\u001b[0m \t\t conclusion language \u001b[92mis\u001b[0m non-random and\n",
      "\u001b[92mnon-random\u001b[0m \t language is \u001b[91m______\u001b[0m and hence\n",
      "\u001b[92mand\u001b[0m \t\t is non-random \u001b[91m______\u001b[0m hence ,\n",
      "\u001b[92mhence\u001b[0m \t\t non-random and \u001b[91mdata\u001b[0m , when\n",
      "\u001b[92m,\u001b[0m \t\t and hence \u001b[91m______\u001b[0m when we\n",
      "\u001b[92mwhen\u001b[0m \t\t hence , \u001b[91mand\u001b[0m we look\n",
      "\u001b[92mwe\u001b[0m \t\t , when \u001b[91mand\u001b[0m look at\n",
      "\u001b[92mlook\u001b[0m \t\t when we \u001b[91mthe\u001b[0m at linguistic\n",
      "\u001b[92m,\u001b[0m \t\t in corpora \u001b[91mreject\u001b[0m the null\n",
      "\u001b[92mthe\u001b[0m \t\t corpora , \u001b[92mthe\u001b[0m null hypothesis\n",
      "\u001b[92mnull\u001b[0m \t\t , the \u001b[92mnull\u001b[0m hypothesis will\n",
      "\u001b[92mhypothesis\u001b[0m \t the null \u001b[92mhypothesis\u001b[0m will never\n",
      "\u001b[92mwill\u001b[0m \t\t null hypothesis \u001b[91mrandom\u001b[0m never be\n",
      "\u001b[92mnever\u001b[0m \t\t hypothesis will \u001b[92mnever\u001b[0m be true\n",
      "\u001b[92mbe\u001b[0m \t\t will never \u001b[92mbe\u001b[0m true .\n",
      "\u001b[92mnot\u001b[0m \t\t we do \u001b[91m(\u001b[0m always have\n",
      "\u001b[92malways\u001b[0m \t\t do not \u001b[91mwe\u001b[0m have enough\n",
      "\u001b[92mhave\u001b[0m \t\t not always \u001b[91min\u001b[0m enough data\n",
      "\u001b[92menough\u001b[0m \t\t always have \u001b[91mto\u001b[0m data to\n",
      "\u001b[92mdata\u001b[0m \t\t have enough \u001b[92mdata\u001b[0m to reject\n",
      "\u001b[92mto\u001b[0m \t\t enough data \u001b[92mto\u001b[0m reject the\n",
      "\u001b[92mreject\u001b[0m \t\t data to \u001b[92mreject\u001b[0m the null\n",
      "\u001b[92mthe\u001b[0m \t\t to reject \u001b[92mthe\u001b[0m null hypothesis\n",
      "\u001b[92mnull\u001b[0m \t\t reject the \u001b[92mnull\u001b[0m hypothesis ,\n",
      "\u001b[92mhypothesis\u001b[0m \t the null \u001b[92mhypothesis\u001b[0m , but\n",
      "\u001b[92m,\u001b[0m \t\t null hypothesis \u001b[91m______\u001b[0m but that\n",
      "\u001b[92mbut\u001b[0m \t\t hypothesis , \u001b[91mwhich\u001b[0m that is\n",
      "\u001b[92mthat\u001b[0m \t\t , but \u001b[91m______\u001b[0m is a\n",
      "\u001b[92m<unk>\u001b[0m \t\t is a \u001b[91mto\u001b[0m issue :\n",
      "\u001b[92mwherever\u001b[0m \t issue : \u001b[91m______\u001b[0m there is\n",
      "\u001b[92mthere\u001b[0m \t\t : wherever \u001b[92mthere\u001b[0m is enough\n",
      "\u001b[92mis\u001b[0m \t\t wherever there \u001b[92mis\u001b[0m enough data\n",
      "\u001b[92menough\u001b[0m \t\t there is \u001b[92menough\u001b[0m data ,\n",
      "\u001b[92mdata\u001b[0m \t\t is enough \u001b[92mdata\u001b[0m , it\n",
      "\u001b[92m,\u001b[0m \t\t enough data \u001b[91m______\u001b[0m it is\n",
      "\u001b[92mit\u001b[0m \t\t data , \u001b[91mthere\u001b[0m is rejected\n",
      "\u001b[92mis\u001b[0m \t\t , it \u001b[91mand\u001b[0m rejected .\n",
      "\u001b[92min\u001b[0m \t\t since words \u001b[92min\u001b[0m a text\n",
      "\u001b[92ma\u001b[0m \t\t words in \u001b[91mwhich\u001b[0m text are\n",
      "\u001b[92mtext\u001b[0m \t\t in a \u001b[91mand\u001b[0m are not\n",
      "\u001b[92mare\u001b[0m \t\t a text \u001b[91mof\u001b[0m not random\n",
      "\u001b[92mnot\u001b[0m \t\t text are \u001b[91mthe\u001b[0m random ,\n",
      "\u001b[92mrandom\u001b[0m \t\t are not \u001b[91mdata\u001b[0m , we\n",
      "\u001b[92m,\u001b[0m \t\t not random \u001b[91m______\u001b[0m we know\n",
      "\u001b[92mwe\u001b[0m \t\t random , \u001b[91mand\u001b[0m know that\n",
      "\u001b[92mknow\u001b[0m \t\t , we \u001b[91mshall\u001b[0m that our\n",
      "\u001b[92mthat\u001b[0m \t\t we know \u001b[91mand\u001b[0m our corpora\n",
      "\u001b[92mour\u001b[0m \t\t know that \u001b[91mand\u001b[0m corpora are\n",
      "\u001b[92mcorpora\u001b[0m \t that our \u001b[91m______\u001b[0m are not\n",
      "\u001b[92mare\u001b[0m \t\t our corpora \u001b[91mis\u001b[0m not randomly\n",
      "\u001b[92mnot\u001b[0m \t\t corpora are \u001b[91mthe\u001b[0m randomly generated\n",
      "\u001b[92mrandomly\u001b[0m \t are not \u001b[91mand\u001b[0m generated ,\n",
      "\u001b[92mgenerated\u001b[0m \t not randomly \u001b[91m)\u001b[0m , and\n",
      "\u001b[92m,\u001b[0m \t\t randomly generated \u001b[91m______\u001b[0m and the\n",
      "\u001b[92mand\u001b[0m \t\t generated , \u001b[91mwith\u001b[0m the hypothesis\n",
      "\u001b[92mthe\u001b[0m \t\t , and \u001b[91mnull\u001b[0m hypothesis test\n",
      "\u001b[92mhypothesis\u001b[0m \t and the \u001b[91mto\u001b[0m test con-\n",
      "\u001b[92m<unk>\u001b[0m \t\t test con- \u001b[91mfor\u001b[0m the fact\n",
      "\u001b[92m<unk>\u001b[0m \t\t cases are \u001b[91mvery\u001b[0m in section\n",
      "\u001b[92m<unk>\u001b[0m \t\t of linguistic \u001b[91m______\u001b[0m concern the\n",
      "\u001b[92m<unk>\u001b[0m \t\t the dis- \u001b[91mand\u001b[0m between a\n",
      "\u001b[92m<unk>\u001b[0m \t\t a and \u001b[91mtwo\u001b[0m a linguistic\n",
      "\u001b[92m<unk>\u001b[0m \t\t a linguistic \u001b[91mof\u001b[0m of a\n",
      "\u001b[92m<unk>\u001b[0m \t\t reason to \u001b[91mreject\u001b[0m the relation\n",
      "\u001b[92mbetween\u001b[0m \t the relation \u001b[91m)\u001b[0m , for\n",
      "\u001b[92m,\u001b[0m \t\t relation between \u001b[91m______\u001b[0m for example\n",
      "\u001b[92mfor\u001b[0m \t\t between , \u001b[91mand\u001b[0m example ,\n",
      "\u001b[92mexample\u001b[0m \t , for \u001b[91mrandom\u001b[0m , a\n",
      "\u001b[92m,\u001b[0m \t\t for example \u001b[91min\u001b[0m a verb\n",
      "\u001b[92ma\u001b[0m \t\t example , \u001b[91mand\u001b[0m verb ’\n",
      "\u001b[92mverb\u001b[0m \t\t , a \u001b[91mis\u001b[0m ’ s\n",
      "\u001b[92m’\u001b[0m \t\t a verb \u001b[92m’\u001b[0m s syntax\n",
      "\u001b[92ms\u001b[0m \t\t verb ’ \u001b[91m______\u001b[0m syntax and\n",
      "\u001b[92msyntax\u001b[0m \t\t ’ s \u001b[91m______\u001b[0m and its\n",
      "\u001b[92m<unk>\u001b[0m \t\t and its \u001b[91mdata\u001b[0m , as\n",
      "\u001b[92mmotivated\u001b[0m \t , as \u001b[91mor\u001b[0m rather than\n",
      "\u001b[92mrather\u001b[0m \t\t as motivated \u001b[91mof\u001b[0m than arbitrary\n",
      "\u001b[92mthan\u001b[0m \t\t motivated rather \u001b[91m______\u001b[0m arbitrary .\n",
      "\u001b[92mvalue\u001b[0m \t\t the average \u001b[91mconference\u001b[0m of the\n",
      "\u001b[92mof\u001b[0m \t\t average value \u001b[92mof\u001b[0m the error\n",
      "\u001b[92mthe\u001b[0m \t\t value of \u001b[92mthe\u001b[0m error term\n",
      "\u001b[92merror\u001b[0m \t\t of the \u001b[91msame\u001b[0m term ,\n",
      "\u001b[92mterm\u001b[0m \t\t the error \u001b[91mhypothesis\u001b[0m , language\n",
      "\u001b[92m,\u001b[0m \t\t error term \u001b[91mis\u001b[0m language is\n",
      "\u001b[92mlanguage\u001b[0m \t term , \u001b[92mlanguage\u001b[0m is never\n",
      "\u001b[92mis\u001b[0m \t\t , language \u001b[92mis\u001b[0m never ,\n",
      "\u001b[92mnever\u001b[0m \t\t language is \u001b[92mnever\u001b[0m , ever\n",
      "\u001b[92m,\u001b[0m \t\t is never \u001b[91m______\u001b[0m ever ,\n",
      "\u001b[92mever\u001b[0m \t\t never , \u001b[92mever\u001b[0m , ever\n",
      "\u001b[92m,\u001b[0m \t\t , ever \u001b[91m______\u001b[0m ever ,\n",
      "\u001b[92mever\u001b[0m \t\t ever , \u001b[92mever\u001b[0m , random\n",
      "\u001b[92m<unk>\u001b[0m \t\t ) 2 \u001b[91mthere\u001b[0m is then\n",
      "\u001b[92m<unk>\u001b[0m \t\t is then \u001b[91min\u001b[0m the hypothesis\n"
     ]
    },
    {
     "name": "stdout",
     "output_type": "stream",
     "text": [
      "\u001b[92m<unk>\u001b[0m \t\t can , \u001b[91mrandom\u001b[0m , be\n",
      "\u001b[92m<unk>\u001b[0m \t\t , be \u001b[91mis\u001b[0m as :\n",
      "\u001b[92mare\u001b[0m \t\t as : \u001b[91mof\u001b[0m the error\n",
      "\u001b[92mthe\u001b[0m \t\t : are \u001b[91mor\u001b[0m error terms\n",
      "\u001b[92merror\u001b[0m \t\t are the \u001b[91msame\u001b[0m terms systematically\n",
      "\u001b[92mterms\u001b[0m \t\t the error \u001b[91mterm\u001b[0m systematically greater\n",
      "\u001b[92msystematically\u001b[0m \t error terms \u001b[91mto\u001b[0m greater than\n",
      "\u001b[92mgreater\u001b[0m \t terms systematically \u001b[91mto\u001b[0m than 0.5\n",
      "\u001b[92mthan\u001b[0m \t\t systematically greater \u001b[91mthe\u001b[0m 0.5 ?\n",
      "\u001b[92m1\u001b[0m \t\t with just \u001b[91mthe\u001b[0m % of\n",
      "\u001b[92m%\u001b[0m \t\t just 1 \u001b[91mall\u001b[0m of them\n",
      "\u001b[92mof\u001b[0m \t\t 1 % \u001b[91mand\u001b[0m them ,\n",
      "\u001b[92mthem\u001b[0m \t\t % of \u001b[91mthe\u001b[0m , devastate\n",
      "\u001b[92m<unk>\u001b[0m \t\t , devastate \u001b[91m______\u001b[0m one of\n",
      "\u001b[92mthe\u001b[0m \t\t one of \u001b[92mthe\u001b[0m verbs for\n",
      "\u001b[92mverbs\u001b[0m \t\t of the \u001b[91mnull\u001b[0m for which\n",
      "\u001b[92mfor\u001b[0m \t\t the verbs \u001b[91m______\u001b[0m which we\n",
      "\u001b[92mwhich\u001b[0m \t\t verbs for \u001b[91mthe\u001b[0m we have\n",
      "\u001b[92m<unk>\u001b[0m \t\t we have \u001b[91mnumber\u001b[0m of data\n",
      "\u001b[92m<unk>\u001b[0m \t\t , and \u001b[91mand\u001b[0m thresholding methods\n",
      "\u001b[92mwill\u001b[0m \t\t thresholding methods \u001b[91m______\u001b[0m distinguish associated\n",
      "\u001b[92mdistinguish\u001b[0m \t methods will \u001b[91m______\u001b[0m associated scfs\n",
      "\u001b[92massociated\u001b[0m \t will distinguish \u001b[91mrandom\u001b[0m scfs from\n",
      "\u001b[92mscfs\u001b[0m \t\t distinguish associated \u001b[91mwith\u001b[0m from noise\n",
      "\u001b[92mfrom\u001b[0m \t\t associated scfs \u001b[91m______\u001b[0m noise .\n"
     ]
    }
   ],
   "source": [
    "\n",
    "true_positive = 0\n",
    "all_data = 0\n",
    "# Iterate through the test sentences. \n",
    "for sent in tokenized_text_test:\n",
    "    # Extract all the CBOW contexts (X) and targets (Y)\n",
    "    for w2v_io in w2v_dataset._iterator(w2v_dataset.vectorize(sent)):\n",
    "        # Retrieve the inputs and outputs.\n",
    "        x = tensor(w2v_io['x']).to(device)\n",
    "        y = tensor(w2v_io['y']).to(device)\n",
    "        \n",
    "        if -1 in x: # Skip unknown words.\n",
    "            continue\n",
    "            \n",
    "        with torch.no_grad():\n",
    "            _, prediction =  torch.max(model_5(x), 1)\n",
    "        true_positive += int(prediction) == int(y)\n",
    "        visualize_predictions(x, y, prediction, w2v_dataset.vocab, window_size=window_size)\n",
    "        all_data += 1"
   ]
  },
  {
   "cell_type": "code",
   "execution_count": 0,
   "metadata": {
    "colab": {},
    "colab_type": "code",
    "id": "4YUJqPZ7HAPB",
    "outputId": "5a656132-a709-446a-fc9e-d80de50149b3"
   },
   "outputs": [
    {
     "name": "stdout",
     "output_type": "stream",
     "text": [
      "Accuracy: 0.22127659574468084\n"
     ]
    }
   ],
   "source": [
    "print('Accuracy:', true_positive/all_data)"
   ]
  },
  {
   "cell_type": "code",
   "execution_count": 0,
   "metadata": {
    "colab": {},
    "colab_type": "code",
    "id": "ahfez391HAPC",
    "outputId": "ca734d53-ad82-4bd9-ab89-7acad3b3865a"
   },
   "outputs": [
    {
     "data": {
      "text/plain": [
       "True"
      ]
     },
     "execution_count": 66,
     "metadata": {
      "tags": []
     },
     "output_type": "execute_result"
    }
   ],
   "source": [
    "model(x).shape[1] == len(w2v_dataset.vocab)"
   ]
  },
  {
   "cell_type": "markdown",
   "metadata": {
    "colab_type": "text",
    "id": "byBffEPbHAPD"
   },
   "source": [
    "# [optional] How to Handle Unknown Words? \n",
    "\n",
    "This is not the best way to handle unknown words, but we can simply assign an index for unknown words.\n",
    "\n",
    "**Hint:** Ensure that you have `gensim` version >= 3.7.0 first. Otherwise this part of the code won't work. \n",
    "\n",
    "Try in your Python environment installation:\n",
    "\n",
    "```\n",
    "python -m pip install -U pip\n",
    "python -m pip install -U gensim>=3.7.0\n",
    "```\n",
    "\n",
    "Or within the jupyter notebook:"
   ]
  },
  {
   "cell_type": "code",
   "execution_count": 0,
   "metadata": {
    "colab": {},
    "colab_type": "code",
    "id": "OXrkv7c7HAPD",
    "outputId": "990513e6-3892-4141-eef3-aeed109069ec"
   },
   "outputs": [
    {
     "name": "stdout",
     "output_type": "stream",
     "text": [
      "\u001b[33mDEPRECATION: Python 2.7 will reach the end of its life on January 1st, 2020. Please upgrade your Python as Python 2.7 won't be maintained after that date. A future version of pip will drop support for Python 2.7.\u001b[0m\n",
      "Requirement already up-to-date: pip in /Library/Frameworks/Python.framework/Versions/2.7/lib/python2.7/site-packages (19.0.2)\n",
      "\u001b[33mDEPRECATION: Python 2.7 will reach the end of its life on January 1st, 2020. Please upgrade your Python as Python 2.7 won't be maintained after that date. A future version of pip will drop support for Python 2.7.\u001b[0m\n"
     ]
    }
   ],
   "source": [
    "!python -m pip install -U pip\n",
    "!python -m pip install -U gensim>=3.7.0"
   ]
  },
  {
   "cell_type": "markdown",
   "metadata": {
    "colab_type": "text",
    "id": "Pvz2r2H7HAPF"
   },
   "source": [
    "To check version of `gensim` after installation:"
   ]
  },
  {
   "cell_type": "code",
   "execution_count": 0,
   "metadata": {
    "colab": {},
    "colab_type": "code",
    "id": "aQ2fXMy3HAPG",
    "outputId": "7faf4593-1f8b-4048-bf3e-65c8f3748653"
   },
   "outputs": [
    {
     "data": {
      "text/plain": [
       "'3.7.0'"
      ]
     },
     "execution_count": 168,
     "metadata": {
      "tags": []
     },
     "output_type": "execute_result"
    }
   ],
   "source": [
    "import gensim\n",
    "gensim.__version__"
   ]
  },
  {
   "cell_type": "code",
   "execution_count": 0,
   "metadata": {
    "colab": {},
    "colab_type": "code",
    "id": "Lr7AsumYHAPH",
    "outputId": "0536f940-f7a0-4277-eb45-d78f6146d15d"
   },
   "outputs": [
    {
     "data": {
      "text/plain": [
       "{0: 'a', 1: 'bar', 2: 'foo', 3: 'is', 4: 'sentence', 5: 'this'}"
      ]
     },
     "execution_count": 170,
     "metadata": {
      "tags": []
     },
     "output_type": "execute_result"
    }
   ],
   "source": [
    "vocab = Dictionary(['this is a foo bar sentence'.split()])\n",
    "dict(vocab.items())"
   ]
  },
  {
   "cell_type": "code",
   "execution_count": 0,
   "metadata": {
    "colab": {},
    "colab_type": "code",
    "id": "eLLNGLkmHAPH",
    "outputId": "02b4fc5f-7a07-4a85-a1c5-11b3dd425f06"
   },
   "outputs": [
    {
     "data": {
      "text/plain": [
       "{6: 'a',\n",
       " 7: 'bar',\n",
       " 2: 'foo',\n",
       " 3: 'is',\n",
       " 4: 'sentence',\n",
       " 5: 'this',\n",
       " 0: '<pad>',\n",
       " 1: '<unk>'}"
      ]
     },
     "execution_count": 171,
     "metadata": {
      "tags": []
     },
     "output_type": "execute_result"
    }
   ],
   "source": [
    "# See https://radimrehurek.com/gensim/corpora/dictionary.html#gensim.corpora.dictionary.Dictionary.patch_with_special_tokens\n",
    "vocab = Dictionary(['this is a foo bar sentence'.split()])\n",
    "\n",
    "try:\n",
    "    special_tokens = {'<pad>': 0, '<unk>': 1}\n",
    "    vocab.patch_with_special_tokens(special_tokens)\n",
    "except: # If gensim is not 3.7.0\n",
    "    pass\n",
    "    \n",
    "dict(vocab.items())"
   ]
  },
  {
   "cell_type": "markdown",
   "metadata": {
    "colab_type": "text",
    "id": "_mSN-D1_HAPI"
   },
   "source": [
    "# [optional] Lets Rewrite the `Word2VecText` Object\n",
    "\n",
    "Now with the (i) unknown word patch in the vocabulary as well as (ii) `skipgram_iterator`"
   ]
  },
  {
   "cell_type": "code",
   "execution_count": 0,
   "metadata": {
    "colab": {},
    "colab_type": "code",
    "id": "kiHLsrp6HAPI"
   },
   "outputs": [],
   "source": [
    "class Word2VecText(Dataset):\n",
    "    def __init__(self, tokenized_texts, window_size, variant):\n",
    "        \"\"\"\n",
    "        :param tokenized_texts: Tokenized text.\n",
    "        :type tokenized_texts: list(list(str))\n",
    "        \"\"\"\n",
    "        self.sents = tokenized_texts\n",
    "        self._len = len(self.sents)\n",
    "        \n",
    "        # Add the unknown word patch here.\n",
    "        self.vocab = Dictionary(self.sents)\n",
    "        try:\n",
    "            special_tokens = {'<pad>': 0, '<unk>': 1}\n",
    "            self.vocab.patch_with_special_tokens(special_tokens)\n",
    "        except:\n",
    "            pass\n",
    "        \n",
    "        self.window_size = window_size\n",
    "        self.variant = variant\n",
    "        if variant.lower() == 'cbow':\n",
    "            self._iterator = partial(self.cbow_iterator, window_size=self.window_size)\n",
    "        elif variant.lower() == 'skipgram':\n",
    "            self._iterator = partial(self.skipgram_iterator, window_size=self.window_size)\n",
    "\n",
    "    def __getitem__(self, index):\n",
    "        \"\"\"\n",
    "        The primary entry point for PyTorch datasets.\n",
    "        This is were you access the specific data row you want.\n",
    "        \n",
    "        :param index: Index to the data point.\n",
    "        :type index: int\n",
    "        \"\"\"\n",
    "        vectorized_sent = self.vectorize(self.sents[index])\n",
    "        \n",
    "        return list(self._iterator(vectorized_sent))\n",
    "\n",
    "    def __len__(self):\n",
    "        return self._len\n",
    "    \n",
    "    def vectorize(self, tokens):\n",
    "        \"\"\"\n",
    "        :param tokens: Tokens that should be vectorized. \n",
    "        :type tokens: list(str)\n",
    "        \"\"\"\n",
    "        # See https://radimrehurek.com/gensim/corpora/dictionary.html#gensim.corpora.dictionary.Dictionary.doc2idx \n",
    "        return self.vocab.doc2idx(tokens, unknown_word_index=1)\n",
    "    \n",
    "    def unvectorize(self, indices):\n",
    "        \"\"\"\n",
    "        :param indices: Converts the indices back to tokens.\n",
    "        :type tokens: list(int)\n",
    "        \"\"\"\n",
    "        return [self.vocab[i] for i in indices]\n",
    "    \n",
    "    def cbow_iterator(self, tokens, window_size):\n",
    "        n = window_size * 2 + 1\n",
    "        for window in per_window(tokens, n):\n",
    "            target = window.pop(window_size)\n",
    "            yield {'x': window, 'y': target}   # X = window ; Y = target. \n",
    "            \n",
    "    def skipgram_iterator(self, tokens, window_size):\n",
    "        n = window_size * 2 + 1 \n",
    "        for i, window in enumerate(per_window(tokens, n)):\n",
    "            focus = window.pop(window_size)\n",
    "            # Generate positive samples.\n",
    "            for context_word in window:\n",
    "                yield {'x': (focus, context_word), 'y':1}\n",
    "            # Generate negative samples.\n",
    "            for _ in range(n-1):\n",
    "                leftovers = tokens[:i] + tokens[i+n:]\n",
    "                if leftovers:\n",
    "                    yield {'x': (focus, random.choice(leftovers)), 'y':0}\n",
    "                "
   ]
  },
  {
   "cell_type": "markdown",
   "metadata": {
    "colab_type": "text",
    "id": "eZYpe5oyHAPK"
   },
   "source": [
    "<a id=\"section-3-1-5\"></a>\n",
    "\n",
    "# Lets try the skipgram task"
   ]
  },
  {
   "cell_type": "code",
   "execution_count": 0,
   "metadata": {
    "colab": {},
    "colab_type": "code",
    "id": "KDLnpSjWHAPK"
   },
   "outputs": [],
   "source": [
    "class SkipGram(nn.Module):\n",
    "    def __init__(self, vocab_size, embd_size):\n",
    "        super(SkipGram, self).__init__()\n",
    "        self.embeddings = nn.Embedding(vocab_size, embd_size)\n",
    "    \n",
    "    def forward(self, focus, context):\n",
    "        embed_focus = self.embeddings(focus).view((1, -1))\n",
    "        embed_context = self.embeddings(context).view((1, -1))\n",
    "        # See https://pytorch.org/docs/stable/torch.html#torch.t\n",
    "        score = torch.mm(embed_focus, torch.t(embed_context))\n",
    "        log_probs = F.logsigmoid(score)\n",
    "        return log_probs"
   ]
  },
  {
   "cell_type": "markdown",
   "metadata": {
    "colab_type": "text",
    "id": "LSiH5MPkHAPK"
   },
   "source": [
    "<a id=\"section-3-1-5-foward\"></a>\n",
    "\n",
    "# Take a closer look at what's in the `forward()`"
   ]
  },
  {
   "cell_type": "code",
   "execution_count": 0,
   "metadata": {
    "colab": {},
    "colab_type": "code",
    "id": "Xyw44fdTHAPL"
   },
   "outputs": [],
   "source": [
    "xx1 = torch.rand(1,20)\n",
    "xx2 = torch.rand(1,20)\n",
    "\n",
    "xx1_numpy = xx1.detach().numpy()\n",
    "xx2_numpy = xx2.detach().numpy()"
   ]
  },
  {
   "cell_type": "code",
   "execution_count": 0,
   "metadata": {
    "colab": {},
    "colab_type": "code",
    "id": "5TaDPAuwHAPN",
    "outputId": "31359962-d996-45dc-c33b-53ad2d2fc7f3"
   },
   "outputs": [
    {
     "name": "stdout",
     "output_type": "stream",
     "text": [
      "(1, 20)\n",
      "(20, 1)\n",
      "[[5.7234097]]\n"
     ]
    }
   ],
   "source": [
    "print(xx1_numpy.shape)\n",
    "print(xx2_numpy.T.shape)\n",
    "print(np.dot(xx1_numpy, xx2_numpy.T))"
   ]
  },
  {
   "cell_type": "code",
   "execution_count": 0,
   "metadata": {
    "colab": {},
    "colab_type": "code",
    "id": "mlm-KSkfHAPQ",
    "outputId": "e54c0fc5-2b98-42be-d8f6-a750c6616ce5"
   },
   "outputs": [
    {
     "name": "stdout",
     "output_type": "stream",
     "text": [
      "torch.Size([1, 20])\n",
      "torch.Size([20, 1])\n",
      "tensor([[5.7234]])\n"
     ]
    }
   ],
   "source": [
    "print(xx1.shape)\n",
    "print(torch.t(xx2).shape) \n",
    "\n",
    "print(torch.mm(xx1, torch.t(xx2))) # "
   ]
  },
  {
   "cell_type": "markdown",
   "metadata": {
    "colab_type": "text",
    "id": "H7I5p6iiHAPQ"
   },
   "source": [
    "<a id=\"section-3-1-5-train\"></a>\n",
    "\n",
    "# Train a Skipgram model (for real)"
   ]
  },
  {
   "cell_type": "code",
   "execution_count": 0,
   "metadata": {
    "colab": {},
    "colab_type": "code",
    "id": "ARKBllDSHAPR",
    "outputId": "837743f3-e00c-4e10-cdc8-ea73ae3fa794"
   },
   "outputs": [
    {
     "name": "stderr",
     "output_type": "stream",
     "text": [
      "  1%|          | 1/100 [00:41<1:08:04, 41.26s/it]"
     ]
    },
    {
     "ename": "KeyboardInterrupt",
     "evalue": "",
     "output_type": "error",
     "traceback": [
      "\u001b[0;31m---------------------------------------------------------------------------\u001b[0m",
      "\u001b[0;31mKeyboardInterrupt\u001b[0m                         Traceback (most recent call last)",
      "\u001b[0;32m<ipython-input-177-35cae10f640a>\u001b[0m in \u001b[0;36m<module>\u001b[0;34m\u001b[0m\n\u001b[1;32m     24\u001b[0m             \u001b[0;31m# Retrieve the inputs and outputs.\u001b[0m\u001b[0;34m\u001b[0m\u001b[0;34m\u001b[0m\u001b[0m\n\u001b[1;32m     25\u001b[0m             \u001b[0mx1\u001b[0m\u001b[0;34m,\u001b[0m \u001b[0mx2\u001b[0m \u001b[0;34m=\u001b[0m \u001b[0mw2v_io\u001b[0m\u001b[0;34m[\u001b[0m\u001b[0;34m'x'\u001b[0m\u001b[0;34m]\u001b[0m\u001b[0;34m\u001b[0m\u001b[0m\n\u001b[0;32m---> 26\u001b[0;31m             \u001b[0mx1\u001b[0m\u001b[0;34m,\u001b[0m \u001b[0mx2\u001b[0m \u001b[0;34m=\u001b[0m \u001b[0mtensor\u001b[0m\u001b[0;34m(\u001b[0m\u001b[0mx1\u001b[0m\u001b[0;34m)\u001b[0m\u001b[0;34m.\u001b[0m\u001b[0mto\u001b[0m\u001b[0;34m(\u001b[0m\u001b[0mdevice\u001b[0m\u001b[0;34m)\u001b[0m\u001b[0;34m,\u001b[0m \u001b[0mtensor\u001b[0m\u001b[0;34m(\u001b[0m\u001b[0mx2\u001b[0m\u001b[0;34m)\u001b[0m\u001b[0;34m.\u001b[0m\u001b[0mto\u001b[0m\u001b[0;34m(\u001b[0m\u001b[0mdevice\u001b[0m\u001b[0;34m)\u001b[0m\u001b[0;34m\u001b[0m\u001b[0m\n\u001b[0m\u001b[1;32m     27\u001b[0m             \u001b[0my\u001b[0m \u001b[0;34m=\u001b[0m \u001b[0mautograd\u001b[0m\u001b[0;34m.\u001b[0m\u001b[0mVariable\u001b[0m\u001b[0;34m(\u001b[0m\u001b[0mtensor\u001b[0m\u001b[0;34m(\u001b[0m\u001b[0mw2v_io\u001b[0m\u001b[0;34m[\u001b[0m\u001b[0;34m'y'\u001b[0m\u001b[0;34m]\u001b[0m\u001b[0;34m,\u001b[0m \u001b[0mdtype\u001b[0m\u001b[0;34m=\u001b[0m\u001b[0mtorch\u001b[0m\u001b[0;34m.\u001b[0m\u001b[0mfloat\u001b[0m\u001b[0;34m)\u001b[0m\u001b[0;34m)\u001b[0m\u001b[0;34m.\u001b[0m\u001b[0mto\u001b[0m\u001b[0;34m(\u001b[0m\u001b[0mdevice\u001b[0m\u001b[0;34m)\u001b[0m\u001b[0;34m\u001b[0m\u001b[0m\n\u001b[1;32m     28\u001b[0m             \u001b[0;31m# Zero gradient.\u001b[0m\u001b[0;34m\u001b[0m\u001b[0;34m\u001b[0m\u001b[0m\n",
      "\u001b[0;31mKeyboardInterrupt\u001b[0m: "
     ]
    }
   ],
   "source": [
    "embd_size = 100\n",
    "learning_rate = 0.03\n",
    "hidden_size = 300\n",
    "window_size = 3\n",
    "\n",
    "# Initialize the dataset.\n",
    "w2v_dataset = Word2VecText(tokenized_text_train, window_size=3, variant='skipgram')\n",
    "vocab_size = len(w2v_dataset.vocab)\n",
    "\n",
    "criterion = nn.MSELoss()\n",
    "# Use the Skipgram object\n",
    "model = ???(vocab_size, embd_size,).to(device)\n",
    "optimizer = optim.???(model.parameters(), lr=learning_rate)\n",
    "\n",
    "losses = []\n",
    "\n",
    "model = nn.DataParallel(model)\n",
    "\n",
    "num_epochs = 100\n",
    "for _e in tqdm(range(num_epochs)):\n",
    "    epcoh_loss = 0\n",
    "    for sent_idx in range(w2v_dataset._len):\n",
    "        for w2v_io in w2v_dataset[sent_idx]:\n",
    "            # Retrieve the inputs and outputs.\n",
    "            x1, x2 = w2v_io['x']\n",
    "            x1, x2 = tensor(x1).to(device), tensor(x2).to(device)\n",
    "            y = autograd.Variable(tensor(w2v_io['y'], dtype=torch.float)).to(device)\n",
    "            # Zero gradient.\n",
    "            model.zero_grad()\n",
    "            # Calculate the log probability of the context embeddings.\n",
    "            logprobs = ???(x1, x2)\n",
    "            # This unsqueeze thing is really a feature/bug... -_-\n",
    "            loss = ???(logprobs, y.unsqueeze(0)) \n",
    "            loss.???()\n",
    "            optimizer.???()\n",
    "            epcoh_loss += float(loss)\n",
    "    torch.save(model.state_dict(), 'skipgram_checkpoint_{}.pt'.format(_e))\n",
    "    losses.append(epcoh_loss)\n",
    "\n"
   ]
  },
  {
   "cell_type": "markdown",
   "metadata": {
    "colab_type": "text",
    "id": "ISCj45lKHAPT"
   },
   "source": [
    "<a id=\"section-3-1-5-evaluate\"></a>\n",
    "\n",
    "# Evaluate the model on the skipgram task"
   ]
  },
  {
   "cell_type": "code",
   "execution_count": 0,
   "metadata": {
    "colab": {},
    "colab_type": "code",
    "id": "590qbKawHAPU"
   },
   "outputs": [],
   "source": [
    "\n",
    "true_positive = 0\n",
    "all_data = 0\n",
    "# Iterate through the test sentences. \n",
    "for sent in tokenized_text_test:\n",
    "    # Extract all the CBOW contexts (X) and targets (Y)\n",
    "    for w2v_io in w2v_dataset._iterator(w2v_dataset.vectorize(sent)):\n",
    "        model.zero_grad()\n",
    "        # Retrieve the inputs and outputs.\n",
    "        x1, x2 = w2v_io['x']\n",
    "        x1, x2 = tensor(x1), tensor(x2)\n",
    "        y = w2v_io['y']\n",
    "        _, prediction =  torch.max(model(x1, x2), 1)    \n",
    "        true_positive += int(prediction) == int(y)\n",
    "        all_data += 1"
   ]
  },
  {
   "cell_type": "code",
   "execution_count": 0,
   "metadata": {
    "colab": {},
    "colab_type": "code",
    "id": "wyFGwLo0HAPW",
    "outputId": "34adc1fd-1f7b-4884-ba3c-b749599885f9"
   },
   "outputs": [
    {
     "name": "stdout",
     "output_type": "stream",
     "text": [
      "Accuracy: 0.5\n"
     ]
    }
   ],
   "source": [
    "print('Accuracy:', true_positive/all_data)"
   ]
  },
  {
   "cell_type": "markdown",
   "metadata": {
    "colab_type": "text",
    "id": "9S1fV59wHAPY"
   },
   "source": [
    "## Download the Collobert and Weston SENNA Embeddings\n",
    "\n",
    "\n",
    "If you're on a Mac or Linux, you can use the `!` bang commands in the next cell to get the data.\n",
    "\n",
    "```\n",
    "!pip install kaggle\n",
    "!mkdir -p .kaggle\n",
    "!echo '{\"username\":\"natgillin\",\"key\":\"54ae95ab760b52c3307ed4645c6c9b5d\"}' > .kaggle/kaggle.json\n",
    "!chmod 600 .kaggle/kaggle.json\n",
    "!kaggle datasets download -d alvations/vegetables-senna-embeddings --force -p ./\n",
    "```\n",
    "\n",
    "If you're on windows go to https://www.kaggle.com/alvations/vegetables-senna-embeddings and download the data files. \n",
    "\n",
    "What's most important are the \n",
    " - `.txt` file that contains the vocabulary list\n",
    " - `.npy` file that contains the binarized numpy array\n",
    " \n",
    "The rows of the numpy array corresponds to the vocabulary in the order from the `.txt` file."
   ]
  },
  {
   "cell_type": "markdown",
   "metadata": {
    "colab_type": "text",
    "id": "MGoQhZaUHAPZ"
   },
   "source": [
    "<a id=\"section-3-1-6-vocab\"></a>\n",
    "\n",
    "\n",
    "## 3.1.6. Loading Pre-trained Embeddings\n",
    "\n",
    "Lets overwrite the `Word2VecText` object with the pretrained embeddings. \n",
    "\n",
    "Most important thing is the overwrite the `Dictionary` from `gensim` with the vocabulary of the pre-trained embeddings, as such:\n",
    "\n",
    "```python\n",
    "        # Loads the pretrained keys. \n",
    "        with open('senna.wiki-reuters.lm2.50d.txt') as fin:\n",
    "            pretrained_keys = {line.strip():i for i, line in enumerate(fin)}\n",
    "        self.vocab = Dictionary({})\n",
    "        self.vocab.token2id = pretrained_keys\n",
    "```\n"
   ]
  },
  {
   "cell_type": "code",
   "execution_count": 0,
   "metadata": {
    "colab": {},
    "colab_type": "code",
    "id": "PgibLmBxHAPZ"
   },
   "outputs": [],
   "source": [
    "class Word2VecText(Dataset):\n",
    "    def __init__(self, tokenized_texts, window_size, variant):\n",
    "        \"\"\"\n",
    "        :param tokenized_texts: Tokenized text.\n",
    "        :type tokenized_texts: list(list(str))\n",
    "        \"\"\"\n",
    "        self.sents = tokenized_texts\n",
    "        self._len = len(self.sents)\n",
    "        \n",
    "        # Loads the pretrained keys. \n",
    "        with open('senna.wiki-reuters.lm2.50d.txt') as fin:\n",
    "            pretrained_keys = {line.strip():i for i, line in enumerate(fin)}\n",
    "        self.vocab = Dictionary({})\n",
    "        self.vocab.token2id = pretrained_keys\n",
    "        \n",
    "        self.window_size = window_size\n",
    "        self.variant = variant\n",
    "        if variant.lower() == 'cbow':\n",
    "            self._iterator = partial(self.cbow_iterator, window_size=self.window_size)\n",
    "        elif variant.lower() == 'skipgram':\n",
    "            self._iterator = partial(self.skipgram_iterator, window_size=self.window_size)\n",
    "\n",
    "    def __getitem__(self, index):\n",
    "        \"\"\"\n",
    "        The primary entry point for PyTorch datasets.\n",
    "        This is were you access the specific data row you want.\n",
    "        \n",
    "        :param index: Index to the data point.\n",
    "        :type index: int\n",
    "        \"\"\"\n",
    "        vectorized_sent = self.vectorize(self.sents[index])\n",
    "        \n",
    "        return list(self._iterator(vectorized_sent))\n",
    "\n",
    "    def __len__(self):\n",
    "        return self._len\n",
    "    \n",
    "    def vectorize(self, tokens):\n",
    "        \"\"\"\n",
    "        :param tokens: Tokens that should be vectorized. \n",
    "        :type tokens: list(str)\n",
    "        \"\"\"\n",
    "        # See https://radimrehurek.com/gensim/corpora/dictionary.html#gensim.corpora.dictionary.Dictionary.doc2idx \n",
    "        return self.vocab.doc2idx(tokens, unknown_word_index=-1)\n",
    "    \n",
    "    def unvectorize(self, indices):\n",
    "        \"\"\"\n",
    "        :param indices: Converts the indices back to tokens.\n",
    "        :type tokens: list(int)\n",
    "        \"\"\"\n",
    "        return [self.vocab[i] for i in indices]\n",
    "    \n",
    "    def cbow_iterator(self, tokens, window_size):\n",
    "        n = window_size * 2 + 1\n",
    "        for window in per_window(tokens, n):\n",
    "            target = window.pop(window_size)\n",
    "            yield {'x': window, 'y': target}   # X = window ; Y = target. \n",
    "            \n",
    "    def skipgram_iterator(self, tokens, window_size):\n",
    "        n = window_size * 2 + 1 \n",
    "        for i, window in enumerate(per_window(tokens, n)):\n",
    "            focus = window.pop(window_size)\n",
    "            # Generate positive samples.\n",
    "            for context_word in window:\n",
    "                yield {'x': (focus, context_word), 'y':1}\n",
    "            # Generate negative samples.\n",
    "            for _ in range(n-1):\n",
    "                leftovers = tokens[:i] + tokens[i+n:]\n",
    "                if leftovers:\n",
    "                    yield {'x': (focus, random.choice(leftovers)), 'y':0}\n",
    "                "
   ]
  },
  {
   "cell_type": "markdown",
   "metadata": {
    "colab_type": "text",
    "id": "oXnuGFTlHAPZ"
   },
   "source": [
    "<a id=\"section-3-1-6-pretrained\"></a>\n",
    "\n",
    "## Override the embeddings layer with the pre-trained weights.\n",
    "\n",
    "In PyTorch, the weights of the `nn.Embedding` object can be easily overwritten with `from_pretrained` function, see https://pytorch.org/docs/stable/nn.html#embedding"
   ]
  },
  {
   "cell_type": "code",
   "execution_count": 0,
   "metadata": {
    "colab": {},
    "colab_type": "code",
    "id": "wpnd3WCjHAPc"
   },
   "outputs": [],
   "source": [
    "class SkipGram(nn.Module):\n",
    "    def __init__(self, pretrained_npy):\n",
    "        super(SkipGram, self).__init__()\n",
    "        self.embeddings = nn.Embedding.from_pretrained(pretrained_npy)\n",
    "    \n",
    "    def forward(self, focus, context):\n",
    "        # Put the index of the focus word into the embedding layer.\n",
    "        embed_focus = self.???(focus).view((1, -1))\n",
    "        # Put the index of the context word into the embedding layer.\n",
    "        embed_context = self.???(context).view((1, -1))\n",
    "        # See https://pytorch.org/docs/stable/torch.html#torch.t\n",
    "        # Do a matrix multiplication between the focus and context embedding\n",
    "        score = ???(embed_focus, torch.t(embed_context))\n",
    "        # Then put it through a log sigmoid activation function\n",
    "        # so that the output is between (log(0), log(1))\n",
    "        log_probs = F.???(score)\n",
    "        return log_probs"
   ]
  },
  {
   "cell_type": "code",
   "execution_count": 0,
   "metadata": {
    "colab": {},
    "colab_type": "code",
    "id": "R-i2qQprHAPe",
    "outputId": "be80b816-fa74-4003-efa8-b757f4170491"
   },
   "outputs": [
    {
     "data": {
      "text/plain": [
       "array([[-1.03682 ,  1.77856 , -0.693547, ..., -0.10278 , -0.36428 ,\n",
       "        -0.64853 ],\n",
       "       [-2.19067 ,  1.16642 , -1.91385 , ...,  0.870654, -0.33808 ,\n",
       "        -0.41957 ],\n",
       "       [ 1.16672 ,  0.811884, -0.115492, ..., -0.104843,  2.26862 ,\n",
       "         1.21729 ],\n",
       "       ...,\n",
       "       [-0.483488,  2.00359 ,  0.186266, ..., -0.114528,  1.50755 ,\n",
       "        -1.25606 ],\n",
       "       [ 0.201604,  1.15796 ,  0.888882, ..., -1.28183 ,  0.465847,\n",
       "        -1.57974 ],\n",
       "       [-0.238824,  0.443876,  0.290836, ..., -0.802705, -0.318169,\n",
       "        -1.4733  ]])"
      ]
     },
     "execution_count": 183,
     "metadata": {
      "tags": []
     },
     "output_type": "execute_result"
    }
   ],
   "source": [
    "np.load('senna.wiki-reuters.lm2.50d.npy')"
   ]
  },
  {
   "cell_type": "code",
   "execution_count": 0,
   "metadata": {
    "colab": {},
    "colab_type": "code",
    "id": "-rHad7RtHAPf"
   },
   "outputs": [],
   "source": [
    "w2v_dataset = Word2VecText(tokenized_text_train, window_size=window_size, variant='skipgram')\n",
    "pretrained_npy = torch.tensor(np.load('senna.wiki-reuters.lm2.50d.npy'))\n",
    "pretrained_model = SkipGram(pretrained_npy)"
   ]
  },
  {
   "cell_type": "markdown",
   "metadata": {
    "colab_type": "text",
    "id": "eSYkwNJLHAPf"
   },
   "source": [
    "<a id=\"section-3-1-6-eval-skipgram\"></a>\n",
    "## Test Pretrained Embeddings on the Skipgram Task"
   ]
  },
  {
   "cell_type": "code",
   "execution_count": 0,
   "metadata": {
    "colab": {},
    "colab_type": "code",
    "id": "B_8HKzdjHAPf"
   },
   "outputs": [],
   "source": [
    "true_positive = 0\n",
    "all_data = 0\n",
    "# Iterate through the test sentences. \n",
    "for sent in tokenized_text_test:\n",
    "    # Extract all the CBOW contexts (X) and targets (Y)\n",
    "    for w2v_io in w2v_dataset._iterator(w2v_dataset.vectorize(sent)):\n",
    "        pretrained_model.zero_grad()\n",
    "        # Retrieve the inputs and outputs.\n",
    "        x1, x2 = w2v_io['x']\n",
    "        if -1 in (x1, x2): # Skip unknown words.\n",
    "            continue\n",
    "        x1, x2 = tensor(x1).to(device), tensor(x2).to(device)\n",
    "        y = w2v_io['y']\n",
    "        with torch.no_grad():\n",
    "            logprobs = pretrained_model(x1, x2)\n",
    "            _, prediction =  torch.max(logprobs, 1)    \n",
    "        true_positive += int(prediction) == int(y)\n",
    "        all_data += 1"
   ]
  },
  {
   "cell_type": "code",
   "execution_count": 0,
   "metadata": {
    "colab": {},
    "colab_type": "code",
    "id": "QZLru8qVHAPg"
   },
   "outputs": [],
   "source": [
    "with open('senna.wiki-reuters.lm2.50d.txt') as fin:\n",
    "    pretrained_keys = {line.strip():i for i, line in enumerate(fin)}"
   ]
  },
  {
   "cell_type": "code",
   "execution_count": 0,
   "metadata": {
    "colab": {},
    "colab_type": "code",
    "id": "OJTV2BuDHAPh",
    "outputId": "8d90b9af-e011-4a4a-f499-141fdf8e62a6"
   },
   "outputs": [
    {
     "name": "stdout",
     "output_type": "stream",
     "text": [
      "Accuracy: 0.4996360106770201\n"
     ]
    }
   ],
   "source": [
    "print('Accuracy:', true_positive/all_data)"
   ]
  },
  {
   "cell_type": "markdown",
   "metadata": {
    "colab_type": "text",
    "id": "iqYhbv64HAPi"
   },
   "source": [
    "<a id=\"section-3-1-6-eval-cbow\"></a>\n",
    "## Test Pretrained Embeddings on the CBOW Task"
   ]
  },
  {
   "cell_type": "code",
   "execution_count": 0,
   "metadata": {
    "colab": {},
    "colab_type": "code",
    "id": "5s3_QXyGHAPi"
   },
   "outputs": [],
   "source": [
    "class CBOW(nn.Module):\n",
    "    def __init__(self, pretrained_npy, context_size, hidden_size):\n",
    "        super(CBOW, self).__init__()\n",
    "        vocab_size, embd_size = list(pretrained_npy.shape)\n",
    "        self.embeddings = nn.Embedding.from_pretrained(pretrained_npy)\n",
    "        self.linear1 = nn.Linear(2*context_size*embd_size, hidden_size)\n",
    "        self.linear2 = nn.Linear(hidden_size, vocab_size)\n",
    "        \n",
    "    def forward(self, inputs):\n",
    "        embedded = self.embeddings(inputs).float().view((1, -1))\n",
    "        hid = F.relu(self.linear1(embedded))\n",
    "        out = self.linear2(hid)\n",
    "        log_probs = F.log_softmax(out, dim=1)\n",
    "        return log_probs\n"
   ]
  },
  {
   "cell_type": "code",
   "execution_count": 0,
   "metadata": {
    "colab": {},
    "colab_type": "code",
    "id": "eRnq6bWrHAPi"
   },
   "outputs": [],
   "source": [
    "window_size = 5\n",
    "w2v_dataset = Word2VecText(tokenized_text_train, window_size=window_size, variant='cbow')\n",
    "hidden_size = 300\n",
    "pretrained_cbow_model = CBOW(pretrained_npy, window_size, hidden_size)"
   ]
  },
  {
   "cell_type": "code",
   "execution_count": 0,
   "metadata": {
    "colab": {},
    "colab_type": "code",
    "id": "fgVYr0S1HAPj",
    "outputId": "16de0d88-8917-4514-afad-828740eddbf6",
    "scrolled": true
   },
   "outputs": [
    {
     "name": "stdout",
     "output_type": "stream",
     "text": [
      "\u001b[92m:\u001b[0m \t\t the problem is essentially this \u001b[91mvictorino\u001b[0m if a word ( or\n",
      "\u001b[92mre-\u001b[0m \t\t the web is a vast \u001b[91mvenetians\u001b[0m source for many languages .\n",
      "\u001b[92mrandom\u001b[0m \t\t is that the association is \u001b[91mbhim\u001b[0m , arbitrary , motivated or\n",
      "\u001b[92m,\u001b[0m \t\t that the association is random \u001b[91mco-ordinate\u001b[0m arbitrary , motivated or pre-\n",
      "\u001b[92m<unk>\u001b[0m \t\t arbitrary , motivated or pre- \u001b[91mmasovian\u001b[0m ( r , a ,\n",
      "\u001b[92minevitably\u001b[0m \t however , their methods are \u001b[91mrecolored\u001b[0m noisy , suffering , for\n",
      "\u001b[92mnoisy\u001b[0m \t\t , their methods are inevitably \u001b[91mmid-columbia\u001b[0m , suffering , for example\n",
      "\u001b[92m,\u001b[0m \t\t their methods are inevitably noisy \u001b[91mjailbreak\u001b[0m suffering , for example ,\n",
      "\u001b[92msuffering\u001b[0m \t methods are inevitably noisy , \u001b[91mscheepbouwer\u001b[0m , for example , from\n",
      "\u001b[92m,\u001b[0m \t\t are inevitably noisy , suffering \u001b[91mlandrum\u001b[0m for example , from just\n",
      "\u001b[92mfor\u001b[0m \t\t inevitably noisy , suffering , \u001b[91moperatives\u001b[0m example , from just those\n",
      "\u001b[92mexample\u001b[0m \t noisy , suffering , for \u001b[91morihime\u001b[0m , from just those parser\n",
      "\u001b[92m,\u001b[0m \t\t , suffering , for example \u001b[91mmid-way\u001b[0m from just those parser errors\n",
      "\u001b[92mfrom\u001b[0m \t\t suffering , for example , \u001b[91mwars\u001b[0m just those parser errors that\n",
      "\u001b[92mjust\u001b[0m \t\t , for example , from \u001b[91mocracoke\u001b[0m those parser errors that the\n",
      "\u001b[92mthose\u001b[0m \t\t for example , from just \u001b[91mobayashi\u001b[0m parser errors that the whole\n",
      "\u001b[92mparser\u001b[0m \t\t example , from just those \u001b[91munsurprising\u001b[0m errors that the whole process\n",
      "\u001b[92merrors\u001b[0m \t\t , from just those parser \u001b[91msonthi\u001b[0m that the whole process is\n",
      "\u001b[92mthat\u001b[0m \t\t from just those parser errors \u001b[91mdmd\u001b[0m the whole process is designed\n",
      "\u001b[92mthe\u001b[0m \t\t just those parser errors that \u001b[91mtravelling\u001b[0m whole process is designed to\n",
      "\u001b[92mwhole\u001b[0m \t\t those parser errors that the \u001b[91mpremonstratensian\u001b[0m process is designed to address\n",
      "\u001b[92mprocess\u001b[0m \t parser errors that the whole \u001b[91mlobo\u001b[0m is designed to address ,\n",
      "\u001b[92mis\u001b[0m \t\t errors that the whole process \u001b[91mhandle\u001b[0m designed to address , and\n",
      "\u001b[92mdesigned\u001b[0m \t that the whole process is \u001b[91mlammas\u001b[0m to address , and they\n",
      "\u001b[92mto\u001b[0m \t\t the whole process is designed \u001b[91mwell-below\u001b[0m address , and they do\n",
      "\u001b[92maddress\u001b[0m \t whole process is designed to \u001b[91mzarb\u001b[0m , and they do not\n",
      "\u001b[92m,\u001b[0m \t\t process is designed to address \u001b[91msecularised\u001b[0m and they do not wish\n",
      "\u001b[92mand\u001b[0m \t\t is designed to address , \u001b[91mgenl\u001b[0m they do not wish to\n",
      "\u001b[92mthey\u001b[0m \t\t designed to address , and \u001b[91munsurprising\u001b[0m do not wish to accept\n",
      "\u001b[92mdo\u001b[0m \t\t to address , and they \u001b[91mo'rahilly\u001b[0m not wish to accept any\n",
      "\u001b[92mnot\u001b[0m \t\t address , and they do \u001b[91mmoro\u001b[0m wish to accept any scf\n",
      "\u001b[92mwish\u001b[0m \t\t , and they do not \u001b[91mpontchartrain\u001b[0m to accept any scf for\n",
      "\u001b[92mto\u001b[0m \t\t and they do not wish \u001b[91mmidd\u001b[0m accept any scf for which\n",
      "\u001b[92maccept\u001b[0m \t\t they do not wish to \u001b[91mpalus\u001b[0m any scf for which there\n",
      "\u001b[92many\u001b[0m \t\t do not wish to accept \u001b[91mgrose\u001b[0m scf for which there is\n",
      "\u001b[92mscf\u001b[0m \t\t not wish to accept any \u001b[91mdorking\u001b[0m for which there is any\n",
      "\u001b[92mfor\u001b[0m \t\t wish to accept any scf \u001b[91mladbroke\u001b[0m which there is any evidence\n",
      "\u001b[92mwhich\u001b[0m \t\t to accept any scf for \u001b[91mstriding\u001b[0m there is any evidence as\n",
      "\u001b[92mthere\u001b[0m \t\t accept any scf for which \u001b[91mquiz\u001b[0m is any evidence as a\n",
      "\u001b[92mis\u001b[0m \t\t any scf for which there \u001b[91mfahrenheit\u001b[0m any evidence as a true\n",
      "\u001b[92many\u001b[0m \t\t scf for which there is \u001b[91mteekay\u001b[0m evidence as a true scf\n",
      "\u001b[92mevidence\u001b[0m \t for which there is any \u001b[91mjanuary-november\u001b[0m as a true scf for\n",
      "\u001b[92mas\u001b[0m \t\t which there is any evidence \u001b[91mcollaborates\u001b[0m a true scf for the\n",
      "\u001b[92ma\u001b[0m \t\t there is any evidence as \u001b[91muav\u001b[0m true scf for the verb\n",
      "\u001b[92mtrue\u001b[0m \t\t is any evidence as a \u001b[91mwosz\u001b[0m scf for the verb .\n",
      "\u001b[92mthat\u001b[0m \t\t while it might seem plausible \u001b[91mpontchartrain\u001b[0m oddities would in some way\n",
      "\u001b[92moddities\u001b[0m \t it might seem plausible that \u001b[91mfungurume\u001b[0m would in some way balance\n",
      "\u001b[92mwould\u001b[0m \t\t might seem plausible that oddities \u001b[91msampoerna\u001b[0m in some way balance out\n",
      "\u001b[92min\u001b[0m \t\t seem plausible that oddities would \u001b[91mlavera\u001b[0m some way balance out to\n",
      "\u001b[92msome\u001b[0m \t\t plausible that oddities would in \u001b[91mstover\u001b[0m way balance out to give\n",
      "\u001b[92mway\u001b[0m \t\t that oddities would in some \u001b[91mzheng\u001b[0m balance out to give a\n",
      "\u001b[92m<unk>\u001b[0m \t\t balance out to give a \u001b[91mblick\u001b[0m tion that was indistinguishable from\n",
      "\u001b[92mone\u001b[0m \t\t tion that was indistinguishable from \u001b[91mpiasecki\u001b[0m where the individual words (\n",
      "\u001b[92mwhere\u001b[0m \t\t that was indistinguishable from one \u001b[91mwelt\u001b[0m the individual words ( as\n",
      "\u001b[92mthe\u001b[0m \t\t was indistinguishable from one where \u001b[91mvalenti\u001b[0m individual words ( as opposed\n",
      "\u001b[92mindividual\u001b[0m \t indistinguishable from one where the \u001b[91melectricians\u001b[0m words ( as opposed to\n",
      "\u001b[92mwords\u001b[0m \t\t from one where the individual \u001b[91mbartram\u001b[0m ( as opposed to the\n",
      "\u001b[92m(\u001b[0m \t\t one where the individual words \u001b[91mpager\u001b[0m as opposed to the texts\n",
      "\u001b[92mas\u001b[0m \t\t where the individual words ( \u001b[91mconall\u001b[0m opposed to the texts )\n",
      "\u001b[92mopposed\u001b[0m \t the individual words ( as \u001b[91mtok'ra\u001b[0m to the texts ) had\n",
      "\u001b[92mto\u001b[0m \t\t individual words ( as opposed \u001b[91mteekay\u001b[0m the texts ) had been\n",
      "\u001b[92mthe\u001b[0m \t\t words ( as opposed to \u001b[91mblick\u001b[0m texts ) had been randomly\n",
      "\u001b[92mtexts\u001b[0m \t\t ( as opposed to the \u001b[91marche\u001b[0m ) had been randomly selected\n",
      "\u001b[92m)\u001b[0m \t\t as opposed to the texts \u001b[91mpolygons\u001b[0m had been randomly selected ,\n",
      "\u001b[92mhad\u001b[0m \t\t opposed to the texts ) \u001b[91magitator\u001b[0m been randomly selected , this\n",
      "\u001b[92mbeen\u001b[0m \t\t to the texts ) had \u001b[91memv\u001b[0m randomly selected , this turns\n",
      "\u001b[92mrandomly\u001b[0m \t the texts ) had been \u001b[91mchartres\u001b[0m selected , this turns out\n",
      "\u001b[92mselected\u001b[0m \t texts ) had been randomly \u001b[91mbarenboim\u001b[0m , this turns out not\n",
      "\u001b[92m,\u001b[0m \t\t ) had been randomly selected \u001b[91mkreuzer\u001b[0m this turns out not to\n",
      "\u001b[92mthis\u001b[0m \t\t had been randomly selected , \u001b[91mbild\u001b[0m turns out not to be\n",
      "\u001b[92mturns\u001b[0m \t\t been randomly selected , this \u001b[91mromance\u001b[0m out not to be the\n",
      "\u001b[92mout\u001b[0m \t\t randomly selected , this turns \u001b[91mphp0\u001b[0m not to be the case\n",
      "\u001b[92mnot\u001b[0m \t\t selected , this turns out \u001b[91mrekindle\u001b[0m to be the case .\n",
      "\u001b[92mvaries\u001b[0m \t\t however where the sample size \u001b[91mvictorias\u001b[0m by an order of magnitude\n",
      "\u001b[92mby\u001b[0m \t\t where the sample size varies \u001b[91mgoverning\u001b[0m an order of magnitude ,\n",
      "\u001b[92man\u001b[0m \t\t the sample size varies by \u001b[91mlammas\u001b[0m order of magnitude , or\n",
      "\u001b[92morder\u001b[0m \t\t sample size varies by an \u001b[91mstaats\u001b[0m of magnitude , or where\n",
      "\u001b[92mof\u001b[0m \t\t size varies by an order \u001b[91mpredecessor\u001b[0m magnitude , or where it\n",
      "\u001b[92mmagnitude\u001b[0m \t varies by an order of \u001b[91msalm\u001b[0m , or where it is\n",
      "\u001b[92m,\u001b[0m \t\t by an order of magnitude \u001b[91minvested\u001b[0m or where it is enormous\n",
      "\u001b[92mor\u001b[0m \t\t an order of magnitude , \u001b[91mhibiscus\u001b[0m where it is enormous ,\n",
      "\u001b[92mwhere\u001b[0m \t\t order of magnitude , or \u001b[91mwoo-suk\u001b[0m it is enormous , it\n",
      "\u001b[92mit\u001b[0m \t\t of magnitude , or where \u001b[91mshipp\u001b[0m is enormous , it is\n",
      "\u001b[92mis\u001b[0m \t\t magnitude , or where it \u001b[91mthree-mile\u001b[0m enormous , it is wrong\n",
      "\u001b[92menormous\u001b[0m \t , or where it is \u001b[91mal-bayan\u001b[0m , it is wrong to\n",
      "\u001b[92m,\u001b[0m \t\t or where it is enormous \u001b[91munsurprising\u001b[0m it is wrong to identify\n",
      "\u001b[92mit\u001b[0m \t\t where it is enormous , \u001b[91mwittman\u001b[0m is wrong to identify the\n",
      "\u001b[92mthe\u001b[0m \t\t proceedings of the conference of \u001b[91mbookrunner\u001b[0m south-central sas users group ,\n",
      "\u001b[92man\u001b[0m \t\t making false assumptions is often \u001b[91mmappings\u001b[0m ingenious way to proceed ;\n",
      "\u001b[92mingenious\u001b[0m \t false assumptions is often an \u001b[91mdespatched\u001b[0m way to proceed ; the\n",
      "\u001b[92mway\u001b[0m \t\t assumptions is often an ingenious \u001b[91m'how\u001b[0m to proceed ; the problem\n",
      "\u001b[92mto\u001b[0m \t\t is often an ingenious way \u001b[91mrimantas\u001b[0m proceed ; the problem arises\n",
      "\u001b[92mproceed\u001b[0m \t often an ingenious way to \u001b[91matoll\u001b[0m ; the problem arises where\n",
      "\u001b[92m;\u001b[0m \t\t an ingenious way to proceed \u001b[91mbunzl\u001b[0m the problem arises where the\n",
      "\u001b[92mthe\u001b[0m \t\t ingenious way to proceed ; \u001b[91mthuringowa\u001b[0m problem arises where the literal\n",
      "\u001b[92mproblem\u001b[0m \t way to proceed ; the \u001b[91mtok'ra\u001b[0m arises where the literal falsity\n",
      "\u001b[92marises\u001b[0m \t\t to proceed ; the problem \u001b[91mmystere\u001b[0m where the literal falsity of\n",
      "\u001b[92mwhere\u001b[0m \t\t proceed ; the problem arises \u001b[91mentangle\u001b[0m the literal falsity of the\n",
      "\u001b[92mthe\u001b[0m \t\t ; the problem arises where \u001b[91mgrauman\u001b[0m literal falsity of the assumption\n",
      "\u001b[92mliteral\u001b[0m \t the problem arises where the \u001b[91mtok'ra\u001b[0m falsity of the assumption is\n",
      "\u001b[92mfalsity\u001b[0m \t problem arises where the literal \u001b[91mmeow\u001b[0m of the assumption is overlooked\n",
      "\u001b[92mof\u001b[0m \t\t arises where the literal falsity \u001b[91mreigning\u001b[0m the assumption is overlooked ,\n"
     ]
    },
    {
     "name": "stdout",
     "output_type": "stream",
     "text": [
      "\u001b[92mthe\u001b[0m \t\t where the literal falsity of \u001b[91mvltava\u001b[0m assumption is overlooked , and\n",
      "\u001b[92m<unk>\u001b[0m \t\t assumption is overlooked , and \u001b[91mpalestinans\u001b[0m ate inferences are drawn .\n",
      "\u001b[92m<unk>\u001b[0m \t\t when we look at linguistic \u001b[91munsurprising\u001b[0m ena in corpora , the\n",
      "\u001b[92mnull\u001b[0m \t\t ena in corpora , the \u001b[91mnussbaum\u001b[0m hypothesis will never be true\n",
      "\u001b[92mhypothesis\u001b[0m \t in corpora , the null \u001b[91mteamed\u001b[0m will never be true .\n",
      "\u001b[92menough\u001b[0m \t\t we do not always have \u001b[91mpensioners\u001b[0m data to reject the null\n",
      "\u001b[92mdata\u001b[0m \t\t do not always have enough \u001b[91mmearns\u001b[0m to reject the null hypothesis\n",
      "\u001b[92mto\u001b[0m \t\t not always have enough data \u001b[91m'dirty\u001b[0m reject the null hypothesis ,\n",
      "\u001b[92mreject\u001b[0m \t\t always have enough data to \u001b[91mgesury\u001b[0m the null hypothesis , but\n",
      "\u001b[92mthe\u001b[0m \t\t have enough data to reject \u001b[91mfidonet\u001b[0m null hypothesis , but that\n",
      "\u001b[92mnull\u001b[0m \t\t enough data to reject the \u001b[91mbabenberg\u001b[0m hypothesis , but that is\n",
      "\u001b[92mhypothesis\u001b[0m \t data to reject the null \u001b[91mrecolored\u001b[0m , but that is a\n",
      "\u001b[92m,\u001b[0m \t\t to reject the null hypothesis \u001b[91moba\u001b[0m but that is a distinct\n",
      "\u001b[92mbut\u001b[0m \t\t reject the null hypothesis , \u001b[91mdistrustful\u001b[0m that is a distinct issue\n",
      "\u001b[92mthat\u001b[0m \t\t the null hypothesis , but \u001b[91mmaroc\u001b[0m is a distinct issue :\n",
      "\u001b[92mis\u001b[0m \t\t null hypothesis , but that \u001b[91mbinaural\u001b[0m a distinct issue : wherever\n",
      "\u001b[92ma\u001b[0m \t\t hypothesis , but that is \u001b[91meuromerchant\u001b[0m distinct issue : wherever there\n",
      "\u001b[92mdistinct\u001b[0m \t , but that is a \u001b[91mmalkin\u001b[0m issue : wherever there is\n",
      "\u001b[92missue\u001b[0m \t\t but that is a distinct \u001b[91mbelated\u001b[0m : wherever there is enough\n",
      "\u001b[92m:\u001b[0m \t\t that is a distinct issue \u001b[91mseagram\u001b[0m wherever there is enough data\n",
      "\u001b[92mwherever\u001b[0m \t is a distinct issue : \u001b[91msoir\u001b[0m there is enough data ,\n",
      "\u001b[92mthere\u001b[0m \t\t a distinct issue : wherever \u001b[91mwithered\u001b[0m is enough data , it\n",
      "\u001b[92mis\u001b[0m \t\t distinct issue : wherever there \u001b[91mavestan\u001b[0m enough data , it is\n",
      "\u001b[92menough\u001b[0m \t\t issue : wherever there is \u001b[91msuccumbs\u001b[0m data , it is rejected\n",
      "\u001b[92mdata\u001b[0m \t\t : wherever there is enough \u001b[91memesa\u001b[0m , it is rejected .\n",
      "\u001b[92mare\u001b[0m \t\t since words in a text \u001b[91mpiasecki\u001b[0m not random , we know\n",
      "\u001b[92mnot\u001b[0m \t\t words in a text are \u001b[91mphysiognomy\u001b[0m random , we know that\n",
      "\u001b[92mrandom\u001b[0m \t\t in a text are not \u001b[91mcriticised\u001b[0m , we know that our\n",
      "\u001b[92m,\u001b[0m \t\t a text are not random \u001b[91moperatives\u001b[0m we know that our corpora\n",
      "\u001b[92mwe\u001b[0m \t\t text are not random , \u001b[91mdn#\u001b[0m know that our corpora are\n",
      "\u001b[92mknow\u001b[0m \t\t are not random , we \u001b[91mquiz\u001b[0m that our corpora are not\n",
      "\u001b[92mthat\u001b[0m \t\t not random , we know \u001b[91mkreuzer\u001b[0m our corpora are not randomly\n",
      "\u001b[92mour\u001b[0m \t\t random , we know that \u001b[91mmotorcades\u001b[0m corpora are not randomly generated\n",
      "\u001b[92mcorpora\u001b[0m \t , we know that our \u001b[91maktuelt\u001b[0m are not randomly generated ,\n",
      "\u001b[92mare\u001b[0m \t\t we know that our corpora \u001b[91mmueang\u001b[0m not randomly generated , and\n",
      "\u001b[92mnot\u001b[0m \t\t know that our corpora are \u001b[91mwattoo\u001b[0m randomly generated , and the\n",
      "\u001b[92mrandomly\u001b[0m \t that our corpora are not \u001b[91meraiba\u001b[0m generated , and the hypothesis\n",
      "\u001b[92mgenerated\u001b[0m \t our corpora are not randomly \u001b[91mjew\u001b[0m , and the hypothesis test\n",
      "\u001b[92mthe\u001b[0m \t\t gives us reason to view \u001b[91mcoulthard\u001b[0m relation between , for example\n",
      "\u001b[92mrelation\u001b[0m \t us reason to view the \u001b[91mlondinium\u001b[0m between , for example ,\n",
      "\u001b[92mbetween\u001b[0m \t reason to view the relation \u001b[91mwral\u001b[0m , for example , a\n",
      "\u001b[92m,\u001b[0m \t\t to view the relation between \u001b[91mworkup\u001b[0m for example , a verb\n",
      "\u001b[92m<unk>\u001b[0m \t\t for example , a verb \u001b[91mnewmar\u001b[0m s syntax and its semantics\n",
      "\u001b[92m,\u001b[0m \t\t s syntax and its semantics \u001b[91mmmbg\u001b[0m as motivated rather than arbitrary\n",
      "\u001b[92mas\u001b[0m \t\t syntax and its semantics , \u001b[91mlocative\u001b[0m motivated rather than arbitrary .\n",
      "\u001b[92merror\u001b[0m \t\t the average value of the \u001b[91mdrastically\u001b[0m term , language is never\n",
      "\u001b[92mterm\u001b[0m \t\t average value of the error \u001b[91mullevi\u001b[0m , language is never ,\n",
      "\u001b[92m,\u001b[0m \t\t value of the error term \u001b[91mblick\u001b[0m language is never , ever\n",
      "\u001b[92mlanguage\u001b[0m \t of the error term , \u001b[91mrecolored\u001b[0m is never , ever ,\n",
      "\u001b[92mis\u001b[0m \t\t the error term , language \u001b[91mblick\u001b[0m never , ever , ever\n",
      "\u001b[92mnever\u001b[0m \t\t error term , language is \u001b[91mmaru\u001b[0m , ever , ever ,\n",
      "\u001b[92m,\u001b[0m \t\t term , language is never \u001b[91mantananarivo\u001b[0m ever , ever , random\n",
      "\u001b[92m,\u001b[0m \t\t the hypothesis can , therefore \u001b[91msteamship\u001b[0m be couched as : are\n",
      "\u001b[92mbe\u001b[0m \t\t hypothesis can , therefore , \u001b[91msolder\u001b[0m couched as : are the\n",
      "\u001b[92mcouched\u001b[0m \t can , therefore , be \u001b[91mlammas\u001b[0m as : are the error\n",
      "\u001b[92mas\u001b[0m \t\t , therefore , be couched \u001b[91m----\u001b[0m : are the error terms\n",
      "\u001b[92m:\u001b[0m \t\t therefore , be couched as \u001b[91mcos0\u001b[0m are the error terms systematically\n",
      "\u001b[92mare\u001b[0m \t\t , be couched as : \u001b[91mreflex\u001b[0m the error terms systematically greater\n",
      "\u001b[92mthe\u001b[0m \t\t be couched as : are \u001b[91mmoro\u001b[0m error terms systematically greater than\n",
      "\u001b[92mbecomes\u001b[0m \t % of them , devastate \u001b[91mitsekiri\u001b[0m one of the verbs for\n",
      "\u001b[92mone\u001b[0m \t\t of them , devastate becomes \u001b[91mteekay\u001b[0m of the verbs for which\n",
      "\u001b[92mof\u001b[0m \t\t them , devastate becomes one \u001b[91mrecolored\u001b[0m the verbs for which we\n",
      "\u001b[92mthe\u001b[0m \t\t , devastate becomes one of \u001b[91minterplanetary\u001b[0m verbs for which we have\n",
      "\u001b[92mverbs\u001b[0m \t\t devastate becomes one of the \u001b[91mhankook\u001b[0m for which we have plenty\n",
      "\u001b[92mfor\u001b[0m \t\t becomes one of the verbs \u001b[91mmosenergo\u001b[0m which we have plenty of\n",
      "\u001b[92mwhich\u001b[0m \t\t one of the verbs for \u001b[91mstover\u001b[0m we have plenty of data\n",
      "\u001b[92mwe\u001b[0m \t\t of the verbs for which \u001b[91mnarbonensis\u001b[0m have plenty of data ,\n",
      "\u001b[92mhave\u001b[0m \t\t the verbs for which we \u001b[91mbloch\u001b[0m plenty of data , and\n",
      "\u001b[92mplenty\u001b[0m \t\t verbs for which we have \u001b[91msolti\u001b[0m of data , and crude\n"
     ]
    }
   ],
   "source": [
    "\n",
    "true_positive = 0\n",
    "all_data = 0\n",
    "# Iterate through the test sentences. \n",
    "for sent in tokenized_text_test:\n",
    "    # Extract all the CBOW contexts (X) and targets (Y)\n",
    "    for w2v_io in w2v_dataset._iterator(w2v_dataset.vectorize(sent)):\n",
    "        # Retrieve the inputs and outputs.\n",
    "        x = tensor(w2v_io['x']).to(device)\n",
    "        y = tensor(w2v_io['y']).to(device)\n",
    "        \n",
    "        if -1 in x: # Skip unknown words.\n",
    "            continue\n",
    "        with torch.no_grad():\n",
    "            _, prediction =  torch.max(pretrained_cbow_model(x), 1)\n",
    "        true_positive += int(prediction) == int(y)\n",
    "        visualize_predictions(x, y, prediction, w2v_dataset.vocab, window_size=window_size)\n",
    "        all_data += 1"
   ]
  },
  {
   "cell_type": "code",
   "execution_count": 0,
   "metadata": {
    "colab": {},
    "colab_type": "code",
    "id": "eRmLeM9-HAPk",
    "outputId": "2a727ef6-0d7a-42d2-81c3-258493823af3"
   },
   "outputs": [
    {
     "name": "stdout",
     "output_type": "stream",
     "text": [
      "Accuracy: 0.0\n"
     ]
    }
   ],
   "source": [
    "print('Accuracy:', true_positive/all_data)"
   ]
  },
  {
   "cell_type": "markdown",
   "metadata": {
    "colab_type": "text",
    "id": "uPYRyVP4HAPl"
   },
   "source": [
    "<a id=\"section-3-1-6-unfreeze-finetune\"></a>\n",
    "## Unfreeze the Embedddings and Tune it on the CBOW Task"
   ]
  },
  {
   "cell_type": "code",
   "execution_count": 0,
   "metadata": {
    "colab": {},
    "colab_type": "code",
    "id": "R4cUE4nTHAPl",
    "outputId": "ec962a3c-d9c8-4abe-b7fd-2849e17e150d"
   },
   "outputs": [
    {
     "ename": "NameError",
     "evalue": "name 'nn' is not defined",
     "output_type": "error",
     "traceback": [
      "\u001b[0;31m---------------------------------------------------------------------------\u001b[0m",
      "\u001b[0;31mNameError\u001b[0m                                 Traceback (most recent call last)",
      "\u001b[0;32m<ipython-input-1-a461e43c6728>\u001b[0m in \u001b[0;36m<module>\u001b[0;34m\u001b[0m\n\u001b[0;32m----> 1\u001b[0;31m \u001b[0;32mclass\u001b[0m \u001b[0mCBOW\u001b[0m\u001b[0;34m(\u001b[0m\u001b[0mnn\u001b[0m\u001b[0;34m.\u001b[0m\u001b[0mModule\u001b[0m\u001b[0;34m)\u001b[0m\u001b[0;34m:\u001b[0m\u001b[0;34m\u001b[0m\u001b[0m\n\u001b[0m\u001b[1;32m      2\u001b[0m     \u001b[0;32mdef\u001b[0m \u001b[0m__init__\u001b[0m\u001b[0;34m(\u001b[0m\u001b[0mself\u001b[0m\u001b[0;34m,\u001b[0m \u001b[0mpretrained_npy\u001b[0m\u001b[0;34m,\u001b[0m \u001b[0mcontext_size\u001b[0m\u001b[0;34m,\u001b[0m \u001b[0mhidden_size\u001b[0m\u001b[0;34m)\u001b[0m\u001b[0;34m:\u001b[0m\u001b[0;34m\u001b[0m\u001b[0m\n\u001b[1;32m      3\u001b[0m         \u001b[0msuper\u001b[0m\u001b[0;34m(\u001b[0m\u001b[0mCBOW\u001b[0m\u001b[0;34m,\u001b[0m \u001b[0mself\u001b[0m\u001b[0;34m)\u001b[0m\u001b[0;34m.\u001b[0m\u001b[0m__init__\u001b[0m\u001b[0;34m(\u001b[0m\u001b[0;34m)\u001b[0m\u001b[0;34m\u001b[0m\u001b[0m\n\u001b[1;32m      4\u001b[0m         \u001b[0mvocab_size\u001b[0m\u001b[0;34m,\u001b[0m \u001b[0membd_size\u001b[0m \u001b[0;34m=\u001b[0m \u001b[0mlist\u001b[0m\u001b[0;34m(\u001b[0m\u001b[0mpretrained_npy\u001b[0m\u001b[0;34m.\u001b[0m\u001b[0mshape\u001b[0m\u001b[0;34m)\u001b[0m\u001b[0;34m\u001b[0m\u001b[0m\n\u001b[1;32m      5\u001b[0m         \u001b[0;31m# See https://pytorch.org/docs/stable/nn.html#torch.nn.Embedding.from_pretrained\u001b[0m\u001b[0;34m\u001b[0m\u001b[0;34m\u001b[0m\u001b[0m\n",
      "\u001b[0;31mNameError\u001b[0m: name 'nn' is not defined"
     ]
    }
   ],
   "source": [
    "class CBOW(nn.Module):\n",
    "    def __init__(self, pretrained_npy, context_size, hidden_size):\n",
    "        super(CBOW, self).__init__()\n",
    "        vocab_size, embd_size = list(pretrained_npy.shape)\n",
    "        # See https://pytorch.org/docs/stable/nn.html#torch.nn.Embedding.from_pretrained\n",
    "        # Note the `freeze=False`, by default if you use `nn.Embedding.from_pretrained(),\n",
    "        # `freeze` is set to True\n",
    "        self.embeddings = nn.Embedding.from_pretrained(pretrained_npy, freeze=False)\n",
    "        self.linear1 = nn.Linear(2*context_size*embd_size, hidden_size)\n",
    "        self.linear2 = nn.Linear(hidden_size, vocab_size)\n",
    "        \n",
    "    def forward(self, inputs):\n",
    "        embedded = self.embeddings(inputs).float().view((1, -1))\n",
    "        hid = F.relu(self.linear1(embedded))\n",
    "        out = self.linear2(hid)\n",
    "        log_probs = F.log_softmax(out, dim=1)\n",
    "        return log_probs\n"
   ]
  },
  {
   "cell_type": "code",
   "execution_count": 0,
   "metadata": {
    "colab": {},
    "colab_type": "code",
    "id": "UfwppYi8HAPm",
    "outputId": "c31a71a9-9f22-4391-f102-cc3ef672ce45"
   },
   "outputs": [
    {
     "ename": "NameError",
     "evalue": "name 'Word2VecText' is not defined",
     "output_type": "error",
     "traceback": [
      "\u001b[0;31m---------------------------------------------------------------------------\u001b[0m",
      "\u001b[0;31mNameError\u001b[0m                                 Traceback (most recent call last)",
      "\u001b[0;32m<ipython-input-2-985992808650>\u001b[0m in \u001b[0;36m<module>\u001b[0;34m\u001b[0m\n\u001b[1;32m      1\u001b[0m \u001b[0mwindow_size\u001b[0m \u001b[0;34m=\u001b[0m \u001b[0;36m2\u001b[0m\u001b[0;34m\u001b[0m\u001b[0m\n\u001b[0;32m----> 2\u001b[0;31m \u001b[0mw2v_dataset\u001b[0m \u001b[0;34m=\u001b[0m \u001b[0mWord2VecText\u001b[0m\u001b[0;34m(\u001b[0m\u001b[0mtokenized_text_train\u001b[0m\u001b[0;34m,\u001b[0m \u001b[0mwindow_size\u001b[0m\u001b[0;34m=\u001b[0m\u001b[0mwindow_size\u001b[0m\u001b[0;34m,\u001b[0m \u001b[0mvariant\u001b[0m\u001b[0;34m=\u001b[0m\u001b[0;34m'cbow'\u001b[0m\u001b[0;34m)\u001b[0m\u001b[0;34m\u001b[0m\u001b[0m\n\u001b[0m\u001b[1;32m      3\u001b[0m \u001b[0mhidden_size\u001b[0m \u001b[0;34m=\u001b[0m \u001b[0;36m300\u001b[0m\u001b[0;34m\u001b[0m\u001b[0m\n\u001b[1;32m      4\u001b[0m \u001b[0mpretrained_cbow_model\u001b[0m \u001b[0;34m=\u001b[0m \u001b[0mCBOW\u001b[0m\u001b[0;34m(\u001b[0m\u001b[0mpretrained_npy\u001b[0m\u001b[0;34m,\u001b[0m \u001b[0mwindow_size\u001b[0m\u001b[0;34m,\u001b[0m \u001b[0mhidden_size\u001b[0m\u001b[0;34m)\u001b[0m\u001b[0;34m\u001b[0m\u001b[0m\n",
      "\u001b[0;31mNameError\u001b[0m: name 'Word2VecText' is not defined"
     ]
    }
   ],
   "source": [
    "window_size = 2 \n",
    "w2v_dataset = Word2VecText(tokenized_text_train, window_size=window_size, variant='cbow')\n",
    "hidden_size = 300\n",
    "pretrained_cbow_model = CBOW(pretrained_npy, window_size, hidden_size)"
   ]
  },
  {
   "cell_type": "code",
   "execution_count": 0,
   "metadata": {
    "colab": {},
    "colab_type": "code",
    "id": "vpQbKw8iHAPm",
    "outputId": "7eb62122-8c66-4444-be79-831edb3fbd97"
   },
   "outputs": [
    {
     "name": "stderr",
     "output_type": "stream",
     "text": [
      "\n",
      "  0%|          | 0/100 [00:00<?, ?it/s]\u001b[A\n",
      "\u001b[A"
     ]
    },
    {
     "ename": "KeyboardInterrupt",
     "evalue": "",
     "output_type": "error",
     "traceback": [
      "\u001b[0;31m---------------------------------------------------------------------------\u001b[0m",
      "\u001b[0;31mKeyboardInterrupt\u001b[0m                         Traceback (most recent call last)",
      "\u001b[0;32m<ipython-input-194-4f84802592bd>\u001b[0m in \u001b[0;36m<module>\u001b[0;34m\u001b[0m\n\u001b[1;32m     24\u001b[0m             \u001b[0;31m# This unsqueeze thing is really a feature/bug... -_-\u001b[0m\u001b[0;34m\u001b[0m\u001b[0;34m\u001b[0m\u001b[0m\n\u001b[1;32m     25\u001b[0m             \u001b[0mloss\u001b[0m \u001b[0;34m=\u001b[0m \u001b[0mcriterion\u001b[0m\u001b[0;34m(\u001b[0m\u001b[0mlogprobs\u001b[0m\u001b[0;34m,\u001b[0m \u001b[0my\u001b[0m\u001b[0;34m.\u001b[0m\u001b[0munsqueeze\u001b[0m\u001b[0;34m(\u001b[0m\u001b[0;36m0\u001b[0m\u001b[0;34m)\u001b[0m\u001b[0;34m)\u001b[0m\u001b[0;34m\u001b[0m\u001b[0m\n\u001b[0;32m---> 26\u001b[0;31m             \u001b[0mloss\u001b[0m\u001b[0;34m.\u001b[0m\u001b[0mbackward\u001b[0m\u001b[0;34m(\u001b[0m\u001b[0;34m)\u001b[0m\u001b[0;34m\u001b[0m\u001b[0m\n\u001b[0m\u001b[1;32m     27\u001b[0m             \u001b[0moptimizer\u001b[0m\u001b[0;34m.\u001b[0m\u001b[0mstep\u001b[0m\u001b[0;34m(\u001b[0m\u001b[0;34m)\u001b[0m\u001b[0;34m\u001b[0m\u001b[0m\n\u001b[1;32m     28\u001b[0m             \u001b[0mepoch_loss\u001b[0m\u001b[0;34m.\u001b[0m\u001b[0mappend\u001b[0m\u001b[0;34m(\u001b[0m\u001b[0mfloat\u001b[0m\u001b[0;34m(\u001b[0m\u001b[0mloss\u001b[0m\u001b[0;34m)\u001b[0m\u001b[0;34m)\u001b[0m\u001b[0;34m\u001b[0m\u001b[0m\n",
      "\u001b[0;32m/Library/Frameworks/Python.framework/Versions/3.6/lib/python3.6/site-packages/torch/tensor.py\u001b[0m in \u001b[0;36mbackward\u001b[0;34m(self, gradient, retain_graph, create_graph)\u001b[0m\n\u001b[1;32m    100\u001b[0m                 \u001b[0mproducts\u001b[0m\u001b[0;34m.\u001b[0m \u001b[0mDefaults\u001b[0m \u001b[0mto\u001b[0m\u001b[0;31m \u001b[0m\u001b[0;31m`\u001b[0m\u001b[0;31m`\u001b[0m\u001b[0;32mFalse\u001b[0m\u001b[0;31m`\u001b[0m\u001b[0;31m`\u001b[0m\u001b[0;34m.\u001b[0m\u001b[0;34m\u001b[0m\u001b[0m\n\u001b[1;32m    101\u001b[0m         \"\"\"\n\u001b[0;32m--> 102\u001b[0;31m         \u001b[0mtorch\u001b[0m\u001b[0;34m.\u001b[0m\u001b[0mautograd\u001b[0m\u001b[0;34m.\u001b[0m\u001b[0mbackward\u001b[0m\u001b[0;34m(\u001b[0m\u001b[0mself\u001b[0m\u001b[0;34m,\u001b[0m \u001b[0mgradient\u001b[0m\u001b[0;34m,\u001b[0m \u001b[0mretain_graph\u001b[0m\u001b[0;34m,\u001b[0m \u001b[0mcreate_graph\u001b[0m\u001b[0;34m)\u001b[0m\u001b[0;34m\u001b[0m\u001b[0m\n\u001b[0m\u001b[1;32m    103\u001b[0m \u001b[0;34m\u001b[0m\u001b[0m\n\u001b[1;32m    104\u001b[0m     \u001b[0;32mdef\u001b[0m \u001b[0mregister_hook\u001b[0m\u001b[0;34m(\u001b[0m\u001b[0mself\u001b[0m\u001b[0;34m,\u001b[0m \u001b[0mhook\u001b[0m\u001b[0;34m)\u001b[0m\u001b[0;34m:\u001b[0m\u001b[0;34m\u001b[0m\u001b[0m\n",
      "\u001b[0;32m/Library/Frameworks/Python.framework/Versions/3.6/lib/python3.6/site-packages/torch/autograd/__init__.py\u001b[0m in \u001b[0;36mbackward\u001b[0;34m(tensors, grad_tensors, retain_graph, create_graph, grad_variables)\u001b[0m\n\u001b[1;32m     88\u001b[0m     Variable._execution_engine.run_backward(\n\u001b[1;32m     89\u001b[0m         \u001b[0mtensors\u001b[0m\u001b[0;34m,\u001b[0m \u001b[0mgrad_tensors\u001b[0m\u001b[0;34m,\u001b[0m \u001b[0mretain_graph\u001b[0m\u001b[0;34m,\u001b[0m \u001b[0mcreate_graph\u001b[0m\u001b[0;34m,\u001b[0m\u001b[0;34m\u001b[0m\u001b[0m\n\u001b[0;32m---> 90\u001b[0;31m         allow_unreachable=True)  # allow_unreachable flag\n\u001b[0m\u001b[1;32m     91\u001b[0m \u001b[0;34m\u001b[0m\u001b[0m\n\u001b[1;32m     92\u001b[0m \u001b[0;34m\u001b[0m\u001b[0m\n",
      "\u001b[0;31mKeyboardInterrupt\u001b[0m: "
     ]
    }
   ],
   "source": [
    "learning_rate = 0.003\n",
    "criterion = nn.NLLLoss()\n",
    "optimizer = optim.SGD(pretrained_cbow_model.parameters(), lr=learning_rate)\n",
    "\n",
    "losses = []\n",
    "\n",
    "model = nn.DataParallel(pretrained_cbow_model)\n",
    "\n",
    "num_epochs = 100\n",
    "for _e in tqdm(range(num_epochs)):\n",
    "    epoch_loss = []\n",
    "    for sent_idx in range(w2v_dataset._len):\n",
    "        for w2v_io in w2v_dataset[sent_idx]:\n",
    "            # Retrieve the inputs and outputs.\n",
    "            x = tensor(w2v_io['x']).to(device)\n",
    "            y = autograd.Variable(tensor(w2v_io['y'], dtype=torch.long)).to(device)\n",
    "            \n",
    "            if -1 in x or int(y) == -1:\n",
    "                continue\n",
    "            # Zero gradient.\n",
    "            model.zero_grad()\n",
    "            # Calculate the log probability of the context embeddings.\n",
    "            logprobs = pretrained_cbow_model(x)\n",
    "            # This unsqueeze thing is really a feature/bug... -_-\n",
    "            loss = criterion(logprobs, y.unsqueeze(0)) \n",
    "            loss.backward()\n",
    "            optimizer.step()\n",
    "            epoch_loss.append(float(loss))\n",
    "    # Save model after every epoch.\n",
    "    torch.save(model.state_dict(), 'cbow_finetuning_checkpoint_{}.pt'.format(_e))\n",
    "    losses.append(sum(epoch_loss)/len(epoch_loss))\n",
    "\n"
   ]
  },
  {
   "cell_type": "markdown",
   "metadata": {
    "colab_type": "text",
    "id": "WTKWhnDXHAPn"
   },
   "source": [
    "<a id=\"section-3-1-6-reval-cbow\"></a>\n",
    "\n",
    "## Re-Test Pretrained Embeddings on the CBOW Task"
   ]
  },
  {
   "cell_type": "code",
   "execution_count": 0,
   "metadata": {
    "colab": {},
    "colab_type": "code",
    "id": "mKmkIvpeHAPn"
   },
   "outputs": [],
   "source": [
    "\n",
    "true_positive = 0\n",
    "all_data = 0\n",
    "# Iterate through the test sentences. \n",
    "for sent in tokenized_text_test:\n",
    "    # Extract all the CBOW contexts (X) and targets (Y)\n",
    "    for w2v_io in w2v_dataset._iterator(w2v_dataset.vectorize(sent)):\n",
    "        # Retrieve the inputs and outputs.\n",
    "        x = tensor(w2v_io['x']).to(device)\n",
    "        y = tensor(w2v_io['y']).to(device)\n",
    "        \n",
    "        if -1 in x: # Skip unknown words.\n",
    "            continue\n",
    "        with torch.no_grad():\n",
    "            _, prediction =  torch.max(pretrained_cbow_model(x), 1)\n",
    "        true_positive += int(prediction) == int(y)\n",
    "        visualize_predictions(x, y, prediction, w2v_dataset.vocab, window_size=window_size)\n",
    "        all_data += 1"
   ]
  },
  {
   "cell_type": "code",
   "execution_count": 0,
   "metadata": {
    "colab": {},
    "colab_type": "code",
    "id": "RtTOg58JHAPo",
    "outputId": "17789194-c928-4e7f-88d6-892e0af1b30c"
   },
   "outputs": [
    {
     "ename": "ZeroDivisionError",
     "evalue": "division by zero",
     "output_type": "error",
     "traceback": [
      "\u001b[0;31m---------------------------------------------------------------------------\u001b[0m",
      "\u001b[0;31mZeroDivisionError\u001b[0m                         Traceback (most recent call last)",
      "\u001b[0;32m<ipython-input-117-a1fbc309b646>\u001b[0m in \u001b[0;36m<module>\u001b[0;34m\u001b[0m\n\u001b[0;32m----> 1\u001b[0;31m \u001b[0mprint\u001b[0m\u001b[0;34m(\u001b[0m\u001b[0;34m'Accuracy:'\u001b[0m\u001b[0;34m,\u001b[0m \u001b[0mtrue_positive\u001b[0m\u001b[0;34m/\u001b[0m\u001b[0mall_data\u001b[0m\u001b[0;34m)\u001b[0m\u001b[0;34m\u001b[0m\u001b[0m\n\u001b[0m",
      "\u001b[0;31mZeroDivisionError\u001b[0m: division by zero"
     ]
    }
   ],
   "source": [
    "print('Accuracy:', true_positive/all_data)"
   ]
  },
  {
   "cell_type": "code",
   "execution_count": 0,
   "metadata": {
    "colab": {},
    "colab_type": "code",
    "id": "ang2rfTtHAPp"
   },
   "outputs": [],
   "source": []
  },
  {
   "cell_type": "code",
   "execution_count": 0,
   "metadata": {
    "colab": {},
    "colab_type": "code",
    "id": "XRGV62gLHAPq"
   },
   "outputs": [],
   "source": []
  }
 ],
 "metadata": {
  "colab": {
   "collapsed_sections": [
    "7wLms84nHlmc",
    "4euuHE2ZHlmg",
    "dNiCSpQjHlmu",
    "xFyT-2C7Hlmx",
    "NfiJsVXfHlne",
    "JljjG8wPHlnq",
    "g5FFlCOxHloZ",
    "eJZPBd_eHloc",
    "SjnIlUDeHlpH",
    "_Lcv5kLPHlpW",
    "YwizIFgnHlpf",
    "UD-HOa8AHlpo",
    "opZKKtIKHlpu",
    "v3oQzqhoHlpv",
    "mabiO5n1Hlpx",
    "TouRhGbDHlp5",
    "40WxV7F6HlqD",
    "G02TvHoqHlqD",
    "QQbNKqJBHlqG",
    "5Ps4hXZPHlqK",
    "wkMi05XVHlqR",
    "bxSp00OXHlqc",
    "E6QkNPykHlqm"
   ],
   "name": "Session3.ipynb",
   "provenance": [],
   "version": "0.3.2"
  },
  "kernelspec": {
   "display_name": "Python 3",
   "language": "python",
   "name": "python3"
  },
  "language_info": {
   "codemirror_mode": {
    "name": "ipython",
    "version": 3
   },
   "file_extension": ".py",
   "mimetype": "text/x-python",
   "name": "python",
   "nbconvert_exporter": "python",
   "pygments_lexer": "ipython3",
   "version": "3.6.4rc1"
  }
 },
 "nbformat": 4,
 "nbformat_minor": 1
}
